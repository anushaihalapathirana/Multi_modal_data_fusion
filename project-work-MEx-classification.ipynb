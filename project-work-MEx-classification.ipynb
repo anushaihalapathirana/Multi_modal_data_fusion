{
 "cells": [
  {
   "cell_type": "markdown",
   "metadata": {
    "nbgrader": {
     "grade": false,
     "grade_id": "cell-708d46d3f9180abe",
     "locked": true,
     "schema_version": 3,
     "solution": false
    }
   },
   "source": [
    "# Multi-Modal Data Fusion - Project Work: Multi-Modal Physical Exercise Classification\n",
    "\n",
    "\n",
    "In this project, real multi-modal data is studied by utilizing different techniques presented during the course. In addition, there is an optional task to try some different approaches to identify persons from the same dataset. Open MEx dataset from UCI machine learning repository is used. Idea is to apply different techniques to recognize physical exercises from wearable sensors and depth camera, user-independently."
   ]
  },
  {
   "cell_type": "markdown",
   "metadata": {},
   "source": [
    "## Author(s)\n",
    "Add your information here\n",
    "\n",
    "Name: Anusha Ihalapathirana\n",
    "\n",
    "Student number:"
   ]
  },
  {
   "cell_type": "markdown",
   "metadata": {
    "nbgrader": {
     "grade": false,
     "grade_id": "cell-32738734cf6f1a4f",
     "locked": true,
     "schema_version": 3,
     "solution": false
    }
   },
   "source": [
    "## Description \n",
    "\n",
    "The goal of this project is to develop user-independent pre-processing and classification models to recognize 7 different physical exercises measured by accelerometer (attached to subject's thigh) and depth camera (above the subject facing downwards recording an aerial view). All the exercises were performed subject lying down on the mat. Original dataset have also another acceleration sensor and pressure-sensitive mat, but those two modalities are ommited in this project. There are totally 30 subjects in the original dataset, and in this work subset of 10 person is utilized. Detailed description of the dataset and original data can be access in [MEx dataset @ UCI machine learning repository](https://archive.ics.uci.edu/ml/datasets/MEx#). We are providing the subset of dataset in Moodle.\n",
    "\n",
    "The project work is divided on following phases:\n",
    "\n",
    "1. Data preparation, exploration, and visualization\n",
    "2. Feature extraction and unimodal fusion for classification\n",
    "3. Feature extraction and feature-level fusion for multimodal classification\n",
    "4. Decision-level fusion for multimodal classification\n",
    "5. Bonus task: Multimodal biometric identification of persons\n",
    "\n",
    "where 1-4 are compulsory (max. 10 points each), and 5 is optional to get bonus points (max. 5+5 points). In each phase, you should visualize and analyse the results and document the work and findings properly by text blocks and figures between the code. <b> Nice looking </b> and <b> informative </b> notebook representing your results and analysis will be part of the grading in addition to actual implementation.\n",
    "\n",
    "The results are validated using confusion matrices and F1 scores. F1 macro score is given as \n",
    "<br>\n",
    "<br>\n",
    "$\n",
    "\\begin{equation}\n",
    "F1_{macro} = \\frac{1}{N} \\sum_i^N F1_i,\n",
    "\\end{equation}\n",
    "$\n",
    "<br>\n",
    "<br>\n",
    "where $F1_i = 2  \\frac{precision_i * recall_i}{precision_i + recall_i}$, and $N$ is the number of classes.\n",
    "<br>\n",
    "\n",
    "## Learning goals \n",
    "\n",
    "After the project work, you should  \n",
    "\n",
    "- be able to study real world multi-modal data\n",
    "- be able to apply different data fusion techniques to real-world problem\n",
    "- be able to evaluate the results\n",
    "- be able to analyse the outcome\n",
    "- be able to document your work properly\n",
    "\n",
    "## Relevant lectures\n",
    "\n",
    "Lectures 1-8\n",
    "\n",
    "## Relevant exercises\n",
    "\n",
    "Exercises 0-6\n",
    "\n",
    "## Relevant chapters in course book\n",
    "\n",
    "Chapter 1-14\n",
    "\n",
    "## Additional Material \n",
    "\n",
    "* Original dataset [MEx dataset @ UCI machine learning repository](https://archive.ics.uci.edu/ml/datasets/MEx#)\n",
    "* Related scientific article [MEx: Multi-modal Exercises Dataset for Human Activity Recognition](https://arxiv.org/pdf/1908.08992.pdf)"
   ]
  },
  {
   "cell_type": "markdown",
   "metadata": {
    "nbgrader": {
     "grade": false,
     "grade_id": "cell-7e096db2d9e8c24e",
     "locked": true,
     "schema_version": 3,
     "solution": false
    }
   },
   "source": [
    "# 1. Data preparation, exploration, and visualization"
   ]
  },
  {
   "cell_type": "markdown",
   "metadata": {
    "nbgrader": {
     "grade": false,
     "grade_id": "cell-bacbb8f5ae7a2e4d",
     "locked": true,
     "schema_version": 3,
     "solution": false,
     "task": false
    }
   },
   "source": [
    "<a id='task1'></a>\n",
    "<div class=\" alert alert-warning\">\n",
    "    <b>Assigment.</b> <b>Task 1.</b>\n",
    "\n",
    "Download data from the Moodle's Project section. Get yourself familiar with the folder structure and data. You can read the data files using the function given below. Each file consists one exercise type performed by single user. Data are divided on multiple folders. Note that, in each folder there is one long sequence of single exercise, except exercise 4 which is performed two times in different ways. Those two sequences belongs to same class. Do the following subtasks to pre-analyse data examples and to prepare the training and testing data for next tasks:\n",
    "<br>\n",
    "<br> \n",
    "<p> Read raw data from the files. Prepare and divide each data file to shorter sequences using windowing method. Similar to related article \"MEx: Multi-modal Exercises Dataset for Human Activity Recognition\", use 5 second window and 3 second overlapping between windows, producing several example sequences from one exercise file for classification purposes. Windowing is working so that starting from the beginning of each long exercise sequence, take 5 seconds of data points (from synchronized acceleration data and depth images) based on the time stamps. Next, move the window 2 seconds forward and take another 5 seconds of data. Then continue this until your are at the end of sequence. Each window will consists 500x3 matrix of acceleration data and 5x192 matrix of depth image data.</p>\n",
    "<br>  \n",
    "<p> <b>1.1</b> Plot few examples of prepared data for each modalities (accelometer and depth camera). Plot acceleration sensor as multi-dimensional time-series and depth camera data as 2D image. Plot 5 second acceleration sensor and depth image sequences of person 1 and 5 performing exercises 2, 5, and 6. Take the first windowed example from the long exercise sequence. </p>\n",
    "<br>\n",
    "<p> <b>1.2</b> Split the prepared dataset to training and testing datasets so that data of persons 1-7 are used for training and data of persons 8-10 are used for testing. In next tasks, training dataset could be further divided on (multiple) validation data folds to tune the models parameters, when needed.<br>\n",
    "    \n",
    "<p> Note: Training set should have 1486 windows and testing set should have 598 windows. In training set, acceleration data will have a window without a pair with depth camera data, that window should be dropped as it doesn't have a pair.<p>\n",
    "    \n",
    "    \n",
    "    \n",
    "    \n",
    "Document your work, calculate the indicator statistics of training and testing datasets (number of examples, dimensions of each example) and visualize prepared examples.\n",
    "\n",
    "</div>"
   ]
  },
  {
   "cell_type": "code",
   "execution_count": 1,
   "metadata": {},
   "outputs": [],
   "source": [
    "# Import relevant libraries here\n",
    "from pathlib import Path\n",
    "from copy import deepcopy\n",
    "import numpy as np\n",
    "import pandas as pd\n",
    "\n",
    "# Enter data folder location\n",
    "loc = \"./MEx\""
   ]
  },
  {
   "cell_type": "code",
   "execution_count": 2,
   "metadata": {
    "nbgrader": {
     "grade": false,
     "grade_id": "cell-5b805f4284f1480c",
     "locked": true,
     "schema_version": 3,
     "solution": false,
     "task": false
    }
   },
   "outputs": [
    {
     "name": "stdout",
     "output_type": "stream",
     "text": [
      "Total records found: 160\n",
      "Dataframe with all records:\n"
     ]
    },
    {
     "data": {
      "text/html": [
       "<div>\n",
       "<style scoped>\n",
       "    .dataframe tbody tr th:only-of-type {\n",
       "        vertical-align: middle;\n",
       "    }\n",
       "\n",
       "    .dataframe tbody tr th {\n",
       "        vertical-align: top;\n",
       "    }\n",
       "\n",
       "    .dataframe thead th {\n",
       "        text-align: right;\n",
       "    }\n",
       "</style>\n",
       "<table border=\"1\" class=\"dataframe\">\n",
       "  <thead>\n",
       "    <tr style=\"text-align: right;\">\n",
       "      <th></th>\n",
       "      <th>subject_id</th>\n",
       "      <th>exercise_id</th>\n",
       "      <th>trial</th>\n",
       "      <th>sensor_code</th>\n",
       "      <th>sensor</th>\n",
       "      <th>df</th>\n",
       "    </tr>\n",
       "  </thead>\n",
       "  <tbody>\n",
       "    <tr>\n",
       "      <th>0</th>\n",
       "      <td>01</td>\n",
       "      <td>01</td>\n",
       "      <td>1</td>\n",
       "      <td>act</td>\n",
       "      <td>acc</td>\n",
       "      <td>time     acc_0     acc_1     acc_2\n",
       "0 ...</td>\n",
       "    </tr>\n",
       "    <tr>\n",
       "      <th>1</th>\n",
       "      <td>01</td>\n",
       "      <td>02</td>\n",
       "      <td>1</td>\n",
       "      <td>act</td>\n",
       "      <td>acc</td>\n",
       "      <td>time     acc_0     acc_1     acc_2\n",
       "0 ...</td>\n",
       "    </tr>\n",
       "    <tr>\n",
       "      <th>2</th>\n",
       "      <td>01</td>\n",
       "      <td>03</td>\n",
       "      <td>1</td>\n",
       "      <td>act</td>\n",
       "      <td>acc</td>\n",
       "      <td>time     acc_0     acc_1    acc_2\n",
       "0  ...</td>\n",
       "    </tr>\n",
       "    <tr>\n",
       "      <th>3</th>\n",
       "      <td>01</td>\n",
       "      <td>04</td>\n",
       "      <td>1</td>\n",
       "      <td>act</td>\n",
       "      <td>acc</td>\n",
       "      <td>time     acc_0    acc_1     acc_2\n",
       "0  ...</td>\n",
       "    </tr>\n",
       "    <tr>\n",
       "      <th>4</th>\n",
       "      <td>01</td>\n",
       "      <td>04</td>\n",
       "      <td>2</td>\n",
       "      <td>act</td>\n",
       "      <td>acc</td>\n",
       "      <td>time     acc_0     acc_1     acc_2\n",
       "0 ...</td>\n",
       "    </tr>\n",
       "  </tbody>\n",
       "</table>\n",
       "</div>"
      ],
      "text/plain": [
       "  subject_id exercise_id  trial sensor_code sensor  \\\n",
       "0         01          01      1         act    acc   \n",
       "1         01          02      1         act    acc   \n",
       "2         01          03      1         act    acc   \n",
       "3         01          04      1         act    acc   \n",
       "4         01          04      2         act    acc   \n",
       "\n",
       "                                                  df  \n",
       "0           time     acc_0     acc_1     acc_2\n",
       "0 ...  \n",
       "1           time     acc_0     acc_1     acc_2\n",
       "0 ...  \n",
       "2           time     acc_0     acc_1    acc_2\n",
       "0  ...  \n",
       "3           time     acc_0    acc_1     acc_2\n",
       "0  ...  \n",
       "4           time     acc_0     acc_1     acc_2\n",
       "0 ...  "
      ]
     },
     "metadata": {},
     "output_type": "display_data"
    },
    {
     "name": "stdout",
     "output_type": "stream",
     "text": [
      "Dataframe with one measurement series:\n"
     ]
    },
    {
     "data": {
      "text/html": [
       "<div>\n",
       "<style scoped>\n",
       "    .dataframe tbody tr th:only-of-type {\n",
       "        vertical-align: middle;\n",
       "    }\n",
       "\n",
       "    .dataframe tbody tr th {\n",
       "        vertical-align: top;\n",
       "    }\n",
       "\n",
       "    .dataframe thead th {\n",
       "        text-align: right;\n",
       "    }\n",
       "</style>\n",
       "<table border=\"1\" class=\"dataframe\">\n",
       "  <thead>\n",
       "    <tr style=\"text-align: right;\">\n",
       "      <th></th>\n",
       "      <th>time</th>\n",
       "      <th>acc_0</th>\n",
       "      <th>acc_1</th>\n",
       "      <th>acc_2</th>\n",
       "    </tr>\n",
       "  </thead>\n",
       "  <tbody>\n",
       "    <tr>\n",
       "      <th>0</th>\n",
       "      <td>0.0</td>\n",
       "      <td>-0.515625</td>\n",
       "      <td>-0.843750</td>\n",
       "      <td>-0.131944</td>\n",
       "    </tr>\n",
       "    <tr>\n",
       "      <th>1</th>\n",
       "      <td>10.0</td>\n",
       "      <td>-0.515625</td>\n",
       "      <td>-0.853125</td>\n",
       "      <td>-0.134375</td>\n",
       "    </tr>\n",
       "    <tr>\n",
       "      <th>2</th>\n",
       "      <td>20.0</td>\n",
       "      <td>-0.515625</td>\n",
       "      <td>-0.850000</td>\n",
       "      <td>-0.140625</td>\n",
       "    </tr>\n",
       "    <tr>\n",
       "      <th>3</th>\n",
       "      <td>30.0</td>\n",
       "      <td>-0.515625</td>\n",
       "      <td>-0.862500</td>\n",
       "      <td>-0.150000</td>\n",
       "    </tr>\n",
       "    <tr>\n",
       "      <th>4</th>\n",
       "      <td>40.0</td>\n",
       "      <td>-0.525000</td>\n",
       "      <td>-0.856250</td>\n",
       "      <td>-0.156250</td>\n",
       "    </tr>\n",
       "  </tbody>\n",
       "</table>\n",
       "</div>"
      ],
      "text/plain": [
       "   time     acc_0     acc_1     acc_2\n",
       "0   0.0 -0.515625 -0.843750 -0.131944\n",
       "1  10.0 -0.515625 -0.853125 -0.134375\n",
       "2  20.0 -0.515625 -0.850000 -0.140625\n",
       "3  30.0 -0.515625 -0.862500 -0.150000\n",
       "4  40.0 -0.525000 -0.856250 -0.156250"
      ]
     },
     "metadata": {},
     "output_type": "display_data"
    }
   ],
   "source": [
    "def path_to_meta(p):\n",
    "    meta = dict()\n",
    "    meta[\"subject_id\"] = p.parent.stem\n",
    "    meta[\"exercise_id\"] = p.stem.split(\"_\")[-2]\n",
    "    meta[\"trial\"] = int(p.stem.split(\"_\")[-1])\n",
    "    meta[\"sensor_code\"] = p.stem.split(\"_\")[0]\n",
    "    meta[\"sensor\"] = {\"act\": \"acc\", \"dc\": \"dc\"}[meta[\"sensor_code\"]]\n",
    "    return meta\n",
    "\n",
    "# Find, read, and compose the measurements\n",
    "paths_record = Path(loc).glob(\"*/*/*.csv\")\n",
    "\n",
    "records = []\n",
    "\n",
    "for path_record in paths_record:\n",
    "    df = pd.read_csv(path_record, delimiter=\",\", header=None)\n",
    "    meta = path_to_meta(path_record)\n",
    "    \n",
    "    if meta[\"sensor\"] == \"acc\":\n",
    "        # \"time\", \"x\", \"y\", \"z\"\n",
    "        col_names = [\"time\", \"acc_0\", \"acc_1\", \"acc_2\"]\n",
    "        df.columns = col_names\n",
    "    else:\n",
    "        num_cols = df.shape[1]\n",
    "        col_names = [\"time\", ] + [f\"dc_{i}\" for i in range(num_cols-1)]\n",
    "        df.columns = col_names\n",
    "\n",
    "    meta[\"df\"] = df\n",
    "    \n",
    "    records.append(meta)\n",
    "    \n",
    "df_records = pd.DataFrame.from_records(records)\n",
    "\n",
    "print(f\"Total records found: {len(df_records)}\")\n",
    "print(\"Dataframe with all records:\")\n",
    "display(df_records.head())\n",
    "print(\"Dataframe with one measurement series:\")\n",
    "display(df_records[\"df\"].iloc[0].head())"
   ]
  },
  {
   "cell_type": "code",
   "execution_count": 3,
   "metadata": {
    "nbgrader": {
     "grade": false,
     "grade_id": "cell-e8aebacdeb29d491",
     "locked": true,
     "schema_version": 3,
     "solution": false,
     "task": false
    }
   },
   "outputs": [
    {
     "name": "stdout",
     "output_type": "stream",
     "text": [
      "Total windows extracted: 4169\n",
      "Dataframe with all windowed records:\n"
     ]
    },
    {
     "data": {
      "text/html": [
       "<div>\n",
       "<style scoped>\n",
       "    .dataframe tbody tr th:only-of-type {\n",
       "        vertical-align: middle;\n",
       "    }\n",
       "\n",
       "    .dataframe tbody tr th {\n",
       "        vertical-align: top;\n",
       "    }\n",
       "\n",
       "    .dataframe thead th {\n",
       "        text-align: right;\n",
       "    }\n",
       "</style>\n",
       "<table border=\"1\" class=\"dataframe\">\n",
       "  <thead>\n",
       "    <tr style=\"text-align: right;\">\n",
       "      <th></th>\n",
       "      <th>subject_id</th>\n",
       "      <th>exercise_id</th>\n",
       "      <th>trial</th>\n",
       "      <th>sensor_code</th>\n",
       "      <th>sensor</th>\n",
       "      <th>df</th>\n",
       "      <th>window_idx</th>\n",
       "    </tr>\n",
       "  </thead>\n",
       "  <tbody>\n",
       "    <tr>\n",
       "      <th>0</th>\n",
       "      <td>01</td>\n",
       "      <td>01</td>\n",
       "      <td>1</td>\n",
       "      <td>act</td>\n",
       "      <td>acc</td>\n",
       "      <td>time     acc_0     acc_1     acc_2\n",
       "0   ...</td>\n",
       "      <td>0</td>\n",
       "    </tr>\n",
       "    <tr>\n",
       "      <th>1</th>\n",
       "      <td>01</td>\n",
       "      <td>01</td>\n",
       "      <td>1</td>\n",
       "      <td>act</td>\n",
       "      <td>acc</td>\n",
       "      <td>time     acc_0     acc_1     acc_2\n",
       "200 ...</td>\n",
       "      <td>1</td>\n",
       "    </tr>\n",
       "    <tr>\n",
       "      <th>2</th>\n",
       "      <td>01</td>\n",
       "      <td>01</td>\n",
       "      <td>1</td>\n",
       "      <td>act</td>\n",
       "      <td>acc</td>\n",
       "      <td>time     acc_0     acc_1     acc_2\n",
       "400 ...</td>\n",
       "      <td>2</td>\n",
       "    </tr>\n",
       "    <tr>\n",
       "      <th>3</th>\n",
       "      <td>01</td>\n",
       "      <td>01</td>\n",
       "      <td>1</td>\n",
       "      <td>act</td>\n",
       "      <td>acc</td>\n",
       "      <td>time     acc_0     acc_1     acc_2\n",
       "60...</td>\n",
       "      <td>3</td>\n",
       "    </tr>\n",
       "    <tr>\n",
       "      <th>4</th>\n",
       "      <td>01</td>\n",
       "      <td>01</td>\n",
       "      <td>1</td>\n",
       "      <td>act</td>\n",
       "      <td>acc</td>\n",
       "      <td>time     acc_0     acc_1     acc_2\n",
       "80...</td>\n",
       "      <td>4</td>\n",
       "    </tr>\n",
       "  </tbody>\n",
       "</table>\n",
       "</div>"
      ],
      "text/plain": [
       "  subject_id exercise_id  trial sensor_code sensor  \\\n",
       "0         01          01      1         act    acc   \n",
       "1         01          01      1         act    acc   \n",
       "2         01          01      1         act    acc   \n",
       "3         01          01      1         act    acc   \n",
       "4         01          01      1         act    acc   \n",
       "\n",
       "                                                  df  window_idx  \n",
       "0         time     acc_0     acc_1     acc_2\n",
       "0   ...           0  \n",
       "1         time     acc_0     acc_1     acc_2\n",
       "200 ...           1  \n",
       "2         time     acc_0     acc_1     acc_2\n",
       "400 ...           2  \n",
       "3           time     acc_0     acc_1     acc_2\n",
       "60...           3  \n",
       "4           time     acc_0     acc_1     acc_2\n",
       "80...           4  "
      ]
     },
     "metadata": {},
     "output_type": "display_data"
    },
    {
     "name": "stdout",
     "output_type": "stream",
     "text": [
      "Dataframe with one windowed measurement series:\n"
     ]
    },
    {
     "data": {
      "text/html": [
       "<div>\n",
       "<style scoped>\n",
       "    .dataframe tbody tr th:only-of-type {\n",
       "        vertical-align: middle;\n",
       "    }\n",
       "\n",
       "    .dataframe tbody tr th {\n",
       "        vertical-align: top;\n",
       "    }\n",
       "\n",
       "    .dataframe thead th {\n",
       "        text-align: right;\n",
       "    }\n",
       "</style>\n",
       "<table border=\"1\" class=\"dataframe\">\n",
       "  <thead>\n",
       "    <tr style=\"text-align: right;\">\n",
       "      <th></th>\n",
       "      <th>time</th>\n",
       "      <th>acc_0</th>\n",
       "      <th>acc_1</th>\n",
       "      <th>acc_2</th>\n",
       "    </tr>\n",
       "  </thead>\n",
       "  <tbody>\n",
       "    <tr>\n",
       "      <th>0</th>\n",
       "      <td>0.0</td>\n",
       "      <td>-0.515625</td>\n",
       "      <td>-0.843750</td>\n",
       "      <td>-0.131944</td>\n",
       "    </tr>\n",
       "    <tr>\n",
       "      <th>1</th>\n",
       "      <td>10.0</td>\n",
       "      <td>-0.515625</td>\n",
       "      <td>-0.853125</td>\n",
       "      <td>-0.134375</td>\n",
       "    </tr>\n",
       "    <tr>\n",
       "      <th>2</th>\n",
       "      <td>20.0</td>\n",
       "      <td>-0.515625</td>\n",
       "      <td>-0.850000</td>\n",
       "      <td>-0.140625</td>\n",
       "    </tr>\n",
       "    <tr>\n",
       "      <th>3</th>\n",
       "      <td>30.0</td>\n",
       "      <td>-0.515625</td>\n",
       "      <td>-0.862500</td>\n",
       "      <td>-0.150000</td>\n",
       "    </tr>\n",
       "    <tr>\n",
       "      <th>4</th>\n",
       "      <td>40.0</td>\n",
       "      <td>-0.525000</td>\n",
       "      <td>-0.856250</td>\n",
       "      <td>-0.156250</td>\n",
       "    </tr>\n",
       "  </tbody>\n",
       "</table>\n",
       "</div>"
      ],
      "text/plain": [
       "   time     acc_0     acc_1     acc_2\n",
       "0   0.0 -0.515625 -0.843750 -0.131944\n",
       "1  10.0 -0.515625 -0.853125 -0.134375\n",
       "2  20.0 -0.515625 -0.850000 -0.140625\n",
       "3  30.0 -0.515625 -0.862500 -0.150000\n",
       "4  40.0 -0.525000 -0.856250 -0.156250"
      ]
     },
     "metadata": {},
     "output_type": "display_data"
    }
   ],
   "source": [
    "# Extract 5-second long windows with 2-second shift (3-second overlap)\n",
    "\n",
    "records_windowed = []\n",
    "\n",
    "time_window = 5000.\n",
    "time_offset = 2000.\n",
    "    \n",
    "for row_idx, row_data in df_records.iterrows():\n",
    "    df_tmp = row_data[\"df\"]\n",
    "    time_start = np.min(df_tmp[\"time\"].to_numpy())\n",
    "    time_end = np.max(df_tmp[\"time\"].to_numpy())\n",
    "    \n",
    "    for window_idx, t0 in enumerate(np.arange(time_start, time_end, time_offset)):\n",
    "        t1 = t0 + time_window\n",
    "        # Handle boundary conditions - skip the measurements from the end shorter than window size\n",
    "        if t1 > time_end:\n",
    "            continue\n",
    "        \n",
    "        tmp_data = deepcopy(row_data)\n",
    "        tmp_data[\"window_idx\"] = window_idx\n",
    "        tmp_data[\"df\"] = df_tmp[(df_tmp[\"time\"] >= t0) &\n",
    "                                (df_tmp[\"time\"] < t1)].copy()\n",
    "        \n",
    "        records_windowed.append(tmp_data)\n",
    "        \n",
    "df_records_windowed = pd.DataFrame.from_records(records_windowed)\n",
    "\n",
    "print(f\"Total windows extracted: {len(df_records_windowed)}\")\n",
    "print(\"Dataframe with all windowed records:\")\n",
    "display(df_records_windowed.head())\n",
    "print(\"Dataframe with one windowed measurement series:\")\n",
    "display(df_records_windowed[\"df\"].iloc[0].head())"
   ]
  },
  {
   "cell_type": "code",
   "execution_count": 4,
   "metadata": {},
   "outputs": [
    {
     "data": {
      "image/png": "[encoded data removed]",
      "text/plain": [
       "<Figure size 1080x288 with 2 Axes>"
      ]
     },
     "metadata": {
      "needs_background": "light"
     },
     "output_type": "display_data"
    },
    {
     "data": {
      "image/png": "[encoded data removed]",
      "text/plain": [
       "<Figure size 432x288 with 1 Axes>"
      ]
     },
     "metadata": {
      "needs_background": "light"
     },
     "output_type": "display_data"
    },
    {
     "name": "stderr",
     "output_type": "stream",
     "text": [
      "/Applications/Anaconda/anaconda3/lib/python3.7/site-packages/ipykernel_launcher.py:82: UserWarning: Boolean Series key will be reindexed to match DataFrame index.\n"
     ]
    },
    {
     "data": {
      "image/png": "[encoded data removed]",
      "text/plain": [
       "<Figure size 432x288 with 1 Axes>"
      ]
     },
     "metadata": {
      "needs_background": "light"
     },
     "output_type": "display_data"
    },
    {
     "data": {
      "image/png": "[encoded data removed]",
      "text/plain": [
       "<Figure size 432x288 with 1 Axes>"
      ]
     },
     "metadata": {
      "needs_background": "light"
     },
     "output_type": "display_data"
    },
    {
     "data": {
      "image/png": "[encoded data removed]",
      "text/plain": [
       "<Figure size 432x288 with 1 Axes>"
      ]
     },
     "metadata": {
      "needs_background": "light"
     },
     "output_type": "display_data"
    },
    {
     "data": {
      "image/png": "[encoded data removed]",
      "text/plain": [
       "<Figure size 432x288 with 1 Axes>"
      ]
     },
     "metadata": {
      "needs_background": "light"
     },
     "output_type": "display_data"
    },
    {
     "data": {
      "image/png": "[encoded data removed]",
      "text/plain": [
       "<Figure size 432x288 with 1 Axes>"
      ]
     },
     "metadata": {
      "needs_background": "light"
     },
     "output_type": "display_data"
    },
    {
     "data": {
      "image/png": "[encoded data removed]",
      "text/plain": [
       "<Figure size 432x288 with 1 Axes>"
      ]
     },
     "metadata": {
      "needs_background": "light"
     },
     "output_type": "display_data"
    }
   ],
   "source": [
    "# 1.1. Visualize selected samples for both modalities\n",
    "\n",
    "# Plot few examples of prepared data for each modalities (accelometer and depth camera). \n",
    "# Plot acceleration sensor as multi-dimensional time-series and depth camera data as 2D image.\n",
    "# Plot 5 second acceleration sensor and depth image sequences of person 1 and 5 performing exercises 2, 5, and 6.\n",
    "# Take the first windowed example from the long exercise sequence. - means index 0\n",
    "\n",
    "### Your code begins here ###\n",
    "\n",
    "from matplotlib import pyplot as plt\n",
    "\n",
    "\n",
    "data_types = df_records_windowed.dtypes\n",
    "\n",
    "def get_few_samples(df, label):\n",
    "    return df[df['sensor_code'] == label]\n",
    "\n",
    "df_new = get_few_samples(df_records_windowed, 'act')\n",
    "df_new = df_new.df.iloc[0]\n",
    "\n",
    "\n",
    "# #uncomment if want x,y,z in seperate graphs\n",
    "# time  = df_new.time\n",
    "# x  = df_new.acc_0\n",
    "# y = df_new.acc_1\n",
    "# z  = df_new.acc_2\n",
    "\n",
    "# fig, axs = plt.subplots(df_new.shape[1]-1, sharex=True, gridspec_kw={'hspace': 0})\n",
    "# # for i in range(df.shape[1]):\n",
    "# axs[0].set_ylabel('x')\n",
    "# axs[0].set_xlabel('Time')\n",
    "# axs[0].plot(x)\n",
    "\n",
    "# axs[1].set_ylabel('y')\n",
    "# axs[1].set_xlabel('Time')\n",
    "# axs[1].plot(y)\n",
    "\n",
    "# axs[2].set_ylabel('z')\n",
    "# axs[2].set_xlabel('Time')\n",
    "# axs[2].plot(z)\n",
    "# plt.show()\n",
    "\n",
    "\n",
    "plt.figure(figsize=(15,4))\n",
    "\n",
    "ax1 = df_new.acc_0.plot(color='blue', grid=True, label='acc_0')\n",
    "ax2 = df_new.acc_1.plot(color='red', grid=True, secondary_y=True, label='acc_1')\n",
    "ax3 = df_new.acc_2.plot(color='green', grid=True, secondary_y=True, label='acc_2')\n",
    "\n",
    "h1, l1 = ax1.get_legend_handles_labels()\n",
    "h2, l2 = ax2.get_legend_handles_labels()\n",
    "\n",
    "plt.legend(h1+h2, l1+l2, loc=2)\n",
    "plt.show()\n",
    "\n",
    "\n",
    "################ \n",
    "\n",
    "from numpy import genfromtxt\n",
    "from mpl_toolkits.mplot3d import Axes3D\n",
    "import matplotlib.pyplot as plt\n",
    "import numpy as np\n",
    "\n",
    "\n",
    "fig = plt.figure()\n",
    "ax = fig.add_subplot(111, projection='3d')\n",
    "\n",
    "ax.scatter(df_new.acc_0, df_new.acc_1, df_new.acc_2, c=df_new.time, cmap=plt.hot())\n",
    "plt.show()\n",
    "    \n",
    "\n",
    "    \n",
    "################ Image DC\n",
    "\n",
    "# get image data\n",
    "# df_dc_01_02 = df_records_windowed[(df_records_windowed['sensor_code'] == 'dc') & (df_records_windowed['subject_id'] == 1) & (df_records_windowed['exercise_id'] == 2)].head(2)\n",
    "\n",
    "df_dc1 = get_few_samples(df_records_windowed, 'dc')\n",
    "\n",
    "def plot_dc_data(df_dc1, sub_id, excercise_id):\n",
    "    \n",
    "    df_dc1 = df_dc1[(df_records_windowed['subject_id'] == sub_id) & (df_records_windowed['exercise_id'] == excercise_id)]\n",
    "    df_dc = df_dc1.df.iloc[0]\n",
    "    df_dc = df_dc.drop('time', axis=1)\n",
    "    img_arr = df_dc.iloc[0].to_numpy().reshape(12,16)\n",
    "#     img_arr = df_dc.to_numpy().reshape(5,192)\n",
    "\n",
    "    plt.imshow(img_arr, interpolation='nearest')\n",
    "    plt.show()\n",
    "\n",
    "    \n",
    "plot_dc_data(df_dc1, '01', '02')\n",
    "plot_dc_data(df_dc1, '01', '05')\n",
    "plot_dc_data(df_dc1, '01', '06')\n",
    "\n",
    "plot_dc_data(df_dc1, '05', '02')\n",
    "plot_dc_data(df_dc1, '05', '05')\n",
    "plot_dc_data(df_dc1, '05', '06')\n",
    "\n",
    "\n",
    "### Your code ends here ###\n",
    "\n",
    "\n",
    "# https://towardsdatascience.com/feature-engineering-on-time-series-data-transforming-signal-data-of-a-smartphone-accelerometer-for-72cbe34b8a60\n"
   ]
  },
  {
   "cell_type": "code",
   "execution_count": 5,
   "metadata": {},
   "outputs": [
    {
     "name": "stdout",
     "output_type": "stream",
     "text": [
      "==========  Training dataset  =============\n",
      "Number of rows in training set -  1486\n",
      "Number of Columns/dimentions in training set -  6\n",
      "Shape of the training set -  (1486, 6)\n",
      "Column names of training set -  ['subject_id', 'exercise_id', 'trial', 'df_acc', 'window_idx', 'df_dc']\n",
      "==========  Testing dataset  =============\n",
      "Number of rows in test set -  598\n",
      "Number of Columns/dimentions in test set -  6\n",
      "Shape of the test set -  (598, 6)\n",
      "Column names of test set -  ['subject_id', 'exercise_id', 'trial', 'df_acc', 'window_idx', 'df_dc']\n"
     ]
    }
   ],
   "source": [
    "# 1.2. Split samples based on subject ID into training and testing datasets for futher experiments\n",
    "\n",
    "### Your code begins here ###\n",
    "\n",
    "# make a copy of df_records_windowed dataframe\n",
    "df = df_records_windowed.copy()\n",
    "\n",
    "# convert object types to int to make futher processing easier\n",
    "df['subject_id'] = df_records_windowed['subject_id'].astype(str).astype(int)\n",
    "df['exercise_id'] = df_records_windowed['exercise_id'].astype(str).astype(int)\n",
    "\n",
    "\n",
    "df_train = df[df['subject_id'] <= 7] # train data -> users upto id = 7 \n",
    "df_test = df[df['subject_id'] >= 8] # test data -> users from = 8 to 10\n",
    "\n",
    "# merge 2 dataframes so that we can remove the unpaired windows.\n",
    "def pair(df):\n",
    "\n",
    "    df_acc = df[df['sensor_code'] == 'act']\n",
    "    df_dc = df[df['sensor_code'] == 'dc']\n",
    "    \n",
    "    new_df = pd.merge(df_acc, df_dc,  how='right', left_on=['subject_id','trial', 'window_idx', 'exercise_id'],\n",
    "                      right_on = ['subject_id','trial', 'window_idx', 'exercise_id'])\n",
    "\n",
    "    return new_df\n",
    "    \n",
    "df_train_pair = pair(df_train)\n",
    "df_test_pair = pair(df_test)\n",
    "\n",
    "# remove un necessary columns since we pair up the data we dont need this\n",
    "df_train_pair = df_train_pair.drop(['sensor_code_x','sensor_x', 'sensor_code_y', 'sensor_y'], axis=1)\n",
    "df_test_pair = df_test_pair.drop(['sensor_code_x','sensor_x', 'sensor_code_y', 'sensor_y'], axis=1)\n",
    "\n",
    "df_train_pair = df_train_pair.rename(columns={'df_x': 'df_acc', 'df_y': 'df_dc'})\n",
    "df_test_pair = df_test_pair.rename(columns={'df_x': 'df_acc', 'df_y': 'df_dc'})\n",
    "\n",
    "df_test_pair.dtypes\n",
    "### Your code ends here ###\n",
    "\n",
    "\n",
    "\n",
    "# calculate the indicator statistics of training and testing datasets\n",
    "# (number of examples, dimensions of each example) and visualize prepared examples\n",
    "\n",
    "# df train data \n",
    "print(\"==========  Training dataset  =============\")\n",
    "\n",
    "# df_train_pair.info()\n",
    "print('Number of rows in training set - ', len(df_train_pair))\n",
    "print('Number of Columns/dimentions in training set - ', len(df_train_pair.columns))\n",
    "print('Shape of the training set - ', df_train_pair.shape)\n",
    "print('Column names of training set - ', list(df_train_pair.columns))\n",
    "\n",
    "print(\"==========  Testing dataset  =============\")\n",
    "print('Number of rows in test set - ', len(df_test_pair))\n",
    "print('Number of Columns/dimentions in test set - ', len(df_test_pair.columns))\n",
    "print('Shape of the test set - ', df_test_pair.shape)\n",
    "print('Column names of test set - ', list(df_test_pair.columns))\n",
    "\n",
    "\n",
    "\n",
    "# TODO visualize - ANUSHA"
   ]
  },
  {
   "cell_type": "markdown",
   "metadata": {
    "nbgrader": {
     "grade": false,
     "grade_id": "cell-8dd9cccbd7bb483c",
     "locked": true,
     "schema_version": 3,
     "solution": false,
     "task": false
    }
   },
   "source": [
    "# 2. Feature extraction and fusion for unimodal classification"
   ]
  },
  {
   "cell_type": "markdown",
   "metadata": {
    "nbgrader": {
     "grade": false,
     "grade_id": "cell-583b0e4a5d64720f",
     "locked": true,
     "schema_version": 3,
     "solution": false,
     "task": false
    }
   },
   "source": [
    "<a id='task2'></a>\n",
    "<div class=\" alert alert-warning\">\n",
    "    <b>Assigment.</b> <b>Task 2.</b>\n",
    "\n",
    "Use the training dataset prepared in task 1. to build models based on the combination of principal component analysis (PCA), linear discriminant analysis (LDA), and nearest neighbour (NN) classifier for each modality separately and evaluate the model on test dataset. Do the subtasks given as\n",
    "<br>\n",
    "<br>\n",
    "<p> <b>2.1</b> Calculate PCA and LDA transformations to reduce the dimensionality of accelerometer data (e.g., using scikit-learn implementations). Before transformations downsample data from 100 Hz to 25 Hz (using scipy.signal.resample) to get 125x3 matrix of data for each 5 sec window. You should also standardize the values to zero mean and unit variance before the transformations. Using training dataset, fit PCA with 5-dimensional subspace (i.e., choosing the 5 largest principal components) and fit LDA with 5-dimensional subspace. Transform both train and test examples to this low-dimensional feature representation. Concatenate each sequence to single vector size of 3x(5+5). Perform the fusion of PCA and LDA similar manner as presented in Lecture 3 (pages 23-24) using NN method. Evaluate the performance on testset. Show confusion matrix and F1 scores of the results. </p>\n",
    "<br>\n",
    "<p> <b>2.2</b> Use PCA and LDA transformations to reduce the dimensionality of depth images. You should also standardize the values to zero mean and unit variance before the transformations. Fit PCA and LDA for all training images (12x16, 192-dimensional in vectorized form) by choosing 5-dimensional subspace for both PCA and LDA. Transform both train and test examples to this low-dimensional feature representation. Concatenate each sequence to single vector size of 5x1x(5+5). Similar to task 2.1, do the PCA and LDA fusion using NN and evaluate the performance on testset. Show confusion matrix and F1 scores of the results. </p>\n",
    "<br> \n",
    "Document your work, evaluate the results, and analyse the outcomes in each subtasks 2.1-2.2.\n",
    "    \n",
    "</div>"
   ]
  },
  {
   "cell_type": "markdown",
   "metadata": {},
   "source": [
    "### Task 2.1"
   ]
  },
  {
   "cell_type": "markdown",
   "metadata": {},
   "source": [
    "Downsample and standardization for training and test sets"
   ]
  },
  {
   "cell_type": "code",
   "execution_count": 6,
   "metadata": {},
   "outputs": [],
   "source": [
    "# 2.1\n",
    "\n",
    "### Your code begins here ###\n",
    "from scipy import signal\n",
    "from sklearn.preprocessing import StandardScaler\n",
    "\n",
    "# downsample data from 100 Hz to 25 Hz (using scipy.signal.resample) to get 125x3 matrix \n",
    "# of data for each 5 sec window. \n",
    "\n",
    "# get accelerometer  data from training set\n",
    "train_set = df_train_pair.copy()\n",
    "test_set = df_test_pair.copy()\n",
    "\n",
    "scaler = StandardScaler()\n",
    "\n",
    "def standardize(row):\n",
    "    row  = scaler.fit_transform(row)\n",
    "    #row = pd.DataFrame(row, index=acc.index, columns=acc.columns)\n",
    "    return row\n",
    "    \n",
    "def downsample(row):\n",
    "    #row = pd.DataFrame(signal.resample(row, 125), columns=row.columns)\n",
    "    row = signal.resample(row, 125)\n",
    "    return row\n",
    "\n",
    "def drop_time(row):\n",
    "    row = row.drop(['time'], axis = 1)\n",
    "    return row\n",
    "    \n",
    "train_set['df_acc'] = [downsample(drop_time(x)) for x in train_set['df_acc']]\n",
    "test_set['df_acc'] = [downsample(drop_time(x)) for x in test_set['df_acc']]"
   ]
  },
  {
   "cell_type": "code",
   "execution_count": 7,
   "metadata": {},
   "outputs": [
    {
     "data": {
      "text/html": [
       "<div>\n",
       "<style scoped>\n",
       "    .dataframe tbody tr th:only-of-type {\n",
       "        vertical-align: middle;\n",
       "    }\n",
       "\n",
       "    .dataframe tbody tr th {\n",
       "        vertical-align: top;\n",
       "    }\n",
       "\n",
       "    .dataframe thead th {\n",
       "        text-align: right;\n",
       "    }\n",
       "</style>\n",
       "<table border=\"1\" class=\"dataframe\">\n",
       "  <thead>\n",
       "    <tr style=\"text-align: right;\">\n",
       "      <th></th>\n",
       "      <th>acc_0</th>\n",
       "      <th>acc_1</th>\n",
       "      <th>acc_2</th>\n",
       "    </tr>\n",
       "  </thead>\n",
       "  <tbody>\n",
       "    <tr>\n",
       "      <th>0</th>\n",
       "      <td>0.919466</td>\n",
       "      <td>-1.290882</td>\n",
       "      <td>-1.932230</td>\n",
       "    </tr>\n",
       "    <tr>\n",
       "      <th>1</th>\n",
       "      <td>1.702581</td>\n",
       "      <td>-1.605541</td>\n",
       "      <td>-2.744564</td>\n",
       "    </tr>\n",
       "    <tr>\n",
       "      <th>2</th>\n",
       "      <td>1.335151</td>\n",
       "      <td>-1.448641</td>\n",
       "      <td>-2.401820</td>\n",
       "    </tr>\n",
       "    <tr>\n",
       "      <th>3</th>\n",
       "      <td>1.216229</td>\n",
       "      <td>-1.485792</td>\n",
       "      <td>-2.448621</td>\n",
       "    </tr>\n",
       "    <tr>\n",
       "      <th>4</th>\n",
       "      <td>1.035814</td>\n",
       "      <td>-1.458218</td>\n",
       "      <td>-2.350608</td>\n",
       "    </tr>\n",
       "    <tr>\n",
       "      <th>...</th>\n",
       "      <td>...</td>\n",
       "      <td>...</td>\n",
       "      <td>...</td>\n",
       "    </tr>\n",
       "    <tr>\n",
       "      <th>120</th>\n",
       "      <td>-1.332810</td>\n",
       "      <td>-0.868724</td>\n",
       "      <td>-0.642858</td>\n",
       "    </tr>\n",
       "    <tr>\n",
       "      <th>121</th>\n",
       "      <td>-0.596560</td>\n",
       "      <td>-1.276802</td>\n",
       "      <td>-0.693752</td>\n",
       "    </tr>\n",
       "    <tr>\n",
       "      <th>122</th>\n",
       "      <td>-1.043195</td>\n",
       "      <td>-1.168393</td>\n",
       "      <td>-0.616762</td>\n",
       "    </tr>\n",
       "    <tr>\n",
       "      <th>123</th>\n",
       "      <td>-0.864666</td>\n",
       "      <td>-0.924257</td>\n",
       "      <td>-0.802831</td>\n",
       "    </tr>\n",
       "    <tr>\n",
       "      <th>124</th>\n",
       "      <td>-0.513799</td>\n",
       "      <td>-0.815001</td>\n",
       "      <td>-0.568115</td>\n",
       "    </tr>\n",
       "  </tbody>\n",
       "</table>\n",
       "<p>125 rows × 3 columns</p>\n",
       "</div>"
      ],
      "text/plain": [
       "        acc_0     acc_1     acc_2\n",
       "0    0.919466 -1.290882 -1.932230\n",
       "1    1.702581 -1.605541 -2.744564\n",
       "2    1.335151 -1.448641 -2.401820\n",
       "3    1.216229 -1.485792 -2.448621\n",
       "4    1.035814 -1.458218 -2.350608\n",
       "..        ...       ...       ...\n",
       "120 -1.332810 -0.868724 -0.642858\n",
       "121 -0.596560 -1.276802 -0.693752\n",
       "122 -1.043195 -1.168393 -0.616762\n",
       "123 -0.864666 -0.924257 -0.802831\n",
       "124 -0.513799 -0.815001 -0.568115\n",
       "\n",
       "[125 rows x 3 columns]"
      ]
     },
     "execution_count": 7,
     "metadata": {},
     "output_type": "execute_result"
    }
   ],
   "source": [
    "\n",
    "# standardize the values to zero mean and unit variance before the transformations\n",
    "\n",
    "\n",
    "#train_set['df_acc'] = [standardize(x) for x in train_set['df_acc']]\n",
    "#test_set['df_acc'] = [standardize(x) for x in test_set['df_acc']]\n",
    "\n",
    "\n",
    "#train_set['df_acc'][10]\n"
   ]
  },
  {
   "cell_type": "markdown",
   "metadata": {},
   "source": [
    "PCA for ACC"
   ]
  },
  {
   "cell_type": "code",
   "execution_count": 10,
   "metadata": {},
   "outputs": [],
   "source": [
    "#  Using training dataset, fit PCA with 5-dimensional subspace \n",
    "# (i.e., choosing the 5 largest principal components)\n",
    "# and fit LDA with 5-dimensional subspace. \n",
    "\n",
    "from sklearn.decomposition import PCA\n",
    "\n",
    "pca_train_df = train_set.copy() \n",
    "pca_test_df = test_set.copy()\n",
    "\n",
    "pca = PCA(n_components=5)\n",
    "\n",
    "def combine_rows_vertically_as_df(row):\n",
    "    df_line = row[0]\n",
    "    for i in range(1, len(row)):\n",
    "        df_line = np.vstack((df_line,row[i])) # Combine transformed acc axes into one matrix\n",
    "    df_acc = pd.DataFrame(data=df_line) # Transform numpy array into pandas dataframe\n",
    "    return df_acc\n",
    "\n",
    "acc_pca_set = [standardize(x) for i,x in enumerate(pca_train_df['df_acc'])] # Transform dataframe rows into numpy list for easier later use\n",
    "#acc_pca_set = [x for i,x in enumerate(pca_train_df['df_acc'])]\n",
    "acc_pca_set = np.array(acc_pca_set) # Transform list into array for later use\n",
    "\n",
    "acc_pca_testset = [standardize(x) for i,x in enumerate(pca_test_df['df_acc'])]\n",
    "#acc_pca_testset = [x for i,x in enumerate(pca_test_df['df_acc'])]\n",
    "acc_pca_testset = np.array(acc_pca_testset)\n",
    "\n",
    "#acc_pca_set = scaler.fit_transform(acc_pca_set.reshape(-1,acc_pca_set.shape[2])).reshape(acc_pca_set.shape)\n",
    "#acc_pca_testset = scaler.fit_transform(acc_pca_testset.reshape(-1,acc_pca_testset.shape[2])).reshape(acc_pca_testset.shape)\n",
    "\n",
    "acc_pca_set0 = pca.fit_transform(acc_pca_set[:,:,0]) # Transforms acc_0 axis from all samples against true classes\n",
    "acc_pca_testset0 = pca.transform(acc_pca_testset[:,:,0])\n",
    "\n",
    "acc_pca_set1 = pca.fit_transform(acc_pca_set[:,:,1])\n",
    "acc_pca_testset1 = pca.transform(acc_pca_testset[:,:,1])\n",
    "\n",
    "acc_pca_set2 = pca.fit_transform(acc_pca_set[:,:,2])\n",
    "acc_pca_testset2 = pca.transform(acc_pca_testset[:,:,2])\n",
    "\n",
    "pca_train_df['df_acc'] = [combine_rows_vertically_as_df(x) for i,x in enumerate(zip(acc_pca_set0,acc_pca_set1,acc_pca_set2))]\n",
    "pca_test_df['df_acc'] = [combine_rows_vertically_as_df(x) for i,x in enumerate(zip(acc_pca_testset0,acc_pca_testset1,acc_pca_testset2))]\n",
    "\n"
   ]
  },
  {
   "cell_type": "code",
   "execution_count": 8,
   "metadata": {},
   "outputs": [
    {
     "data": {
      "text/html": [
       "<div>\n",
       "<style scoped>\n",
       "    .dataframe tbody tr th:only-of-type {\n",
       "        vertical-align: middle;\n",
       "    }\n",
       "\n",
       "    .dataframe tbody tr th {\n",
       "        vertical-align: top;\n",
       "    }\n",
       "\n",
       "    .dataframe thead th {\n",
       "        text-align: right;\n",
       "    }\n",
       "</style>\n",
       "<table border=\"1\" class=\"dataframe\">\n",
       "  <thead>\n",
       "    <tr style=\"text-align: right;\">\n",
       "      <th></th>\n",
       "      <th>0</th>\n",
       "      <th>1</th>\n",
       "      <th>2</th>\n",
       "      <th>3</th>\n",
       "      <th>4</th>\n",
       "    </tr>\n",
       "  </thead>\n",
       "  <tbody>\n",
       "    <tr>\n",
       "      <th>0</th>\n",
       "      <td>-2.863750</td>\n",
       "      <td>-0.571738</td>\n",
       "      <td>-1.781783</td>\n",
       "      <td>9.632074</td>\n",
       "      <td>-0.772935</td>\n",
       "    </tr>\n",
       "    <tr>\n",
       "      <th>1</th>\n",
       "      <td>1.834415</td>\n",
       "      <td>-10.414014</td>\n",
       "      <td>1.850986</td>\n",
       "      <td>-0.562633</td>\n",
       "      <td>0.232564</td>\n",
       "    </tr>\n",
       "    <tr>\n",
       "      <th>2</th>\n",
       "      <td>0.580830</td>\n",
       "      <td>10.936482</td>\n",
       "      <td>1.088693</td>\n",
       "      <td>1.528194</td>\n",
       "      <td>0.204702</td>\n",
       "    </tr>\n",
       "  </tbody>\n",
       "</table>\n",
       "</div>"
      ],
      "text/plain": [
       "          0          1         2         3         4\n",
       "0 -2.863750  -0.571738 -1.781783  9.632074 -0.772935\n",
       "1  1.834415 -10.414014  1.850986 -0.562633  0.232564\n",
       "2  0.580830  10.936482  1.088693  1.528194  0.204702"
      ]
     },
     "execution_count": 8,
     "metadata": {},
     "output_type": "execute_result"
    }
   ],
   "source": [
    "pca_test_df['df_acc'][0]  # check data"
   ]
  },
  {
   "cell_type": "markdown",
   "metadata": {},
   "source": [
    "LDA for ACC"
   ]
  },
  {
   "cell_type": "code",
   "execution_count": 11,
   "metadata": {
    "tags": []
   },
   "outputs": [],
   "source": [
    "from sklearn.discriminant_analysis import LinearDiscriminantAnalysis\n",
    "\n",
    "lda_train_df = train_set.copy() # Copy original dataset so it is not affected\n",
    "lda_test_df = test_set.copy()\n",
    "\n",
    "lda = LinearDiscriminantAnalysis(n_components=5) # LDA with 5 dimensions\n",
    "\n",
    "acc_set = [standardize(x) for i,x in enumerate(lda_train_df['df_acc'])] # Transform dataframe rows into numpy list for easier later use\n",
    "#acc_set = [x for i,x in enumerate(lda_train_df['df_acc'])]\n",
    "acc_set = np.array(acc_set) # Transform list into array for later use\n",
    "\n",
    "acc_testset = [standardize(x) for i,x in enumerate(lda_test_df['df_acc'])]\n",
    "#acc_testset = [x for i,x in enumerate(lda_test_df['df_acc'])]\n",
    "acc_testset = np.array(acc_testset)\n",
    "\n",
    "#acc_set = scaler.fit_transform(acc_set.reshape(-1,acc_set.shape[2])).reshape(acc_set.shape)\n",
    "#acc_testset = scaler.fit_transform(acc_testset.reshape(-1,acc_testset.shape[2])).reshape(acc_testset.shape)\n",
    "\n",
    "acc_set0 = lda.fit_transform(acc_set[:,:,0], lda_train_df['exercise_id']) # Transforms acc_0 axis from all samples against true classes\n",
    "acc_testset0 = lda.transform(acc_testset[:,:,0])\n",
    "\n",
    "acc_set1 = lda.fit_transform(acc_set[:,:,1], lda_train_df['exercise_id'])\n",
    "acc_testset1 = lda.transform(acc_testset[:,:,1])\n",
    "\n",
    "acc_set2 = lda.fit_transform(acc_set[:,:,2], lda_train_df['exercise_id'])\n",
    "acc_testset2 = lda.transform(acc_testset[:,:,2])\n",
    "\n",
    "lda_train_df['df_acc'] = [combine_rows_vertically_as_df(x) for i,x in enumerate(zip(acc_set0,acc_set1,acc_set2))] # Calls combine_lda_rows to make full dataframe from transformed datasets\n",
    "lda_test_df['df_acc'] = [combine_rows_vertically_as_df(x) for i,x in enumerate(zip(acc_testset0,acc_testset1,acc_testset2))]\n"
   ]
  },
  {
   "cell_type": "code",
   "execution_count": 12,
   "metadata": {},
   "outputs": [
    {
     "data": {
      "text/html": [
       "<div>\n",
       "<style scoped>\n",
       "    .dataframe tbody tr th:only-of-type {\n",
       "        vertical-align: middle;\n",
       "    }\n",
       "\n",
       "    .dataframe tbody tr th {\n",
       "        vertical-align: top;\n",
       "    }\n",
       "\n",
       "    .dataframe thead th {\n",
       "        text-align: right;\n",
       "    }\n",
       "</style>\n",
       "<table border=\"1\" class=\"dataframe\">\n",
       "  <thead>\n",
       "    <tr style=\"text-align: right;\">\n",
       "      <th></th>\n",
       "      <th>0</th>\n",
       "      <th>1</th>\n",
       "      <th>2</th>\n",
       "      <th>3</th>\n",
       "      <th>4</th>\n",
       "    </tr>\n",
       "  </thead>\n",
       "  <tbody>\n",
       "    <tr>\n",
       "      <th>0</th>\n",
       "      <td>0.424551</td>\n",
       "      <td>-0.126984</td>\n",
       "      <td>-0.276845</td>\n",
       "      <td>-0.094892</td>\n",
       "      <td>-0.396895</td>\n",
       "    </tr>\n",
       "    <tr>\n",
       "      <th>1</th>\n",
       "      <td>-0.112047</td>\n",
       "      <td>0.035286</td>\n",
       "      <td>0.040568</td>\n",
       "      <td>0.192135</td>\n",
       "      <td>-0.099573</td>\n",
       "    </tr>\n",
       "    <tr>\n",
       "      <th>2</th>\n",
       "      <td>0.029796</td>\n",
       "      <td>0.019269</td>\n",
       "      <td>0.130438</td>\n",
       "      <td>-0.148026</td>\n",
       "      <td>0.126424</td>\n",
       "    </tr>\n",
       "  </tbody>\n",
       "</table>\n",
       "</div>"
      ],
      "text/plain": [
       "          0         1         2         3         4\n",
       "0  0.424551 -0.126984 -0.276845 -0.094892 -0.396895\n",
       "1 -0.112047  0.035286  0.040568  0.192135 -0.099573\n",
       "2  0.029796  0.019269  0.130438 -0.148026  0.126424"
      ]
     },
     "execution_count": 12,
     "metadata": {},
     "output_type": "execute_result"
    }
   ],
   "source": [
    "lda_train_df['df_acc'][0] # check data "
   ]
  },
  {
   "cell_type": "markdown",
   "metadata": {},
   "source": [
    "PCA and LDA fusion for ACC"
   ]
  },
  {
   "cell_type": "code",
   "execution_count": 13,
   "metadata": {},
   "outputs": [],
   "source": [
    "def pair(x):\n",
    "    new_df = pd.concat([x[0], x[1]], axis=1, ignore_index=True)\n",
    "    return new_df.to_numpy()\n",
    "    \n",
    "train_pca_lda_acc = [pair(x) for i,x in enumerate(zip(pca_train_df['df_acc'],lda_train_df['df_acc']))] # Combine PCA and LDA data to 3x10 (3x5+5) shape.\n",
    "train_pca_lda_acc = np.array(train_pca_lda_acc)\n",
    "test_pca_lda_acc = [pair(x) for i,x in enumerate(zip(pca_test_df['df_acc'],lda_test_df['df_acc']))]\n",
    "test_pca_lda_acc = np.array(test_pca_lda_acc)\n",
    "\n",
    "def compute_distance_acc(testsample):\n",
    "    pca_distance = np.sum(np.sum(np.square(testsample[:,0:5] - train_pca_lda_acc[:,:,0:5]),axis=2),axis=1)\n",
    "    lda_distance = np.sum(np.sum(np.square(testsample[:,5:10] - train_pca_lda_acc[:,:,5:10]),axis=2),axis=1)\n",
    "    pca_distance = scale_distance(pca_distance)    \n",
    "    lda_distance = scale_distance(lda_distance)\n",
    "    return [pca_distance, lda_distance]\n",
    "\n",
    "def scale_distance(distance):\n",
    "    scaled_distance = (distance - np.min(distance)) / (np.max(distance) - np.min(distance))\n",
    "    return scaled_distance\n",
    "\n",
    "def fuse_average(dists):\n",
    "    fused_avg = (dists[0]+dists[1]) / 2\n",
    "    return fused_avg\n",
    "    \n",
    "def classify(fused_avg):\n",
    "    class_prediction = lda_train_df['exercise_id'][np.argmin(fused_avg)]\n",
    "    return class_prediction\n",
    "\n",
    "test_predictions = [classify(fuse_average(compute_distance_acc(x))) for i,x in enumerate(test_pca_lda_acc)]"
   ]
  },
  {
   "cell_type": "markdown",
   "metadata": {},
   "source": [
    "Performance evaluation"
   ]
  },
  {
   "cell_type": "code",
   "execution_count": 14,
   "metadata": {},
   "outputs": [
    {
     "name": "stdout",
     "output_type": "stream",
     "text": [
      "Classification report: \n",
      "               precision    recall  f1-score   support\n",
      "\n",
      "        ex 1       0.55      0.55      0.55        86\n",
      "        ex 2       0.25      0.29      0.27        73\n",
      "        ex 3       0.29      0.25      0.27        99\n",
      "        ex 4       0.34      0.27      0.30       100\n",
      "        ex 5       0.38      0.45      0.41        75\n",
      "        ex 6       0.30      0.35      0.32        74\n",
      "        ex 7       0.45      0.42      0.43        91\n",
      "\n",
      "    accuracy                           0.36       598\n",
      "   macro avg       0.36      0.37      0.36       598\n",
      "weighted avg       0.37      0.36      0.36       598\n",
      "\n",
      "Precision score: \n",
      " [0.55294118 0.25       0.29069767 0.3375     0.37777778 0.29545455\n",
      " 0.44705882]\n",
      "Recall score: \n",
      " [0.54651163 0.28767123 0.25252525 0.27       0.45333333 0.35135135\n",
      " 0.41758242]\n",
      "Accuracy score: \n",
      " 0.36454849498327757\n",
      "F1 score: \n",
      " 0.36463154920524454\n"
     ]
    },
    {
     "data": {
      "image/png": "[encoded data removed]",
      "text/plain": [
       "<Figure size 432x288 with 2 Axes>"
      ]
     },
     "metadata": {
      "needs_background": "light"
     },
     "output_type": "display_data"
    }
   ],
   "source": [
    "from sklearn import metrics\n",
    "\n",
    "def stats_and_cf(test_predictions, test_true_labels):\n",
    "    class_labels = ['ex 1','ex 2','ex 3','ex 4','ex 5','ex 6', 'ex 7']\n",
    "\n",
    "    pre = metrics.precision_score(test_predictions, test_true_labels,average=None)\n",
    "    recall = metrics.recall_score(test_predictions, test_true_labels,average=None)\n",
    "    f1 = (1/len(class_labels))*np.sum(2*(pre*recall)/(pre+recall))\n",
    "\n",
    "    print(\"Classification report: \\n\", metrics.classification_report(test_predictions, test_true_labels, target_names=class_labels))\n",
    "    print(\"Precision score: \\n\", pre)\n",
    "    print(\"Recall score: \\n\", recall)\n",
    "    print(\"Accuracy score: \\n\", metrics.accuracy_score(test_predictions, test_true_labels))\n",
    "    print(\"F1 score: \\n\", f1)\n",
    "\n",
    "    # Confusion matrix for testing set\n",
    "    cm = metrics.confusion_matrix(test_predictions,test_true_labels)\n",
    "    metrics.ConfusionMatrixDisplay(cm,display_labels=class_labels).plot()\n",
    "\n",
    "\n",
    "stats_and_cf(test_predictions, test_set['exercise_id'].to_numpy())\n",
    "### End of task 2.1\n",
    "### Your code ends here ###"
   ]
  },
  {
   "cell_type": "markdown",
   "metadata": {},
   "source": [
    "### Task 2.2 \n",
    "\n",
    "Use PCA and LDA transformations to reduce the dimensionality of depth images. You should also standardize the values to zero mean and unit variance before the transformations. Fit PCA and LDA for all training images (12x16, 192-dimensional in vectorized form) by choosing 5-dimensional subspace for both PCA and LDA. Transform both train and test examples to this low-dimensional feature representation. Concatenate each sequence to single vector size of 5x1x(5+5). Similar to task 2.1, do the PCA and LDA fusion using NN and evaluate the performance on testset. Show confusion matrix and F1 scores of the results."
   ]
  },
  {
   "cell_type": "code",
   "execution_count": 15,
   "metadata": {},
   "outputs": [
    {
     "data": {
      "text/plain": [
       "array([[-1.22474487e+00,  0.00000000e+00,  1.52894157e+00,\n",
       "         0.00000000e+00, -5.00000000e-01,  5.00000000e-01,\n",
       "        -8.16496581e-01,  0.00000000e+00, -5.00000000e-01,\n",
       "         5.02041636e-01,  8.13305878e-01,  8.11066299e-01,\n",
       "         7.74581358e-01,  5.00562366e-01,  0.00000000e+00,\n",
       "         0.00000000e+00,  1.22474487e+00,  2.00000000e+00,\n",
       "         0.00000000e+00, -5.00000000e-01,  6.92488930e-01,\n",
       "        -7.39104455e-01, -5.00000000e-01,  0.00000000e+00,\n",
       "         4.94472957e-01,  8.07580493e-01,  8.11502511e-01,\n",
       "         8.16719689e-01,  8.11677020e-01,  5.00000000e-01,\n",
       "         0.00000000e+00,  5.00000000e-01,  5.55111512e-17,\n",
       "        -1.60356745e+00,  1.75000000e+00,  2.67261242e-01,\n",
       "        -1.11803399e+00,  0.00000000e+00,  4.90548575e-01,\n",
       "         7.66858712e-01,  8.06710307e-01,  8.06458435e-01,\n",
       "         8.08539036e-01,  8.11244613e-01,  1.21966783e+00,\n",
       "         8.13842652e-01,  0.00000000e+00,  1.11022302e-16,\n",
       "         5.93305566e-01,  6.26585413e-01,  4.81935598e-01,\n",
       "         5.01986877e-01,  4.91389162e-01,  6.35259566e-01,\n",
       "        -1.55379286e+00, -4.18671494e-01, -3.82562134e-01,\n",
       "        -5.42605738e-01, -4.66595942e-01, -5.54573598e-01,\n",
       "        -6.43773735e-01, -1.09505526e+00, -1.14985032e-04,\n",
       "        -1.06904497e+00, -7.18699468e-01,  7.99616276e-01,\n",
       "         2.62793170e-01,  7.53549595e-01,  1.18400900e+00,\n",
       "         1.61741424e+00, -1.38893652e-01, -5.67181087e-01,\n",
       "        -3.15219945e-01,  1.07351926e-02, -4.43880993e-01,\n",
       "        -5.56472731e-01, -7.25845142e-01,  1.79094732e-02,\n",
       "        -1.98253344e+00,  6.49166709e-01, -1.78532808e+00,\n",
       "         2.51926748e-01,  6.02133615e-01,  1.49173547e+00,\n",
       "         1.74808053e+00,  1.84197876e+00,  1.80784014e+00,\n",
       "         1.31718565e+00,  9.94948414e-01,  1.00751309e+00,\n",
       "         1.51180277e-01, -5.51142653e-01, -8.18585843e-01,\n",
       "        -1.05756895e+00,  1.40891264e+00,  7.89093016e-01,\n",
       "        -2.38134286e-01,  8.73370622e-01,  6.13897326e-01,\n",
       "         1.57122079e+00,  1.80773046e+00,  1.80954947e+00,\n",
       "         1.84954192e+00,  1.23958920e+00,  1.06830799e+00,\n",
       "         2.62903779e-01, -4.63082417e-01, -8.08824424e-01,\n",
       "        -8.82907602e-01, -9.47858991e-01,  3.40110923e-01,\n",
       "         5.00000000e-01, -2.15535108e-01,  1.46400504e+00,\n",
       "         5.32392518e-01,  1.40830116e+00,  1.82535454e+00,\n",
       "         1.57970237e+00,  1.05150792e+00, -5.81286885e-01,\n",
       "         4.07738889e-01, -5.19474278e-01, -5.87289039e-01,\n",
       "        -7.78522018e-01, -8.24089606e-01, -8.87426755e-01,\n",
       "        -1.93595383e+00, -8.16496581e-01,  4.35649875e-01,\n",
       "         1.01553479e+00,  9.26184029e-02,  4.89666069e-01,\n",
       "         5.33541360e-01, -3.50752824e-01, -7.49139144e-01,\n",
       "        -6.02050090e-02, -8.18622772e-01, -9.11909450e-01,\n",
       "        -7.49844809e-01, -7.35399896e-01, -7.52787917e-01,\n",
       "        -1.44751756e+00,  1.55005233e+00, -5.00000000e-01,\n",
       "         1.41802808e+00,  5.00000000e-01,  1.22474487e+00,\n",
       "        -1.13243791e+00,  5.00000000e-01, -1.22474487e+00,\n",
       "        -1.08838387e+00,  5.03267614e-01,  5.00000000e-01,\n",
       "         5.00000000e-01,  5.00000000e-01,  5.00000000e-01,\n",
       "         5.00000000e-01,  5.02062693e-01,  0.00000000e+00,\n",
       "        -5.00000000e-01, -5.00000000e-01, -7.87913862e-01,\n",
       "         0.00000000e+00,  0.00000000e+00,  5.00000000e-01,\n",
       "         1.11022302e-16,  0.00000000e+00, -1.11022302e-16,\n",
       "         0.00000000e+00,  5.08695514e-01,  5.02096906e-01,\n",
       "         5.00000000e-01,  5.00000000e-01,  4.97955952e-01,\n",
       "         1.22474487e+00,  0.00000000e+00,  7.50000000e-01,\n",
       "        -1.06904497e+00, -5.00000000e-01, -8.16496581e-01,\n",
       "         1.08838387e+00,  1.11022302e-16,  4.85508580e-01,\n",
       "         1.22474487e+00, -1.11022302e-16, -8.86964085e-01,\n",
       "        -5.00000000e-01,  5.00000000e-01,  5.04884386e-01,\n",
       "         5.00000000e-01, -1.10595889e+00,  5.14747844e-01],\n",
       "       [ 8.16496581e-01,  0.00000000e+00, -1.40152978e+00,\n",
       "         0.00000000e+00, -5.00000000e-01,  5.00000000e-01,\n",
       "         1.22474487e+00,  0.00000000e+00,  7.50000000e-01,\n",
       "         5.02041636e-01, -1.08031353e+00, -1.11560203e+00,\n",
       "        -1.65215044e+00, -1.99999924e+00,  0.00000000e+00,\n",
       "         0.00000000e+00, -8.16496581e-01, -5.00000000e-01,\n",
       "         0.00000000e+00, -5.00000000e-01, -1.87642162e+00,\n",
       "        -7.39104455e-01,  2.00000000e+00,  0.00000000e+00,\n",
       "         5.16508294e-01, -1.06807530e+00, -1.04264341e+00,\n",
       "        -1.08610535e+00, -1.15024539e+00, -2.00000000e+00,\n",
       "         0.00000000e+00, -2.00000000e+00,  5.55111512e-17,\n",
       "        -2.67261242e-01, -7.50000000e-01, -1.06904497e+00,\n",
       "         1.11803399e+00,  0.00000000e+00,  4.90548575e-01,\n",
       "        -1.70717356e+00, -1.40901028e+00, -9.62517725e-01,\n",
       "        -9.92676245e-01, -1.03781898e+00, -5.55760340e-01,\n",
       "        -1.40900597e+00,  0.00000000e+00,  1.11022302e-16,\n",
       "         2.54273814e-01,  6.35719311e-01,  4.96718899e-01,\n",
       "         5.04881842e-01,  5.03345103e-01, -1.94437522e+00,\n",
       "        -1.59323861e-01, -6.39024912e-01, -2.52970818e-01,\n",
       "        -5.98968281e-02, -6.44158880e-01, -7.48767198e-01,\n",
       "        -6.76392395e-01,  4.97808192e-01,  6.45525970e-01,\n",
       "        -1.06904497e+00,  1.14991915e+00,  2.39884883e-01,\n",
       "         1.80386423e+00,  2.17264299e-01, -8.89314566e-02,\n",
       "         8.47838107e-02,  0.00000000e+00,  1.12998240e+00,\n",
       "         1.45378782e+00, -1.35033386e+00, -1.30652794e+00,\n",
       "        -7.30850574e-01, -7.30279138e-01, -1.81649466e+00,\n",
       "         4.01584460e-01, -1.93810851e+00,  9.50255268e-01,\n",
       "         2.51926748e-01,  6.02133615e-01,  2.65197418e-01,\n",
       "        -2.35203538e-01, -2.51751083e-02, -1.84211199e-01,\n",
       "         6.05193405e-01, -1.20338278e+00, -1.77510286e+00,\n",
       "        -1.69112483e+00, -8.04658133e-01, -7.37886817e-01,\n",
       "        -1.05756895e+00, -3.88918595e-01,  3.80317752e-01,\n",
       "        -2.38134286e-01,  3.62355896e-01,  6.13897326e-01,\n",
       "         1.57665754e-01,  2.61698174e-02, -2.29379511e-01,\n",
       "        -1.78987928e-01,  1.26039178e-01, -1.22354268e+00,\n",
       "        -8.24102229e-01, -3.78535555e-01,  1.22428960e+00,\n",
       "         1.21966036e+00,  1.21035476e+00,  6.33758605e-01,\n",
       "         5.00000000e-01, -8.35748377e-02,  2.27734117e-01,\n",
       "         5.70420555e-02, -1.75489241e-02,  1.32599171e-01,\n",
       "         6.74528561e-02, -4.28954496e-01, -8.71930328e-01,\n",
       "         4.68854451e-01, -1.60509714e-01,  6.42795988e-02,\n",
       "         1.22887513e+00,  1.22865315e+00,  1.21088362e+00,\n",
       "         6.44715861e-01,  1.22474487e+00,  4.35649875e-01,\n",
       "        -5.96425191e-01, -1.71344045e+00,  5.09300633e-01,\n",
       "         5.61126054e-01, -1.16064195e-01,  1.21289195e+00,\n",
       "        -1.47190867e+00,  1.22793416e+00,  1.21063841e+00,\n",
       "         1.22298448e+00,  1.22659933e+00,  1.22743026e+00,\n",
       "         1.11648882e+00, -1.61123861e+00, -5.00000000e-01,\n",
       "         5.91992306e-01,  5.00000000e-01, -8.16496581e-01,\n",
       "         1.10263692e+00,  5.00000000e-01,  8.16496581e-01,\n",
       "         3.06980065e-01,  5.03267614e-01,  5.00000000e-01,\n",
       "         5.00000000e-01,  5.00000000e-01,  5.00000000e-01,\n",
       "         5.00000000e-01,  4.93801686e-01,  0.00000000e+00,\n",
       "        -5.00000000e-01, -5.00000000e-01,  1.59656230e+00,\n",
       "         0.00000000e+00,  0.00000000e+00,  5.00000000e-01,\n",
       "         1.11022302e-16,  0.00000000e+00, -1.11022302e-16,\n",
       "         0.00000000e+00,  4.91289337e-01,  4.94616878e-01,\n",
       "         5.00000000e-01,  5.00000000e-01,  5.06122140e-01,\n",
       "         1.22474487e+00,  0.00000000e+00, -5.00000000e-01,\n",
       "         2.67261242e-01, -5.00000000e-01, -8.16496581e-01,\n",
       "        -3.06980065e-01,  1.11022302e-16,  1.35248819e+00,\n",
       "         1.22474487e+00, -1.11022302e-16,  1.22200767e+00,\n",
       "        -5.00000000e-01,  5.00000000e-01,  4.98369749e-01,\n",
       "         5.00000000e-01, -4.70620805e-02,  5.14747844e-01],\n",
       "       [-1.22474487e+00,  0.00000000e+00, -3.82235394e-01,\n",
       "         0.00000000e+00, -5.00000000e-01,  5.00000000e-01,\n",
       "        -8.16496581e-01,  0.00000000e+00, -1.75000000e+00,\n",
       "        -1.99998997e+00, -1.35960411e+00, -1.32833413e+00,\n",
       "        -6.78281150e-01,  5.00562366e-01,  0.00000000e+00,\n",
       "         0.00000000e+00,  1.22474487e+00, -5.00000000e-01,\n",
       "         0.00000000e+00, -5.00000000e-01,  6.92488930e-01,\n",
       "         4.36743541e-01, -5.00000000e-01,  0.00000000e+00,\n",
       "        -1.99992717e+00, -1.37019956e+00, -1.39186413e+00,\n",
       "        -1.35453959e+00, -1.29661338e+00,  5.00000000e-01,\n",
       "         0.00000000e+00,  5.00000000e-01,  5.55111512e-17,\n",
       "         1.06904497e+00,  5.00000000e-01,  1.60356745e+00,\n",
       "        -3.10316769e-13,  0.00000000e+00, -1.99992880e+00,\n",
       "        -5.81990987e-01, -1.02205168e+00, -1.45685758e+00,\n",
       "        -1.43294086e+00, -1.39591486e+00, -8.45094886e-01,\n",
       "        -1.02204081e+00,  0.00000000e+00,  1.11022302e-16,\n",
       "        -1.94943257e+00,  1.09606778e-01, -1.99981098e+00,\n",
       "        -1.99998635e+00, -1.99992998e+00,  3.25658162e-02,\n",
       "        -4.55937432e-01, -5.06053022e-01, -9.91962623e-01,\n",
       "        -7.93725980e-01, -4.08230347e-01, -7.33448341e-02,\n",
       "         6.27167872e-02,  2.28494574e-01,  6.45525970e-01,\n",
       "         2.67261242e-01,  5.74959575e-01,  9.86193407e-01,\n",
       "        -1.09983808e+00, -1.94162779e+00, -1.80652920e+00,\n",
       "        -1.53480437e+00, -1.69450256e+00, -8.95664342e-01,\n",
       "        -1.57527884e+00, -4.18672510e-01,  5.57990622e-01,\n",
       "        -1.04780343e-01,  3.85609850e-01,  6.58238983e-01,\n",
       "         3.71442439e-01,  6.64284917e-03, -5.75912284e-02,\n",
       "         1.33979225e+00, -1.97108696e+00, -1.59118451e+00,\n",
       "        -1.32152496e+00, -9.16793528e-01, -1.21236673e+00,\n",
       "        -1.48463567e+00, -7.47432605e-01,  1.78911899e-01,\n",
       "         1.45028352e+00,  1.93499915e+00,  7.79724953e-01,\n",
       "         1.20213116e+00, -9.99313988e-01,  5.21399481e-01,\n",
       "        -1.04054329e+00,  3.62355896e-01, -1.96331315e+00,\n",
       "        -1.56850241e+00, -9.09904419e-01, -2.93096041e-01,\n",
       "        -5.84693899e-01, -1.60546992e+00,  5.37820958e-02,\n",
       "         1.45945303e+00,  1.99296207e+00,  1.22428960e+00,\n",
       "         1.21538684e+00,  1.19763694e+00,  6.47697578e-01,\n",
       "         5.00000000e-01, -1.22723051e+00, -1.39893815e+00,\n",
       "        -1.93942989e+00, -1.59695210e+00, -4.03440030e-01,\n",
       "         1.87127278e-01,  1.24131080e+00,  1.92881557e+00,\n",
       "        -1.98934929e+00,  1.96655575e+00,  1.91690377e+00,\n",
       "         1.21993482e+00,  1.22002093e+00,  1.22836452e+00,\n",
       "         6.46691440e-01, -8.16496581e-01,  6.87775644e-01,\n",
       "         8.94637787e-01,  7.17792623e-01, -1.99993014e+00,\n",
       "        -1.99802163e+00,  1.93212748e+00,  1.21289195e+00,\n",
       "         1.67800231e+00,  1.22035783e+00,  1.21063841e+00,\n",
       "         1.22298448e+00,  1.21686538e+00,  1.21804534e+00,\n",
       "         1.11648882e+00,  2.03954254e-02, -5.00000000e-01,\n",
       "        -5.09388728e-01, -2.00000000e+00, -8.16496581e-01,\n",
       "        -1.13243791e+00,  5.00000000e-01,  8.16496581e-01,\n",
       "         1.56280760e+00,  4.90171431e-01,  5.00000000e-01,\n",
       "         5.00000000e-01,  5.00000000e-01,  5.00000000e-01,\n",
       "         5.00000000e-01,  5.02062693e-01,  0.00000000e+00,\n",
       "         2.00000000e+00, -5.00000000e-01, -7.87913862e-01,\n",
       "         0.00000000e+00,  0.00000000e+00,  5.00000000e-01,\n",
       "         1.11022302e-16,  0.00000000e+00, -1.11022302e-16,\n",
       "         0.00000000e+00,  4.99992426e-01,  5.08641931e-01,\n",
       "         5.00000000e-01,  5.00000000e-01,  4.97955952e-01,\n",
       "        -8.16496581e-01,  1.58113883e+00, -1.75000000e+00,\n",
       "         1.60356745e+00,  2.00000000e+00, -8.16496581e-01,\n",
       "        -1.56280760e+00,  1.11022302e-16, -1.16175267e+00,\n",
       "        -8.16496581e-01, -1.11022302e-16, -6.73657165e-01,\n",
       "        -5.00000000e-01,  5.00000000e-01,  4.98369749e-01,\n",
       "         5.00000000e-01, -1.10595889e+00, -1.17149509e+00],\n",
       "       [ 8.16496581e-01,  0.00000000e+00, -3.82235394e-01,\n",
       "         0.00000000e+00, -5.00000000e-01,  5.00000000e-01,\n",
       "        -8.16496581e-01,  0.00000000e+00,  7.50000000e-01,\n",
       "         5.02041636e-01,  8.13305878e-01,  8.16434933e-01,\n",
       "         7.81268872e-01,  4.98312142e-01,  0.00000000e+00,\n",
       "         0.00000000e+00, -8.16496581e-01, -5.00000000e-01,\n",
       "         0.00000000e+00, -5.00000000e-01, -2.01045173e-01,\n",
       "        -7.39104455e-01, -5.00000000e-01,  0.00000000e+00,\n",
       "         4.94472957e-01,  8.15347184e-01,  8.11502511e-01,\n",
       "         8.11962626e-01,  8.17590878e-01,  5.00000000e-01,\n",
       "         0.00000000e+00,  5.00000000e-01,  5.55111512e-17,\n",
       "        -2.67261242e-01, -7.50000000e-01, -1.06904497e+00,\n",
       "        -1.11803399e+00,  0.00000000e+00,  5.09415827e-01,\n",
       "         7.66858712e-01,  8.17641341e-01,  8.06458435e-01,\n",
       "         8.14380026e-01,  8.11244613e-01, -1.02137326e+00,\n",
       "         8.16358135e-01,  0.00000000e+00,  1.11022302e-16,\n",
       "         2.54273814e-01,  5.88831967e-01,  5.24437587e-01,\n",
       "         4.93663853e-01,  4.91389162e-01,  6.38274920e-01,\n",
       "         1.07874889e+00, -4.30069085e-01, -3.00094933e-01,\n",
       "        -5.46326038e-01, -4.74816448e-01, -5.72368230e-01,\n",
       "        -6.62307065e-01, -1.12574627e+00, -1.93646292e+00,\n",
       "         1.60356745e+00, -1.58113883e+00, -2.13231007e-01,\n",
       "        -4.83409658e-01,  2.17264299e-01,  1.63912881e-01,\n",
       "        -2.39133825e-02,  4.53719264e-01,  1.29422402e+00,\n",
       "        -1.05894200e-01,  2.60711819e-02, -4.22041830e-01,\n",
       "        -5.64154574e-01, -7.33235135e-01,  1.49465089e-02,\n",
       "         4.65346427e-01,  6.33132245e-01, -5.75912284e-02,\n",
       "        -9.16097265e-02,  6.02133615e-01,  1.98898063e-01,\n",
       "         1.53480275e-01, -2.51751083e-02,  6.21177299e-02,\n",
       "         3.28307533e-01,  1.35726596e+00,  8.54984515e-01,\n",
       "         1.15184973e-01, -5.51142653e-01, -8.10750986e-01,\n",
       "        -2.14758833e-01,  9.55285467e-01, -1.97044147e+00,\n",
       "        -3.93439255e-01,  3.62355896e-01,  1.21621168e-01,\n",
       "         4.89307511e-02,  2.61698174e-02, -2.76104967e-02,\n",
       "         1.19325285e-02,  7.68471883e-01,  1.13553561e+00,\n",
       "         4.77777059e-01, -5.14145374e-01, -8.62510256e-01,\n",
       "        -9.36021252e-01, -9.91099573e-01,  3.61484014e-01,\n",
       "         5.00000000e-01, -3.03508621e-01,  4.88001680e-01,\n",
       "         5.32392518e-01, -3.68527407e-01, -4.03440030e-01,\n",
       "        -2.91570410e-01, -4.66915071e-01, -5.28442623e-02,\n",
       "         4.19811099e-01, -5.74699596e-01, -6.47102561e-01,\n",
       "        -8.17859373e-01, -8.52288203e-01, -9.04907651e-01,\n",
       "        -2.14491356e-03, -8.16496581e-01,  4.31252333e-01,\n",
       "         3.30451795e-01,  1.20403924e+00,  4.91662804e-01,\n",
       "         4.65024541e-01, -5.64106123e-01, -6.25005727e-01,\n",
       "        -3.09517915e-02, -8.64080770e-01, -9.76083233e-01,\n",
       "        -7.85085557e-01, -7.67035232e-01, -7.73903988e-01,\n",
       "        -1.65656737e-01,  2.03954254e-02,  2.00000000e+00,\n",
       "         4.13017888e-02,  5.00000000e-01,  1.22474487e+00,\n",
       "         5.96019955e-02,  5.00000000e-01,  8.16496581e-01,\n",
       "         3.06980065e-01,  5.03267614e-01,  5.00000000e-01,\n",
       "         5.00000000e-01,  5.00000000e-01,  5.00000000e-01,\n",
       "         5.00000000e-01,  5.02062693e-01,  0.00000000e+00,\n",
       "        -5.00000000e-01, -5.00000000e-01, -7.87913862e-01,\n",
       "         0.00000000e+00,  0.00000000e+00, -2.00000000e+00,\n",
       "         1.11022302e-16,  0.00000000e+00, -1.11022302e-16,\n",
       "         0.00000000e+00,  4.99992426e-01,  4.94616878e-01,\n",
       "         5.00000000e-01,  5.00000000e-01,  4.97955952e-01,\n",
       "        -8.16496581e-01, -1.58113883e+00,  7.50000000e-01,\n",
       "         2.67261242e-01, -5.00000000e-01,  1.22474487e+00,\n",
       "        -3.06980065e-01,  1.11022302e-16,  4.85508580e-01,\n",
       "        -8.16496581e-01, -1.11022302e-16, -8.81609099e-01,\n",
       "        -5.00000000e-01,  5.00000000e-01,  4.98369749e-01,\n",
       "         5.00000000e-01,  1.12948993e+00,  1.31349450e+00],\n",
       "       [ 8.16496581e-01,  0.00000000e+00,  6.37058989e-01,\n",
       "         0.00000000e+00,  2.00000000e+00, -2.00000000e+00,\n",
       "         1.22474487e+00,  0.00000000e+00,  7.50000000e-01,\n",
       "         4.93865062e-01,  8.13305878e-01,  8.16434933e-01,\n",
       "         7.74581358e-01,  5.00562366e-01,  0.00000000e+00,\n",
       "         0.00000000e+00, -8.16496581e-01, -5.00000000e-01,\n",
       "         0.00000000e+00,  2.00000000e+00,  6.92488930e-01,\n",
       "         1.78056982e+00, -5.00000000e-01,  0.00000000e+00,\n",
       "         4.94472957e-01,  8.15347184e-01,  8.11502511e-01,\n",
       "         8.11962626e-01,  8.17590878e-01,  5.00000000e-01,\n",
       "         0.00000000e+00,  5.00000000e-01,  5.55111512e-17,\n",
       "         1.06904497e+00, -7.50000000e-01,  2.67261242e-01,\n",
       "         1.11803399e+00,  0.00000000e+00,  5.09415827e-01,\n",
       "         7.55447124e-01,  8.06710307e-01,  8.06458435e-01,\n",
       "         8.02698046e-01,  8.11244613e-01,  1.20256065e+00,\n",
       "         8.00845989e-01,  0.00000000e+00,  1.11022302e-16,\n",
       "         8.47579380e-01, -1.96074347e+00,  4.96718899e-01,\n",
       "         4.99453783e-01,  5.13806551e-01,  6.38274920e-01,\n",
       "         1.09030526e+00,  1.99381851e+00,  1.92759051e+00,\n",
       "         1.94255458e+00,  1.99380162e+00,  1.94905386e+00,\n",
       "         1.91975641e+00,  1.49449876e+00,  6.45525970e-01,\n",
       "         2.67261242e-01,  5.74959575e-01, -1.81246356e+00,\n",
       "        -4.83409658e-01,  7.53549595e-01,  5.47538772e-01,\n",
       "        -1.43480295e-01,  1.37967694e+00, -9.61360993e-01,\n",
       "         5.42605165e-01,  1.73220000e+00,  1.61446014e+00,\n",
       "         1.95625822e+00,  1.80374956e+00,  1.12539969e+00,\n",
       "         7.44160118e-01,  6.49166709e-01,  9.50255268e-01,\n",
       "        -1.75203602e+00,  1.64686117e-01, -3.64646449e-01,\n",
       "        -3.44832306e-01, -8.74835015e-01, -4.73379942e-01,\n",
       "        -7.66050911e-01, -4.01398992e-01, -2.66306652e-01,\n",
       "        -2.55239428e-02, -2.80557131e-02,  1.58749869e+00,\n",
       "         1.12776556e+00, -9.75965530e-01,  2.79631220e-01,\n",
       "         1.91025112e+00, -1.96043831e+00,  6.13897326e-01,\n",
       "        -2.09314880e-01, -9.50165676e-01, -1.25946342e+00,\n",
       "        -1.09779263e+00, -5.28630340e-01, -1.03408302e+00,\n",
       "        -1.37603164e+00, -6.37198727e-01, -7.77244523e-01,\n",
       "        -6.16118346e-01, -4.69033136e-01, -1.98305112e+00,\n",
       "        -2.00000000e+00,  1.82984908e+00, -7.80802687e-01,\n",
       "         8.17602795e-01,  5.74727265e-01, -1.15107365e+00,\n",
       "        -1.54271210e+00, -1.39694916e+00, -4.22754098e-01,\n",
       "         6.92944847e-01, -7.11872159e-01, -7.46791765e-01,\n",
       "        -8.52428563e-01, -7.72296265e-01, -6.46913730e-01,\n",
       "         6.46691440e-01,  1.22474487e+00, -1.99032773e+00,\n",
       "        -1.64419918e+00, -3.01009810e-01,  5.09300633e-01,\n",
       "         4.38329677e-01, -9.01204336e-01, -1.05163902e+00,\n",
       "        -1.14936835e-01, -7.65588442e-01, -5.33284133e-01,\n",
       "        -9.11038602e-01, -9.41029582e-01, -9.18783694e-01,\n",
       "        -6.19803342e-01,  2.03954254e-02, -5.00000000e-01,\n",
       "        -1.54193345e+00,  5.00000000e-01, -8.16496581e-01,\n",
       "         1.10263692e+00, -2.00000000e+00, -1.22474487e+00,\n",
       "        -1.08838387e+00, -1.99997427e+00, -2.00000000e+00,\n",
       "        -2.00000000e+00, -2.00000000e+00, -2.00000000e+00,\n",
       "        -2.00000000e+00, -1.99998976e+00,  0.00000000e+00,\n",
       "        -5.00000000e-01,  2.00000000e+00,  7.67179287e-01,\n",
       "         0.00000000e+00,  0.00000000e+00,  5.00000000e-01,\n",
       "         1.11022302e-16,  0.00000000e+00, -1.11022302e-16,\n",
       "         0.00000000e+00, -1.99996970e+00, -1.99997259e+00,\n",
       "        -2.00000000e+00, -2.00000000e+00, -1.99999000e+00,\n",
       "        -8.16496581e-01,  0.00000000e+00,  7.50000000e-01,\n",
       "        -1.06904497e+00, -5.00000000e-01,  1.22474487e+00,\n",
       "         1.08838387e+00,  1.11022302e-16, -1.16175267e+00,\n",
       "        -8.16496581e-01, -1.11022302e-16,  1.22022268e+00,\n",
       "         2.00000000e+00, -2.00000000e+00, -1.99999363e+00,\n",
       "        -2.00000000e+00,  1.12948993e+00, -1.17149509e+00]])"
      ]
     },
     "execution_count": 15,
     "metadata": {},
     "output_type": "execute_result"
    }
   ],
   "source": [
    "# 2.2\n",
    "\n",
    "### Your code begins here ###\n",
    "\n",
    "# standardize the values to zero mean and unit variance before the transformations\n",
    "\n",
    "train_set['df_dc'] = [standardize(drop_time(x)) for x in train_set['df_dc']] \n",
    "test_set['df_dc'] = [standardize(drop_time(x)) for x in test_set['df_dc']] \n",
    "\n",
    "#train_set['df_dc'][0]\n",
    "\n",
    "### Your code ends here ###"
   ]
  },
  {
   "cell_type": "code",
   "execution_count": 16,
   "metadata": {},
   "outputs": [],
   "source": [
    "from sklearn.decomposition import PCA\n",
    "\n",
    "pca = PCA(n_components=5)\n",
    "\n",
    "pca_train_df = train_set.copy() # Copy original dataset so it is not affected\n",
    "pca_test_df = test_set.copy()\n",
    "\n",
    "def combine_rows_vertically(row):\n",
    "    df_line = row[0]\n",
    "    for i in range(1, len(row)):\n",
    "        df_line = np.vstack((df_line,row[i]))\n",
    "        \n",
    "    \n",
    "    df_line = df_line.reshape((5,1,5))\n",
    "    return df_line\n",
    "\n",
    "dc_pca_set = [x for i,x in enumerate(pca_train_df['df_dc'])] # Transform dataframe rows into numpy list for easier later use\n",
    "dc_pca_set = np.array(dc_pca_set) # Transform list into array for later use\n",
    "\n",
    "dc_pca_testset = [x for i,x in enumerate(pca_test_df['df_dc'])]\n",
    "dc_pca_testset = np.array(dc_pca_testset)\n",
    "\n",
    "dc_pca_set0 = pca.fit_transform(dc_pca_set[:,0,:]) # Transforms acc_0 axis from all samples against true classes\n",
    "dc_pca_testset0 = pca.transform(dc_pca_testset[:,0,:])\n",
    "\n",
    "dc_pca_set1 = pca.fit_transform(dc_pca_set[:,1,:])\n",
    "dc_pca_testset1 = pca.transform(dc_pca_testset[:,1,:])\n",
    "\n",
    "dc_pca_set2 = pca.fit_transform(dc_pca_set[:,2,:])\n",
    "dc_pca_testset2 = pca.transform(dc_pca_testset[:,2,:])\n",
    "\n",
    "dc_pca_set3 = pca.fit_transform(dc_pca_set[:,3,:]) # Transforms acc_0 axis from all samples against true classes\n",
    "dc_pca_testset3 = pca.transform(dc_pca_testset[:,3,:])\n",
    "\n",
    "dc_pca_set4 = pca.fit_transform(dc_pca_set[:,4,:])\n",
    "dc_pca_testset4 = pca.transform(dc_pca_testset[:,4,:])\n",
    "\n",
    "pca_train_df['df_dc'] = [combine_rows_vertically(x) for i,x in enumerate(zip(dc_pca_set0,dc_pca_set1,dc_pca_set2,dc_pca_set3,dc_pca_set4))]\n",
    "pca_test_df['df_dc'] = [combine_rows_vertically(x) for i,x in enumerate(zip(dc_pca_testset0,dc_pca_testset1,dc_pca_testset2,dc_pca_testset3,dc_pca_testset4))]\n"
   ]
  },
  {
   "cell_type": "code",
   "execution_count": 17,
   "metadata": {
    "scrolled": true
   },
   "outputs": [
    {
     "data": {
      "text/plain": [
       "(5, 1, 5)"
      ]
     },
     "metadata": {},
     "output_type": "display_data"
    },
    {
     "data": {
      "text/plain": [
       "array([[[ 4.29483531, -1.41517333, -3.63067359,  2.14186398,\n",
       "          0.13142577]],\n",
       "\n",
       "       [[ 0.10595957,  3.91403167, -2.58440097,  1.61854648,\n",
       "         -1.63718213]],\n",
       "\n",
       "       [[ 3.93773484,  8.22648495,  2.82855658, -1.43589763,\n",
       "          0.22858539]],\n",
       "\n",
       "       [[ 0.48373207, -1.42506353, -1.42877932, -1.47625348,\n",
       "         -0.55485879]],\n",
       "\n",
       "       [[ 0.74523304, -8.72946933,  1.96096767, -0.65292423,\n",
       "         -1.27671642]]])"
      ]
     },
     "execution_count": 17,
     "metadata": {},
     "output_type": "execute_result"
    }
   ],
   "source": [
    "display(pca_train_df['df_dc'][0].shape)\n",
    "pca_train_df['df_dc'][0]"
   ]
  },
  {
   "cell_type": "code",
   "execution_count": 18,
   "metadata": {},
   "outputs": [],
   "source": [
    "from sklearn.discriminant_analysis import LinearDiscriminantAnalysis\n",
    "\n",
    "lda_train_df = train_set.copy() # Copy original dataset so it is not affected\n",
    "lda_test_df = test_set.copy()\n",
    "\n",
    "lda = LinearDiscriminantAnalysis(n_components=5) # LDA with 5 dimensions\n",
    "\n",
    "dc_set = [x for i,x in enumerate(lda_train_df['df_dc'])] # Transform dataframe rows into numpy list for easier later use\n",
    "dc_set = np.array(dc_set) # Transform list into array for later use\n",
    "\n",
    "dc_testset = [x for i,x in enumerate(lda_test_df['df_dc'])]\n",
    "dc_testset = np.array(dc_testset)\n",
    "\n",
    "dc_set0 = lda.fit_transform(dc_set[:,0,:], lda_train_df['exercise_id']) # Transforms acc_0 axis from all samples against true classes\n",
    "dc_testset0 = lda.transform(dc_testset[:,0,:])\n",
    "dc_set1 = lda.fit_transform(dc_set[:,1,:], lda_train_df['exercise_id'])\n",
    "dc_testset1 = lda.transform(dc_testset[:,1,:])\n",
    "dc_set2 = lda.fit_transform(dc_set[:,2,:], lda_train_df['exercise_id'])\n",
    "dc_testset2 = lda.transform(dc_testset[:,2,:])\n",
    "dc_set3 = lda.fit_transform(dc_set[:,3,:], lda_train_df['exercise_id'])\n",
    "dc_testset3 = lda.transform(dc_testset[:,3,:])\n",
    "dc_set4 = lda.fit_transform(dc_set[:,4,:], lda_train_df['exercise_id'])\n",
    "dc_testset4 = lda.transform(dc_testset[:,4,:])\n",
    "\n",
    "lda_train_df['df_dc'] = [combine_rows_vertically(x) for i,x in enumerate(zip(dc_set0,dc_set1,dc_set2,dc_set3,dc_set4))] # Calls combine_dc_lda_rows to make full dataframe from transformed datasets\n",
    "lda_test_df['df_dc'] = [combine_rows_vertically(x) for i,x in enumerate(zip(dc_testset0,dc_testset1,dc_testset2,dc_testset3,dc_testset4))]\n",
    "\n"
   ]
  },
  {
   "cell_type": "code",
   "execution_count": 19,
   "metadata": {},
   "outputs": [
    {
     "data": {
      "text/plain": [
       "(5, 1, 5)"
      ]
     },
     "metadata": {},
     "output_type": "display_data"
    },
    {
     "data": {
      "text/plain": [
       "array([[[-0.15201967,  1.99116462, -1.40206454, -2.21139563,\n",
       "         -0.44408119]],\n",
       "\n",
       "       [[ 0.90809375,  1.38269439, -0.76496784,  0.58603318,\n",
       "          1.46361716]],\n",
       "\n",
       "       [[-0.20689717, -0.19497293,  1.1448763 , -1.56874707,\n",
       "          1.84298613]],\n",
       "\n",
       "       [[-0.2737277 ,  0.79642013,  0.03089327,  1.57532862,\n",
       "          1.04395393]],\n",
       "\n",
       "       [[-1.83262685, -0.87387374,  1.38211952, -1.11645188,\n",
       "         -0.19478288]]])"
      ]
     },
     "execution_count": 19,
     "metadata": {},
     "output_type": "execute_result"
    }
   ],
   "source": [
    "display(lda_train_df['df_dc'][0].shape)\n",
    "lda_train_df['df_dc'][0]"
   ]
  },
  {
   "cell_type": "code",
   "execution_count": 20,
   "metadata": {},
   "outputs": [],
   "source": [
    "def pair(x):\n",
    "    new_df = np.dstack([x[0], x[1]]) \n",
    "    return new_df\n",
    "    \n",
    "train_pca_lda_df = [pair(x) for i,x in enumerate(zip(pca_train_df['df_dc'],lda_train_df['df_dc']))] # Combine PCA and LDA data to 3x10 (3x5+5) shape.\n",
    "train_pca_lda_df = np.array(train_pca_lda_df)\n",
    "test_pca_lda_df = [pair(x) for i,x in enumerate(zip(pca_test_df['df_dc'],lda_test_df['df_dc']))]\n",
    "test_pca_lda_df = np.array(test_pca_lda_df)\n",
    "\n",
    "def compute_distance_dc(testsample):\n",
    "    pca_distance = np.sum(np.sum(np.sum(np.square(testsample[:,:,0:5] - train_pca_lda_df[:,:,:,0:5]),axis=2),axis=1), axis = 1)\n",
    "    lda_distance = np.sum(np.sum(np.sum(np.square(testsample[:,:,5:10] - train_pca_lda_df[:,:,:,5:10]),axis=2),axis=1), axis=1)\n",
    "    pca_distance = scale_distance(pca_distance)    \n",
    "    lda_distance = scale_distance(lda_distance)\n",
    "    return [pca_distance, lda_distance]\n",
    "    \n",
    "def classify(fused_avg):\n",
    "    class_prediction = lda_train_df['exercise_id'][np.argmin(fused_avg)]\n",
    "    return class_prediction\n",
    "\n",
    "test_predictions = [classify(fuse_average(compute_distance_dc(x))) for i,x in enumerate(test_pca_lda_df)]\n"
   ]
  },
  {
   "cell_type": "code",
   "execution_count": 21,
   "metadata": {},
   "outputs": [
    {
     "name": "stdout",
     "output_type": "stream",
     "text": [
      "Classification report: \n",
      "               precision    recall  f1-score   support\n",
      "\n",
      "        ex 1       0.48      0.61      0.54        67\n",
      "        ex 2       0.38      0.31      0.34       103\n",
      "        ex 3       0.41      0.23      0.30       151\n",
      "        ex 4       0.54      0.39      0.45       111\n",
      "        ex 5       0.70      0.60      0.65       105\n",
      "        ex 6       0.10      0.32      0.16        28\n",
      "        ex 7       0.22      0.58      0.32        33\n",
      "\n",
      "    accuracy                           0.40       598\n",
      "   macro avg       0.40      0.43      0.39       598\n",
      "weighted avg       0.46      0.40      0.42       598\n",
      "\n",
      "Precision score: \n",
      " [0.48235294 0.38095238 0.40697674 0.5375     0.7        0.10227273\n",
      " 0.22352941]\n",
      "Recall score: \n",
      " [0.6119403  0.31067961 0.23178808 0.38738739 0.6        0.32142857\n",
      " 0.57575758]\n",
      "Accuracy score: \n",
      " 0.40468227424749165\n",
      "F1 score: \n",
      " 0.39295718023730214\n"
     ]
    },
    {
     "data": {
      "image/png": "[encoded data removed]",
      "text/plain": [
       "<Figure size 432x288 with 2 Axes>"
      ]
     },
     "metadata": {
      "needs_background": "light"
     },
     "output_type": "display_data"
    }
   ],
   "source": [
    "from sklearn import metrics\n",
    "\n",
    "stats_and_cf(test_predictions, test_set['exercise_id'].to_numpy())\n",
    "\n",
    "### End of task 2.2\n",
    "### Your code ends here ###"
   ]
  },
  {
   "cell_type": "markdown",
   "metadata": {
    "nbgrader": {
     "grade": false,
     "grade_id": "cell-6c349269722f7b4d",
     "locked": true,
     "schema_version": 3,
     "solution": false,
     "task": false
    },
    "tags": []
   },
   "source": [
    "# 3. Feature extraction and feature-level fusion for multimodal classification"
   ]
  },
  {
   "cell_type": "markdown",
   "metadata": {
    "nbgrader": {
     "grade": false,
     "grade_id": "cell-61ec26decd69ed9d",
     "locked": true,
     "schema_version": 3,
     "solution": false,
     "task": false
    }
   },
   "source": [
    "<a id='task3'></a>\n",
    "<div class=\" alert alert-warning\">\n",
    "    <b>Assigment.</b> <b>Task 3.</b>\n",
    "\n",
    "Prepare new feature sets for each modality and combine them to single feature representation. Compare two classifiers from scikit-learn. Train classifiers using joint feature presentation. Evaluate and compare the result using testing dataset. Do the subtasks given as\n",
    "<br>   \n",
    "<br> \n",
    "<p> <b>3.1</b> Similar to task 2.1, calculate PCA for accelerometer, but choose now the 10 largest principal components as 10-dim feature vector for each window. In addition, for each window calculate mean and standard deviation of each three acc channels as statistical features, resulting 6-dimensional vector. Combine these to 36-dimensional final feature vector.</p>\n",
    "<br>  \n",
    "<p> <b>3.2</b> Similar to task 2.2, calculate the PCA for depth images using same setup, but now choose the 10 largest principal components as feature vector. Concatenate the image sequence forming 50-dimensional feature vector from each windowed example.</p>\n",
    "<br> \n",
    "<p> <b>3.3</b> Form a joint feature presentation of features extracted in 3.1 and 3.2, resulting 86-dimensional feature vector for each example. Normalize data between 0-1 using the training dataset. Use support vector machine (SVM) with RBF-kernel and Gaussian naiveBayes classifier (use default parameter values for both classifiers). Train the classifiers and evaluate and compare classifiers on testset using confusion matrices and F1 scores.</p>\n",
    "<br> \n",
    "Document your work, evaluate the results, and analyse the outcomes in each subtasks 3.1-3.3.\n",
    "    \n",
    "</div>"
   ]
  },
  {
   "cell_type": "markdown",
   "metadata": {},
   "source": [
    "PCA with 10 dimensions for ACC data"
   ]
  },
  {
   "cell_type": "code",
   "execution_count": 23,
   "metadata": {},
   "outputs": [],
   "source": [
    "# 3.1\n",
    "\n",
    "### Your code begins here ###\n",
    "\n",
    "pca_train_df = df_train_pair.copy()\n",
    "pca_test_df = df_test_pair.copy()\n",
    "\n",
    "pca_train_df['df_acc'] = [standardize(downsample(drop_time(x))) for x in pca_train_df['df_acc']] \n",
    "pca_test_df['df_acc'] = [standardize(downsample(drop_time(x))) for x in pca_test_df['df_acc']] \n",
    "\n",
    "pca = PCA(n_components=10)\n",
    "\n",
    "def combine_rows_horizontally(row): # Calling this function, order of rows matter.\n",
    "    df_line = row[0]\n",
    "    for i in range(1, len(row)):\n",
    "        df_line = np.hstack((df_line,row[i]))\n",
    "    return df_line\n",
    "\n",
    "acc_pca_set = [x for i,x in enumerate(pca_train_df['df_acc'])] # Transform dataframe rows into numpy list for easier later use\n",
    "acc_pca_set = np.array(acc_pca_set) # Transform list into array for later use\n",
    "\n",
    "acc_pca_testset = [x for i,x in enumerate(pca_test_df['df_acc'])]\n",
    "acc_pca_testset = np.array(acc_pca_testset)\n",
    "\n",
    "acc_pca_set0 = pca.fit_transform(acc_pca_set[:,:,0]) # Transforms acc_0 axis from all samples against true classes\n",
    "set0_train_mean = np.mean(acc_pca_set0,axis=1) # 1486 means (for every sample)\n",
    "set0_train_std = np.std(acc_pca_set0,axis=1) # 1486 stds (for every sample)\n",
    "\n",
    "acc_pca_testset0 = pca.transform(acc_pca_testset[:,:,0])\n",
    "set0_test_mean = np.mean(acc_pca_testset0,axis=1)\n",
    "set0_test_std = np.std(acc_pca_testset0,axis=1)\n",
    "\n",
    "acc_pca_set1 = pca.fit_transform(acc_pca_set[:,:,1])\n",
    "set1_train_mean = np.mean(acc_pca_set1,axis=1)\n",
    "set1_train_std = np.std(acc_pca_set1,axis=1)\n",
    "\n",
    "acc_pca_testset1 = pca.transform(acc_pca_testset[:,:,1])\n",
    "set1_test_mean = np.mean(acc_pca_testset1,axis=1)\n",
    "set1_test_std = np.std(acc_pca_testset1,axis=1)\n",
    "\n",
    "acc_pca_set2 = pca.fit_transform(acc_pca_set[:,:,2])\n",
    "set2_train_mean = np.mean(acc_pca_set2,axis=1)\n",
    "set2_train_std = np.std(acc_pca_set2,axis=1)\n",
    "\n",
    "acc_pca_testset2 = pca.transform(acc_pca_testset[:,:,2])\n",
    "set2_test_mean = np.mean(acc_pca_testset2,axis=1)\n",
    "set2_test_std = np.std(acc_pca_testset2,axis=1)\n",
    "\n",
    "train_mean_std_vector = np.array([set0_train_mean, set0_train_std, set1_train_mean, set1_train_std, set2_train_mean, set2_train_std]).T # 1486 vectors of size 1x6\n",
    "test_mean_std_vector = np.array([set0_test_mean, set0_test_std, set1_test_mean, set1_test_std, set2_test_mean, set2_test_std]).T\n",
    "\n",
    "pca_train_df['df_acc'] = [combine_rows_horizontally(x) for i,x in enumerate(zip(acc_pca_set0,acc_pca_set1,acc_pca_set2,train_mean_std_vector))] # Combine function is called and train_mean_std_vector is placed at the end.\n",
    "pca_test_df['df_acc'] = [combine_rows_horizontally(x) for i,x in enumerate(zip(acc_pca_testset0,acc_pca_testset1,acc_pca_testset2,test_mean_std_vector))]\n",
    "\n",
    "### Your code ends here ###"
   ]
  },
  {
   "cell_type": "code",
   "execution_count": 24,
   "metadata": {},
   "outputs": [
    {
     "data": {
      "text/plain": [
       "(36,)"
      ]
     },
     "metadata": {},
     "output_type": "display_data"
    },
    {
     "data": {
      "text/plain": [
       "array([  0.26019202,   6.87384514,  -1.72087815,  -7.60239067,\n",
       "        -0.83819403,   2.63244567,   0.23842865,   0.65722064,\n",
       "         1.07738826,  -0.01821105, -10.71207596,  -1.14031533,\n",
       "         0.50187739,   2.22287972,  -0.66599057,   0.79789452,\n",
       "        -0.37258188,   0.22481959,   0.18838085,  -0.03248133,\n",
       "       -10.96742251,  -1.17559723,   0.46237086,  -0.54730786,\n",
       "        -0.99712913,   0.66688192,   0.2219089 ,   0.04174602,\n",
       "         0.39815955,   0.19494761,   0.15598465,   3.42219409,\n",
       "        -0.8987593 ,   3.38334695,  -1.17014419,   3.31924485])"
      ]
     },
     "execution_count": 24,
     "metadata": {},
     "output_type": "execute_result"
    }
   ],
   "source": [
    "display(pca_train_df['df_acc'][0].shape)\n",
    "pca_train_df['df_acc'][0]"
   ]
  },
  {
   "cell_type": "markdown",
   "metadata": {},
   "source": [
    "PCA with 10 dimensions for DC data"
   ]
  },
  {
   "cell_type": "code",
   "execution_count": 25,
   "metadata": {},
   "outputs": [],
   "source": [
    "# 3.2\n",
    "\n",
    "### Your code begins here ###\n",
    "\n",
    "pca = PCA(n_components=10)\n",
    "\n",
    "pca_train_df['df_dc'] = [standardize(drop_time(x)) for x in pca_train_df['df_dc']] \n",
    "pca_test_df['df_dc'] = [standardize(drop_time(x)) for x in pca_test_df['df_dc']] \n",
    "\n",
    "\n",
    "dc_pca_set = [x for i,x in enumerate(pca_train_df['df_dc'])] # Transform dataframe rows into numpy list for easier later use\n",
    "dc_pca_set = np.array(dc_pca_set) # Transform list into array for later use\n",
    "\n",
    "dc_pca_testset = [x for i,x in enumerate(pca_test_df['df_dc'])]\n",
    "dc_pca_testset = np.array(dc_pca_testset)\n",
    "\n",
    "dc_pca_set0 = pca.fit_transform(dc_pca_set[:,0,:]) # Transforms acc_0 axis from all samples against true classes\n",
    "dc_pca_testset0 = pca.transform(dc_pca_testset[:,0,:])\n",
    "\n",
    "dc_pca_set1 = pca.fit_transform(dc_pca_set[:,1,:])\n",
    "dc_pca_testset1 = pca.transform(dc_pca_testset[:,1,:])\n",
    "\n",
    "dc_pca_set2 = pca.fit_transform(dc_pca_set[:,2,:])\n",
    "dc_pca_testset2 = pca.transform(dc_pca_testset[:,2,:])\n",
    "\n",
    "dc_pca_set3 = pca.fit_transform(dc_pca_set[:,3,:]) # Transforms acc_0 axis from all samples against true classes\n",
    "dc_pca_testset3 = pca.transform(dc_pca_testset[:,3,:])\n",
    "\n",
    "dc_pca_set4 = pca.fit_transform(dc_pca_set[:,4,:])\n",
    "dc_pca_testset4 = pca.transform(dc_pca_testset[:,4,:])\n",
    "\n",
    "pca_train_df['df_dc'] = [combine_rows_horizontally(x) for i,x in enumerate(zip(dc_pca_set0,dc_pca_set1,dc_pca_set2,dc_pca_set3,dc_pca_set4))]\n",
    "pca_test_df['df_dc'] = [combine_rows_horizontally(x) for i,x in enumerate(zip(dc_pca_testset0,dc_pca_testset1,dc_pca_testset2,dc_pca_testset3,dc_pca_testset4))]\n",
    "\n",
    "### Your code ends here ###"
   ]
  },
  {
   "cell_type": "code",
   "execution_count": 26,
   "metadata": {},
   "outputs": [
    {
     "data": {
      "text/plain": [
       "(50,)"
      ]
     },
     "metadata": {},
     "output_type": "display_data"
    },
    {
     "data": {
      "text/plain": [
       "array([ 4.29483531e+00, -1.41518090e+00, -3.63069449e+00,  2.14157077e+00,\n",
       "        1.24033830e-01,  1.33554217e+00,  6.27244544e-01, -3.25091479e+00,\n",
       "        8.78373455e-01,  1.28067792e+00,  1.05959522e-01,  3.91401087e+00,\n",
       "       -2.58444507e+00,  1.61840594e+00, -1.64015049e+00, -2.23870932e+00,\n",
       "       -1.76852846e+00,  1.04636722e-01,  2.19019136e+00,  1.34661923e+00,\n",
       "        3.93773488e+00,  8.22649123e+00,  2.82857564e+00, -1.43530588e+00,\n",
       "        2.10822176e-01,  1.77563492e+00,  6.04701682e-01,  1.78040189e+00,\n",
       "       -5.89838339e-01,  1.05718551e+00,  4.83732256e-01, -1.42506732e+00,\n",
       "       -1.42854065e+00, -1.48519320e+00, -5.37803024e-01, -3.84147833e-01,\n",
       "       -1.45020918e+00, -3.80433430e-01,  1.63077731e+00, -9.52079767e-02,\n",
       "        7.45233077e-01, -8.72952422e+00,  1.96062382e+00, -6.46697661e-01,\n",
       "       -1.27419593e+00,  2.99691079e-02, -1.81377976e+00,  1.04021822e+00,\n",
       "       -2.41882305e+00, -4.19439377e-03])"
      ]
     },
     "execution_count": 26,
     "metadata": {},
     "output_type": "execute_result"
    }
   ],
   "source": [
    "display(pca_train_df['df_dc'][0].shape)\n",
    "pca_train_df['df_dc'][0]"
   ]
  },
  {
   "cell_type": "markdown",
   "metadata": {},
   "source": [
    "3.3 Form a joint feature presentation of features extracted in 3.1 and 3.2, resulting 86-dimensional feature vector for each example. Normalize data between 0-1 using the training dataset. Use support vector machine (SVM) with RBF-kernel and Gaussian naiveBayes classifier (use default parameter values for both classifiers). Train the classifiers and evaluate and compare classifiers on testset using confusion matrices and F1 scores."
   ]
  },
  {
   "cell_type": "code",
   "execution_count": 27,
   "metadata": {},
   "outputs": [],
   "source": [
    "# 3.3\n",
    "\n",
    "### Your code begins here ###\n",
    "from sklearn import svm\n",
    "from sklearn.naive_bayes import GaussianNB\n",
    "from sklearn.preprocessing import MinMaxScaler\n",
    "\n",
    "scaler = MinMaxScaler()\n",
    "\n",
    "trainset = [combine_rows_horizontally(x) for i,x in enumerate(zip(pca_train_df['df_acc'],pca_train_df['df_dc']))]\n",
    "trainset = np.array(trainset)\n",
    "trainset = scaler.fit_transform(trainset)\n",
    "\n",
    "testset = [combine_rows_horizontally(x) for i,x in enumerate(zip(pca_test_df['df_acc'], pca_test_df['df_dc']))]\n",
    "testset = np.array(testset)\n",
    "testset = scaler.transform(testset)\n",
    "\n",
    "svm_clf = svm.SVC(kernel='rbf')\n",
    "svm_clf.fit(trainset, train_set['exercise_id'])\n",
    "svm_predictions = svm_clf.predict(testset)\n",
    "\n",
    "gnb_clf = GaussianNB()\n",
    "gnb_clf.fit(trainset, train_set['exercise_id'])\n",
    "gnb_predictions = gnb_clf.predict(testset)\n"
   ]
  },
  {
   "cell_type": "code",
   "execution_count": 28,
   "metadata": {},
   "outputs": [
    {
     "name": "stdout",
     "output_type": "stream",
     "text": [
      "Support vector machines classification\n",
      "Classification report: \n",
      "               precision    recall  f1-score   support\n",
      "\n",
      "        ex 1       0.81      0.84      0.83        82\n",
      "        ex 2       0.60      0.59      0.59        85\n",
      "        ex 3       0.91      0.50      0.64       156\n",
      "        ex 4       0.69      0.67      0.68        82\n",
      "        ex 5       0.66      0.66      0.66        89\n",
      "        ex 6       0.44      0.81      0.57        48\n",
      "        ex 7       0.54      0.82      0.65        56\n",
      "\n",
      "    accuracy                           0.66       598\n",
      "   macro avg       0.66      0.70      0.66       598\n",
      "weighted avg       0.71      0.66      0.66       598\n",
      "\n",
      "Precision score: \n",
      " [0.81176471 0.5952381  0.90697674 0.6875     0.65555556 0.44318182\n",
      " 0.54117647]\n",
      "Recall score: \n",
      " [0.84146341 0.58823529 0.5        0.67073171 0.66292135 0.8125\n",
      " 0.82142857]\n",
      "Accuracy score: \n",
      " 0.6622073578595318\n",
      "F1 score: \n",
      " 0.6609904692766246\n"
     ]
    },
    {
     "data": {
      "image/png": "[encoded data removed]",
      "text/plain": [
       "<Figure size 432x288 with 2 Axes>"
      ]
     },
     "metadata": {
      "needs_background": "light"
     },
     "output_type": "display_data"
    }
   ],
   "source": [
    "print('Support vector machines classification')\n",
    "stats_and_cf(svm_predictions, test_set['exercise_id'].to_numpy())"
   ]
  },
  {
   "cell_type": "code",
   "execution_count": 29,
   "metadata": {},
   "outputs": [
    {
     "name": "stdout",
     "output_type": "stream",
     "text": [
      "Gaussian Naive Bayes classification\n",
      "Classification report: \n",
      "               precision    recall  f1-score   support\n",
      "\n",
      "        ex 1       0.88      0.75      0.81       100\n",
      "        ex 2       0.32      0.52      0.40        52\n",
      "        ex 3       0.77      0.67      0.72        98\n",
      "        ex 4       0.44      0.80      0.56        44\n",
      "        ex 5       0.82      0.53      0.64       140\n",
      "        ex 6       0.75      0.80      0.77        83\n",
      "        ex 7       0.80      0.84      0.82        81\n",
      "\n",
      "    accuracy                           0.69       598\n",
      "   macro avg       0.68      0.70      0.67       598\n",
      "weighted avg       0.74      0.69      0.70       598\n",
      "\n",
      "Precision score: \n",
      " [0.88235294 0.32142857 0.76744186 0.4375     0.82222222 0.75\n",
      " 0.8       ]\n",
      "Recall score: \n",
      " [0.75       0.51923077 0.67346939 0.79545455 0.52857143 0.79518072\n",
      " 0.83950617]\n",
      "Accuracy score: \n",
      " 0.6872909698996655\n",
      "F1 score: \n",
      " 0.67492318022643\n"
     ]
    },
    {
     "data": {
      "image/png": "[encoded data removed]",
      "text/plain": [
       "<Figure size 432x288 with 2 Axes>"
      ]
     },
     "metadata": {
      "needs_background": "light"
     },
     "output_type": "display_data"
    }
   ],
   "source": [
    "print(\"Gaussian Naive Bayes classification\")\n",
    "stats_and_cf(gnb_predictions, test_set['exercise_id'].to_numpy())"
   ]
  },
  {
   "cell_type": "markdown",
   "metadata": {
    "nbgrader": {
     "grade": false,
     "grade_id": "cell-cedfc7478c461525",
     "locked": true,
     "schema_version": 3,
     "solution": false,
     "task": false
    }
   },
   "source": [
    "# 4. Decision-level fusion for multimodal classification"
   ]
  },
  {
   "cell_type": "markdown",
   "metadata": {
    "nbgrader": {
     "grade": false,
     "grade_id": "cell-21056ef018219662",
     "locked": true,
     "schema_version": 3,
     "solution": false,
     "task": false
    }
   },
   "source": [
    "<a id='task4'></a>\n",
    "<div class=\" alert alert-warning\">\n",
    "    <b>Assigment.</b> <b>Task 4.</b>\n",
    "\n",
    "Use features calculated for each modality in task 3. Choose base classifier for each modality from scikit-learn. Train classifiers for each modality feature presentations separately and combine the outputs in decision level. Evaluate and compare the result on testing dataset. Do the subtasks given as\n",
    "<br>\n",
    "<br> \n",
    "<p> <b>4.1</b> Use base classifiers of support vector machine (SVM) with RBF-kernel and AdaBoost classifier (with random_state=0). \n",
    "Normalize data between 0-1 using the training dataset. Train the base classifiers by tuning the model parameters (<i>C</i> parameter and RBF-kernel <i>gamma</i> in SVM as well as <i>n_estimators</i> and <i>learning_rate</i> in Adaboost) using 10-fold cross-validation on training dataset to find optimal set of parameters (hint: use GridSearchCV from scikit-learn). For grid search use the following values $C = [0.1, 1.0, 10.0, 100.0]$, $gamma=[0.1, 0.25, 0.5, 0.75, 1.0, 2.0]$, $n\\_estimators = [50, 100, 500, 1000]$, and $learning\\_rate = [0.1, 0.25, 0.5, 0.75,1.0]$. Choose the best parameters and train the classifiers for each modality on whole training dataset. Is there a possibility that classifiers will overfit to training data using this parameter selection strategy? If so, why? </p>\n",
    "<br>\n",
    "<p> <b>4.2</b> Predict probabilistic outputs of each trained classifier for both modalities using the test set. </p>\n",
    "<br>\n",
    "<p> <b>4.3</b> Combine the probabilistic outputs of different modalities by fixed classification rules: max, min, prod, and sum. Evaluate, compare, and analyse the final combined results using confusion matrices and F1 scores. Show results for each base classifier combinations (i.e., $SVM_{acc}+SVM_{depth}$, $AdaBoost_{acc}+AdaBoost_{depth}$, $SVM_{acc}+AdaBoost_{depth}$, $AdaBoost_{acc}+SVM_{depth}$)</p>\n",
    "<br>\n",
    "Document your work, evaluate the results, and analyse the outcomes in each subtasks 4.1-4.3.\n",
    "    \n",
    "</div>"
   ]
  },
  {
   "cell_type": "markdown",
   "metadata": {},
   "source": [
    "### 4.1 Use base classifiers of support vector machine (SVM) with RBF-kernel and AdaBoost classifier (with random_state=0). Normalize data between 0-1 using the training dataset. Train the base classifiers by tuning the model parameters (C parameter and RBF-kernel gamma in SVM as well as n_estimators and learning_rate in Adaboost) using 10-fold cross-validation on training dataset to find optimal set of parameters (hint: use GridSearchCV from scikit-learn). For grid search use the following values  𝐶=[0.1,1.0,10.0,100.0] ,  𝑔𝑎𝑚𝑚𝑎=[0.1,0.25,0.5,0.75,1.0,2.0] ,  𝑛_𝑒𝑠𝑡𝑖𝑚𝑎𝑡𝑜𝑟𝑠=[50,100,500,1000] , and  𝑙𝑒𝑎𝑟𝑛𝑖𝑛𝑔_𝑟𝑎𝑡𝑒=[0.1,0.25,0.5,0.75,1.0] . Choose the best parameters and train the classifiers for each modality on whole training dataset. Is there a possibility that classifiers will overfit to training data using this parameter selection strategy? If so, why?"
   ]
  },
  {
   "cell_type": "code",
   "execution_count": 30,
   "metadata": {},
   "outputs": [],
   "source": [
    "# 4.1\n",
    "\n",
    "### Your code begins here ###\n",
    "\n",
    "feature_training_acc = [pd.DataFrame(acc_pca_set0), pd.DataFrame(acc_pca_set1), pd.DataFrame(acc_pca_set2), pd.DataFrame(train_mean_std_vector)]\n",
    "feature_training_acc = pd.concat(feature_training_acc, axis=1, ignore_index=False)\n",
    "\n",
    "feature_testing_acc = [pd.DataFrame(acc_pca_testset0), pd.DataFrame(acc_pca_testset1), pd.DataFrame(acc_pca_testset2), pd.DataFrame(test_mean_std_vector)]\n",
    "feature_testing_acc = pd.concat(feature_testing_acc, axis=1, ignore_index=False)\n",
    "\n",
    "feature_training_dc = [pd.DataFrame(dc_pca_set0), pd.DataFrame(dc_pca_set1), pd.DataFrame(dc_pca_set2),pd.DataFrame(dc_pca_set3), pd.DataFrame(dc_pca_set4) ]\n",
    "feature_training_dc = pd.concat(feature_training_dc, axis=1, ignore_index=False)\n",
    "\n",
    "feature_testing_dc = [pd.DataFrame(dc_pca_testset0), pd.DataFrame(dc_pca_testset1), pd.DataFrame(dc_pca_testset2),pd.DataFrame(dc_pca_testset3), pd.DataFrame(dc_pca_testset4) ]\n",
    "feature_testing_dc = pd.concat(feature_testing_dc, axis=1, ignore_index=False)\n",
    "\n",
    "# normalize dataset\n",
    "feature_training_acc = scaler.fit_transform(feature_training_acc)\n",
    "feature_testing_acc = scaler.transform(feature_testing_acc)\n",
    "\n",
    "feature_training_dc = scaler.fit_transform(feature_training_dc)\n",
    "feature_testing_dc = scaler.transform(feature_testing_dc)\n",
    "\n",
    "### Your code ends here ###"
   ]
  },
  {
   "cell_type": "code",
   "execution_count": 31,
   "metadata": {},
   "outputs": [],
   "source": [
    "from sklearn.ensemble import AdaBoostClassifier\n",
    "from sklearn.model_selection import GridSearchCV\n",
    "\n",
    "C = [0.1,1.0,10.0,100.0]\n",
    "gamma = [0.1,0.25,0.5,0.75,1.0,2.0]\n",
    "n_estimators = [50,100,500,1000]\n",
    "learning_rate = [0.1,0.25,0.5,0.75,1.0]\n",
    "scaler = MinMaxScaler()\n",
    "\n",
    "# define model parameters\n",
    "svm_parameters = {'C':C, 'gamma': gamma}\n",
    "adaBoost_parameters = {'learning_rate': learning_rate,'n_estimators':n_estimators }\n",
    "\n",
    "# models\n",
    "svm_model = svm.SVC(kernel='rbf')\n",
    "ada_model = AdaBoostClassifier(random_state=0)\n",
    "\n",
    "svm_clf = GridSearchCV(svm_model, svm_parameters, cv=10)\n",
    "adaBoost = GridSearchCV(ada_model, adaBoost_parameters, cv=10)"
   ]
  },
  {
   "cell_type": "code",
   "execution_count": null,
   "metadata": {},
   "outputs": [],
   "source": []
  },
  {
   "cell_type": "code",
   "execution_count": 32,
   "metadata": {},
   "outputs": [
    {
     "name": "stdout",
     "output_type": "stream",
     "text": [
      "Best hyperparameters for SVM training acc data :  {'C': 10.0, 'gamma': 0.75}\n"
     ]
    }
   ],
   "source": [
    "# best hyperparams for acc data - SVM\n",
    "svm_clf.fit(feature_training_acc, train_set['exercise_id'])\n",
    "svm_best_params_acc = svm_clf.best_params_\n",
    "print('Best hyperparameters for SVM training acc data : ',svm_best_params_acc)"
   ]
  },
  {
   "cell_type": "code",
   "execution_count": 33,
   "metadata": {},
   "outputs": [
    {
     "name": "stdout",
     "output_type": "stream",
     "text": [
      "Best hyperparameters for SVM training dc data:  {'C': 10.0, 'gamma': 2.0}\n"
     ]
    }
   ],
   "source": [
    "# best hyperparams for dc data - SVM\n",
    "\n",
    "svm_clf.fit(feature_training_dc, train_set['exercise_id'])\n",
    "svm_best_params_dc = svm_clf.best_params_\n",
    "print('Best hyperparameters for SVM training dc data: ',svm_best_params_dc)"
   ]
  },
  {
   "cell_type": "code",
   "execution_count": 34,
   "metadata": {},
   "outputs": [
    {
     "name": "stdout",
     "output_type": "stream",
     "text": [
      "Best hyperparameters for AdaBoost training acc : {'learning_rate': 0.1, 'n_estimators': 500}\n"
     ]
    }
   ],
   "source": [
    "# adabost - acc\n",
    "adaBoost.fit(feature_training_acc, train_set['exercise_id'])\n",
    "ada_best_params_acc = adaBoost.best_params_\n",
    "print('Best hyperparameters for AdaBoost training acc :', ada_best_params_acc)"
   ]
  },
  {
   "cell_type": "code",
   "execution_count": 35,
   "metadata": {},
   "outputs": [
    {
     "name": "stdout",
     "output_type": "stream",
     "text": [
      "Best hyperparameters for AdaBoost training acc : {'learning_rate': 0.75, 'n_estimators': 1000}\n"
     ]
    }
   ],
   "source": [
    "# adabost - dc\n",
    "adaBoost.fit(feature_training_dc, train_set['exercise_id'])\n",
    "ada_best_params_dc = adaBoost.best_params_\n",
    "print('Best hyperparameters for AdaBoost training acc :', ada_best_params_dc)"
   ]
  },
  {
   "cell_type": "markdown",
   "metadata": {},
   "source": [
    "### 4.2 Predict probabilistic outputs of each trained classifier for both modalities using the test set.\n"
   ]
  },
  {
   "cell_type": "code",
   "execution_count": 36,
   "metadata": {},
   "outputs": [
    {
     "name": "stdout",
     "output_type": "stream",
     "text": [
      "The predicted probabilities for acc data using SVM are\n",
      "[[9.24926052e-01 1.60265031e-02 8.81749661e-03 ... 4.87389965e-03\n",
      "  4.32300312e-03 7.43749363e-03]\n",
      " [9.85667000e-01 7.88499581e-04 7.25843803e-03 ... 1.62798147e-03\n",
      "  2.17713133e-03 9.09017072e-04]\n",
      " [9.55060760e-01 3.24508395e-03 1.25957474e-02 ... 1.95079927e-02\n",
      "  3.65309828e-03 3.61916661e-03]\n",
      " ...\n",
      " [2.47899583e-02 1.53245764e-01 5.53504896e-02 ... 9.67399592e-02\n",
      "  3.93319763e-02 1.85564909e-01]\n",
      " [2.13375428e-04 1.55701618e-03 1.17627816e-03 ... 3.99118536e-03\n",
      "  2.28623826e-03 4.35546464e-03]\n",
      " [2.80067786e-03 1.08182027e-01 1.81161996e-02 ... 1.02928902e-01\n",
      "  6.85146107e-03 1.56556721e-01]]\n",
      "The predicted probabilities for dc data using SVM are\n",
      "[[0.72611843 0.02160706 0.08863182 ... 0.00611919 0.01464947 0.02047601]\n",
      " [0.65636798 0.00717902 0.0155686  ... 0.00421086 0.00797645 0.01101959]\n",
      " [0.8100916  0.00488605 0.01515276 ... 0.0052422  0.02268461 0.00551636]\n",
      " ...\n",
      " [0.09805453 0.01450579 0.01340461 ... 0.01241226 0.02861903 0.82291382]\n",
      " [0.03899403 0.02282079 0.02961569 ... 0.01389194 0.44885898 0.42478261]\n",
      " [0.00749394 0.00280509 0.00476229 ... 0.00451622 0.46336887 0.50741128]]\n"
     ]
    }
   ],
   "source": [
    "# 4.2\n",
    "\n",
    "### Your code begins here ###\n",
    "\n",
    "\n",
    "\n",
    "# Training SVM with best hyper paremeters\n",
    "svm_best_acc = svm.SVC(kernel='rbf', C=svm_best_params_acc['C'], gamma=svm_best_params_acc['gamma'], probability=True)\n",
    "svm_best_acc.fit(feature_training_acc, train_set['exercise_id'])\n",
    "\n",
    "svm_best_dc = svm.SVC(kernel='rbf', C=svm_best_params_dc['C'], gamma=svm_best_params_dc['gamma'], probability=True)\n",
    "svm_best_dc.fit(feature_training_dc, train_set['exercise_id'])\n",
    "\n",
    "svm_pred_acc = svm_best_acc.predict(feature_testing_acc)\n",
    "svm_probability_acc = svm_best_acc.predict_proba(feature_testing_acc)\n",
    "print('The predicted probabilities for acc data using SVM are')\n",
    "print(svm_probability_acc)\n",
    "\n",
    "svm_pred_dc = svm_best_dc.predict(feature_testing_dc)\n",
    "svm_probability_dc = svm_best_dc.predict_proba(feature_testing_dc)\n",
    "print('The predicted probabilities for dc data using SVM are')\n",
    "print(svm_probability_dc)"
   ]
  },
  {
   "cell_type": "code",
   "execution_count": 37,
   "metadata": {},
   "outputs": [
    {
     "name": "stdout",
     "output_type": "stream",
     "text": [
      "The predicted probabilities for dc data using AdaBoost are\n",
      "[[0.21531935 0.14867768 0.07836411 ... 0.20005152 0.00126298 0.14545577]\n",
      " [0.21985503 0.17396294 0.08404972 ... 0.1619328  0.00158385 0.12470568]\n",
      " [0.16407848 0.17204866 0.158247   ... 0.16296788 0.01222319 0.1722119 ]\n",
      " ...\n",
      " [0.14481105 0.16762005 0.15737403 ... 0.20461492 0.01556589 0.16593076]\n",
      " [0.1507933  0.17131584 0.11448663 ... 0.18748638 0.00145276 0.157541  ]\n",
      " [0.14445251 0.16695031 0.15312348 ... 0.20858138 0.01376864 0.16711199]]\n",
      "The predicted probabilities for dc data using AdaBoost are\n",
      "[[0.15724426 0.13279723 0.17354258 ... 0.02822304 0.16633437 0.15263805]\n",
      " [0.21663754 0.09246135 0.17061095 ... 0.02303752 0.15228935 0.17934176]\n",
      " [0.17366735 0.11649846 0.16171841 ... 0.02174592 0.16757609 0.15860612]\n",
      " ...\n",
      " [0.07911896 0.1292871  0.16982325 ... 0.05720276 0.24581886 0.240978  ]\n",
      " [0.02905033 0.14623117 0.18871067 ... 0.12284727 0.25020373 0.20059798]\n",
      " [0.13179865 0.14864803 0.19548381 ... 0.07571696 0.18158809 0.21472069]]\n"
     ]
    }
   ],
   "source": [
    "# Train adaboost with best hyperparams\n",
    "adaBoost_best_acc = AdaBoostClassifier(random_state=0, learning_rate=ada_best_params_acc['learning_rate'], n_estimators=ada_best_params_acc['n_estimators'] )\n",
    "adaBoost_best_acc.fit(feature_training_acc, train_set['exercise_id'])\n",
    "\n",
    "adaBoost_best_dc = AdaBoostClassifier(random_state=0, learning_rate=ada_best_params_dc['learning_rate'], n_estimators=ada_best_params_dc['n_estimators'] )\n",
    "adaBoost_best_dc.fit(feature_training_dc, train_set['exercise_id'])\n",
    "\n",
    "\n",
    "adaBoost_pred_acc = adaBoost_best_acc.predict(feature_testing_acc)\n",
    "adaBoost_probability_acc = adaBoost_best_acc.predict_proba(feature_testing_acc)\n",
    "print('The predicted probabilities for dc data using AdaBoost are')\n",
    "print(adaBoost_probability_acc)\n",
    "\n",
    "adaBoost_pred_dc = adaBoost_best_dc.predict(feature_testing_dc)\n",
    "adaBoost_probability_dc = adaBoost_best_dc.predict_proba(feature_testing_dc)\n",
    "print('The predicted probabilities for dc data using AdaBoost are')\n",
    "print(adaBoost_probability_dc)\n",
    "\n",
    "### Your code ends here ###\n"
   ]
  },
  {
   "cell_type": "markdown",
   "metadata": {},
   "source": [
    "### 4.3 Combine the probabilistic outputs of different modalities by fixed classification rules: max, min, prod, and sum. Evaluate, compare, and analyse the final combined results using confusion matrices and F1 scores. Show results for each base classifier combinations (i.e.,  𝑆𝑉𝑀𝑎𝑐𝑐+𝑆𝑉𝑀𝑑𝑒𝑝𝑡ℎ ,  𝐴𝑑𝑎𝐵𝑜𝑜𝑠𝑡𝑎𝑐𝑐+𝐴𝑑𝑎𝐵𝑜𝑜𝑠𝑡𝑑𝑒𝑝𝑡ℎ ,  𝑆𝑉𝑀𝑎𝑐𝑐+𝐴𝑑𝑎𝐵𝑜𝑜𝑠𝑡𝑑𝑒𝑝𝑡ℎ ,  𝐴𝑑𝑎𝐵𝑜𝑜𝑠𝑡𝑎𝑐𝑐+𝑆𝑉𝑀𝑑𝑒𝑝𝑡ℎ )"
   ]
  },
  {
   "cell_type": "code",
   "execution_count": 38,
   "metadata": {},
   "outputs": [
    {
     "name": "stdout",
     "output_type": "stream",
     "text": [
      "SVM_acc F1:  0.473059859692457\n",
      "SVM_dc F1:  0.7805377896188342\n",
      "ADA_acc F1:  0.3780532295967398\n",
      "ADA_dc F1:  0.3784151542194408\n"
     ]
    }
   ],
   "source": [
    "# 4.3\n",
    "\n",
    "### Your code begins here ###\n",
    "print('SVM_acc F1: ', metrics.f1_score(svm_pred_acc, test_set['exercise_id'], average='macro'))\n",
    "print('SVM_dc F1: ', metrics.f1_score(svm_pred_dc,test_set['exercise_id'], average='macro'))\n",
    "\n",
    "print('ADA_acc F1: ', metrics.f1_score(adaBoost_pred_acc, test_set['exercise_id'], average='macro'))\n",
    "print('ADA_dc F1: ', metrics.f1_score(adaBoost_pred_dc, test_set['exercise_id'], average='macro'))\n",
    "\n",
    "# classifier combinations\n",
    "svm_acc_svm_dc = np.array((svm_probability_acc, svm_probability_dc))\n",
    "ada_acc_ada_dc = np.array((adaBoost_probability_acc, adaBoost_probability_dc))\n",
    "svm_acc_ada_dc = np.array((svm_probability_acc, adaBoost_probability_dc))\n",
    "ada_acc_svm_dc = np.array((adaBoost_probability_acc, svm_probability_dc))\n",
    "\n",
    "### Your code ends here ###"
   ]
  },
  {
   "cell_type": "code",
   "execution_count": 39,
   "metadata": {},
   "outputs": [],
   "source": [
    "label = np.array([1,2,3,4,5,6,7])\n",
    "\n",
    "def get_f1_score(data, operator):\n",
    "    if(operator == 'max'):\n",
    "        acc = metrics.f1_score(label[np.argmax(np.max(data,axis=0),axis=1)],test_set['exercise_id'], average='macro')\n",
    "        print('Max: ', acc)\n",
    "        return acc\n",
    "    elif(operator == 'min'):\n",
    "        acc = metrics.f1_score(label[np.argmax(np.min(data,axis=0),axis=1)],test_set['exercise_id'], average='macro')\n",
    "        print('Min: ', acc)\n",
    "        return acc\n",
    "    elif(operator == 'prod'):\n",
    "        acc = metrics.f1_score(label[np.argmax(np.prod(data,axis=0),axis=1)],test_set['exercise_id'], average='macro')\n",
    "        print('Prod: ', acc)\n",
    "        return acc\n",
    "    else:\n",
    "        acc = metrics.f1_score(label[np.argmax(np.sum(data,axis=0),axis=1)],test_set['exercise_id'], average='macro')\n",
    "        print('Sum: ', acc)\n",
    "        return acc"
   ]
  },
  {
   "cell_type": "code",
   "execution_count": 40,
   "metadata": {},
   "outputs": [
    {
     "name": "stdout",
     "output_type": "stream",
     "text": [
      "SVM_acc and SVM_dc F1 scores\n",
      "Max:  0.765880997523573\n",
      "Min:  0.8104092372315742\n",
      "Prod:  0.8320079920813713\n",
      "Sum:  0.7905265605488917\n"
     ]
    }
   ],
   "source": [
    "\n",
    "print(\"SVM_acc and SVM_dc F1 scores\")\n",
    "\n",
    "operators = ['max', 'min', 'prod', 'sum']\n",
    "\n",
    "for i, val in enumerate(operators):\n",
    "    get_f1_score(svm_acc_svm_dc, val)\n"
   ]
  },
  {
   "cell_type": "code",
   "execution_count": 41,
   "metadata": {},
   "outputs": [
    {
     "name": "stdout",
     "output_type": "stream",
     "text": [
      "AdaBoost acc and AdaBoost dc F1 scores\n",
      "Max:  0.3867177115655857\n",
      "Min:  0.50298034159215\n",
      "Prod:  0.5262959239396141\n",
      "Sum:  0.5271247667779323\n"
     ]
    }
   ],
   "source": [
    "\n",
    "print(\"AdaBoost acc and AdaBoost dc F1 scores\")\n",
    "\n",
    "for i, val in enumerate(operators):\n",
    "    get_f1_score(ada_acc_ada_dc, val)\n",
    "    "
   ]
  },
  {
   "cell_type": "code",
   "execution_count": 42,
   "metadata": {},
   "outputs": [
    {
     "name": "stdout",
     "output_type": "stream",
     "text": [
      "SVM acc and AdaBoost dc F1 scores\n",
      "Max:  0.48643723655120696\n",
      "Min:  0.5965691210022994\n",
      "Prod:  0.5592613317683075\n",
      "Sum:  0.5099227484189177\n"
     ]
    }
   ],
   "source": [
    "print(\"SVM acc and AdaBoost dc F1 scores\")\n",
    "\n",
    "for i, val in enumerate(operators):\n",
    "    get_f1_score(svm_acc_ada_dc, val)\n"
   ]
  },
  {
   "cell_type": "code",
   "execution_count": 43,
   "metadata": {},
   "outputs": [
    {
     "name": "stdout",
     "output_type": "stream",
     "text": [
      "AdaBoost acc and SVM dc F1 scores\n",
      "Max:  0.7953187707831669\n",
      "Min:  0.8472990630363963\n",
      "Prod:  0.8207970734453588\n",
      "Sum:  0.8067102773437899\n"
     ]
    }
   ],
   "source": [
    "print(\"AdaBoost acc and SVM dc F1 scores\")\n",
    "\n",
    "for i, val in enumerate(operators):\n",
    "    get_f1_score(ada_acc_svm_dc, val)\n",
    "    "
   ]
  },
  {
   "cell_type": "code",
   "execution_count": 44,
   "metadata": {},
   "outputs": [],
   "source": [
    "# confution matrics "
   ]
  },
  {
   "cell_type": "code",
   "execution_count": 45,
   "metadata": {},
   "outputs": [
    {
     "name": "stdout",
     "output_type": "stream",
     "text": [
      "Confusion matrix: \n",
      "\n",
      "SVM acc CM\n",
      "SVM dc \n",
      "AdaBoost acc\n",
      "AdaBoost dc\n"
     ]
    },
    {
     "data": {
      "image/png": "[encoded data removed]",
      "text/plain": [
       "<Figure size 432x288 with 2 Axes>"
      ]
     },
     "metadata": {
      "needs_background": "light"
     },
     "output_type": "display_data"
    },
    {
     "data": {
      "image/png": "[encoded data removed]",
      "text/plain": [
       "<Figure size 432x288 with 2 Axes>"
      ]
     },
     "metadata": {
      "needs_background": "light"
     },
     "output_type": "display_data"
    },
    {
     "data": {
      "image/png": "[encoded data removed]",
      "text/plain": [
       "<Figure size 432x288 with 2 Axes>"
      ]
     },
     "metadata": {
      "needs_background": "light"
     },
     "output_type": "display_data"
    },
    {
     "data": {
      "image/png": "[encoded data removed]",
      "text/plain": [
       "<Figure size 432x288 with 2 Axes>"
      ]
     },
     "metadata": {
      "needs_background": "light"
     },
     "output_type": "display_data"
    }
   ],
   "source": [
    "#confusion matrix - individual classifiers\n",
    "class_names = ['1','2','3','4','5','6', '7']\n",
    "\n",
    "print(\"Confusion matrix: \\n\")\n",
    "\n",
    "def confusion_mat_individual(classifier, name):\n",
    "    print(name)\n",
    "    cm = metrics.confusion_matrix(classifier, test_set['exercise_id'])\n",
    "    metrics.ConfusionMatrixDisplay(cm,display_labels=class_names).plot()\n",
    "\n",
    "confusion_mat_individual(svm_pred_acc, 'SVM acc CM')\n",
    "\n",
    "confusion_mat_individual(svm_pred_dc, 'SVM dc ')\n",
    "\n",
    "confusion_mat_individual(adaBoost_pred_acc, 'AdaBoost acc')\n",
    "\n",
    "confusion_mat_individual(adaBoost_pred_dc, 'AdaBoost dc')\n",
    "\n"
   ]
  },
  {
   "cell_type": "code",
   "execution_count": 46,
   "metadata": {},
   "outputs": [],
   "source": [
    "# confution matrix for classifier combinations\n",
    "def get_confusion_mat_combinations(data, operator):\n",
    "    if(operator == 'max'):\n",
    "        print(\"Max\")\n",
    "        cm = metrics.confusion_matrix(test_set['exercise_id'],label[np.argmax(np.max(data,axis=0),axis=1)])\n",
    "        metrics.ConfusionMatrixDisplay(cm,display_labels=class_names).plot()\n",
    "   \n",
    "    elif(operator == 'min'):\n",
    "        print(\"Min\")\n",
    "        cm = metrics.confusion_matrix(test_set['exercise_id'],label[np.argmax(np.min(data,axis=0),axis=1)])\n",
    "        metrics.ConfusionMatrixDisplay(cm,display_labels=class_names).plot()\n",
    "     \n",
    "    elif(operator == 'prod'):\n",
    "        print(\"Prod\")\n",
    "        cm = metrics.confusion_matrix(test_set['exercise_id'],label[np.argmax(np.prod(data,axis=0),axis=1)])\n",
    "        metrics.ConfusionMatrixDisplay(cm,display_labels=class_names).plot()\n",
    "       \n",
    "    else:\n",
    "        print(\"Sum\")\n",
    "        cm = metrics.confusion_matrix(test_set['exercise_id'],label[np.argmax(np.sum(data,axis=0),axis=1)])\n",
    "        metrics.ConfusionMatrixDisplay(cm,display_labels=class_names).plot()\n",
    "        "
   ]
  },
  {
   "cell_type": "code",
   "execution_count": 47,
   "metadata": {},
   "outputs": [
    {
     "name": "stdout",
     "output_type": "stream",
     "text": [
      "SVM_acc and SVM_dc combination confusion matrics\n",
      "Max\n",
      "Min\n",
      "Prod\n",
      "Sum\n"
     ]
    },
    {
     "data": {
      "image/png": "[encoded data removed]",
      "text/plain": [
       "<Figure size 432x288 with 2 Axes>"
      ]
     },
     "metadata": {
      "needs_background": "light"
     },
     "output_type": "display_data"
    },
    {
     "data": {
      "image/png": "[encoded data removed]",
      "text/plain": [
       "<Figure size 432x288 with 2 Axes>"
      ]
     },
     "metadata": {
      "needs_background": "light"
     },
     "output_type": "display_data"
    },
    {
     "data": {
      "image/png": "[encoded data removed]",
      "text/plain": [
       "<Figure size 432x288 with 2 Axes>"
      ]
     },
     "metadata": {
      "needs_background": "light"
     },
     "output_type": "display_data"
    },
    {
     "data": {
      "image/png": "[encoded data removed]",
      "text/plain": [
       "<Figure size 432x288 with 2 Axes>"
      ]
     },
     "metadata": {
      "needs_background": "light"
     },
     "output_type": "display_data"
    }
   ],
   "source": [
    "print(\"SVM_acc and SVM_dc combination confusion matrics\")\n",
    "\n",
    "for i, val in enumerate(operators):\n",
    "    get_confusion_mat_combinations(svm_acc_svm_dc, val)"
   ]
  },
  {
   "cell_type": "code",
   "execution_count": 48,
   "metadata": {},
   "outputs": [
    {
     "name": "stdout",
     "output_type": "stream",
     "text": [
      "AdaBoost acc and AdaBoost dc  combination confusion matrics\n",
      "Max\n",
      "Min\n",
      "Prod\n",
      "Sum\n"
     ]
    },
    {
     "data": {
      "image/png": "[encoded data removed]",
      "text/plain": [
       "<Figure size 432x288 with 2 Axes>"
      ]
     },
     "metadata": {
      "needs_background": "light"
     },
     "output_type": "display_data"
    },
    {
     "data": {
      "image/png": "[encoded data removed]",
      "text/plain": [
       "<Figure size 432x288 with 2 Axes>"
      ]
     },
     "metadata": {
      "needs_background": "light"
     },
     "output_type": "display_data"
    },
    {
     "data": {
      "image/png": "[encoded data removed]",
      "text/plain": [
       "<Figure size 432x288 with 2 Axes>"
      ]
     },
     "metadata": {
      "needs_background": "light"
     },
     "output_type": "display_data"
    },
    {
     "data": {
      "image/png": "[encoded data removed]",
      "text/plain": [
       "<Figure size 432x288 with 2 Axes>"
      ]
     },
     "metadata": {
      "needs_background": "light"
     },
     "output_type": "display_data"
    }
   ],
   "source": [
    "\n",
    "print(\"AdaBoost acc and AdaBoost dc  combination confusion matrics\")\n",
    "\n",
    "for i, val in enumerate(operators):\n",
    "    get_confusion_mat_combinations(ada_acc_ada_dc, val)\n",
    "    "
   ]
  },
  {
   "cell_type": "code",
   "execution_count": 49,
   "metadata": {},
   "outputs": [
    {
     "name": "stdout",
     "output_type": "stream",
     "text": [
      "SVM acc and AdaBoost dc  combination confusion matrics\n",
      "Max\n",
      "Min\n",
      "Prod\n",
      "Sum\n"
     ]
    },
    {
     "data": {
      "image/png": "[encoded data removed]",
      "text/plain": [
       "<Figure size 432x288 with 2 Axes>"
      ]
     },
     "metadata": {
      "needs_background": "light"
     },
     "output_type": "display_data"
    },
    {
     "data": {
      "image/png": "[encoded data removed]",
      "text/plain": [
       "<Figure size 432x288 with 2 Axes>"
      ]
     },
     "metadata": {
      "needs_background": "light"
     },
     "output_type": "display_data"
    },
    {
     "data": {
      "image/png": "[encoded data removed]",
      "text/plain": [
       "<Figure size 432x288 with 2 Axes>"
      ]
     },
     "metadata": {
      "needs_background": "light"
     },
     "output_type": "display_data"
    },
    {
     "data": {
      "image/png": "[encoded data removed]",
      "text/plain": [
       "<Figure size 432x288 with 2 Axes>"
      ]
     },
     "metadata": {
      "needs_background": "light"
     },
     "output_type": "display_data"
    }
   ],
   "source": [
    "print(\"SVM acc and AdaBoost dc  combination confusion matrics\")\n",
    "\n",
    "for i, val in enumerate(operators):\n",
    "    get_confusion_mat_combinations(svm_acc_ada_dc, val)\n"
   ]
  },
  {
   "cell_type": "code",
   "execution_count": 50,
   "metadata": {},
   "outputs": [
    {
     "name": "stdout",
     "output_type": "stream",
     "text": [
      "AdaBoost acc and SVM dc  combination confusion matrics\n",
      "Max\n",
      "Min\n",
      "Prod\n",
      "Sum\n"
     ]
    },
    {
     "data": {
      "image/png": "[encoded data removed]",
      "text/plain": [
       "<Figure size 432x288 with 2 Axes>"
      ]
     },
     "metadata": {
      "needs_background": "light"
     },
     "output_type": "display_data"
    },
    {
     "data": {
      "image/png": "[encoded data removed]",
      "text/plain": [
       "<Figure size 432x288 with 2 Axes>"
      ]
     },
     "metadata": {
      "needs_background": "light"
     },
     "output_type": "display_data"
    },
    {
     "data": {
      "image/png": "[encoded data removed]",
      "text/plain": [
       "<Figure size 432x288 with 2 Axes>"
      ]
     },
     "metadata": {
      "needs_background": "light"
     },
     "output_type": "display_data"
    },
    {
     "data": {
      "image/png": "[encoded data removed]",
      "text/plain": [
       "<Figure size 432x288 with 2 Axes>"
      ]
     },
     "metadata": {
      "needs_background": "light"
     },
     "output_type": "display_data"
    }
   ],
   "source": [
    "print(\"AdaBoost acc and SVM dc  combination confusion matrics\")\n",
    "\n",
    "for i, val in enumerate(operators):\n",
    "    get_confusion_mat_combinations(ada_acc_svm_dc, val)"
   ]
  },
  {
   "cell_type": "code",
   "execution_count": null,
   "metadata": {},
   "outputs": [],
   "source": []
  },
  {
   "cell_type": "code",
   "execution_count": null,
   "metadata": {},
   "outputs": [],
   "source": []
  },
  {
   "cell_type": "markdown",
   "metadata": {
    "nbgrader": {
     "grade": false,
     "grade_id": "cell-d4f13fd6c3cbb70d",
     "locked": true,
     "schema_version": 3,
     "solution": false,
     "task": false
    }
   },
   "source": [
    "# 5. Bonus task: Multimodal biometric identification of persons (optional)"
   ]
  },
  {
   "cell_type": "markdown",
   "metadata": {
    "nbgrader": {
     "grade": false,
     "grade_id": "cell-e082ae9d74f6755a",
     "locked": true,
     "schema_version": 3,
     "solution": false,
     "task": false
    }
   },
   "source": [
    "<a id='task5'></a>\n",
    "<div class=\" alert alert-warning\">\n",
    "    <b>Assigment.</b> <b>Task 5.</b>\n",
    "\n",
    "Can you build a classifier that recognizes the person who is performing the exercise? Use same 10 person dataset and split it so that first 25% of each long exercise sequence is used for training and rest 75% of each sequence is used for testing the classifier. Use same 5 second windowing with 3 seconds overlap to prepare the examples. Note that, now the person identity is the class label instead of exercise type. Max. 10 points are given but you can earn points from partial solution, as well.\n",
    "<br> \n",
    "<br> \n",
    "<p> <b>5.1</b> Build a classifier to identify persons based on the features and one of the models given in task 4 (max. 5 points).</p>\n",
    "<br> \n",
    "<p> <b>5.2</b> Can you build your own solution (using new features, new classification model or different fusion approaches) to beat the approach in Task 5.1 ? (max. 5 points) </p>\n",
    "<br>  \n",
    "Document your work. Evaluate and compare the results using confusion matrix and F1 score.\n",
    "\n",
    "</div>"
   ]
  },
  {
   "cell_type": "code",
   "execution_count": null,
   "metadata": {},
   "outputs": [],
   "source": [
    "# 5.1\n",
    "\n",
    "### Your code begins here ###\n",
    "\n",
    "### Your code ends here ###"
   ]
  },
  {
   "cell_type": "code",
   "execution_count": null,
   "metadata": {},
   "outputs": [],
   "source": [
    "# 5.2\n",
    "\n",
    "### Your code begins here ###\n",
    "\n",
    "### Your code ends here ###"
   ]
  }
 ],
 "metadata": {
  "celltoolbar": "Create Assignment",
  "kernelspec": {
   "display_name": "Python 3 (ipykernel)",
   "language": "python",
   "name": "python3"
  },
  "language_info": {
   "codemirror_mode": {
    "name": "ipython",
    "version": 3
   },
   "file_extension": ".py",
   "mimetype": "text/x-python",
   "name": "python",
   "nbconvert_exporter": "python",
   "pygments_lexer": "ipython3",
   "version": "3.7.11"
  },
  "varInspector": {
   "cols": {
    "lenName": 16,
    "lenType": 16,
    "lenVar": 40
   },
   "kernels_config": {
    "python": {
     "delete_cmd_postfix": "",
     "delete_cmd_prefix": "del ",
     "library": "var_list.py",
     "varRefreshCmd": "print(var_dic_list())"
    },
    "r": {
     "delete_cmd_postfix": ") ",
     "delete_cmd_prefix": "rm(",
     "library": "var_list.r",
     "varRefreshCmd": "cat(var_dic_list()) "
    }
   },
   "types_to_exclude": [
    "module",
    "function",
    "builtin_function_or_method",
    "instance",
    "_Feature"
   ],
   "window_display": false
  }
 },
 "nbformat": 4,
 "nbformat_minor": 4
}
