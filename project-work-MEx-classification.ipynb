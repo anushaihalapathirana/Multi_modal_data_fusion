{
 "cells": [
  {
   "cell_type": "markdown",
   "metadata": {
    "nbgrader": {
     "grade": false,
     "grade_id": "cell-708d46d3f9180abe",
     "locked": true,
     "schema_version": 3,
     "solution": false
    }
   },
   "source": [
    "# Multi-Modal Data Fusion - Project Work: Multi-Modal Physical Exercise Classification\n",
    "\n",
    "\n",
    "In this project, real multi-modal data is studied by utilizing different techniques presented during the course. In addition, there is an optional task to try some different approaches to identify persons from the same dataset. Open MEx dataset from UCI machine learning repository is used. Idea is to apply different techniques to recognize physical exercises from wearable sensors and depth camera, user-independently."
   ]
  },
  {
   "cell_type": "markdown",
   "metadata": {},
   "source": [
    "## Author(s)\n",
    "Add your information here\n",
    "\n",
    "Name: Anusha Ihalapathirana\n",
    "\n",
    "Student number:"
   ]
  },
  {
   "cell_type": "markdown",
   "metadata": {
    "nbgrader": {
     "grade": false,
     "grade_id": "cell-32738734cf6f1a4f",
     "locked": true,
     "schema_version": 3,
     "solution": false
    }
   },
   "source": [
    "## Description \n",
    "\n",
    "The goal of this project is to develop user-independent pre-processing and classification models to recognize 7 different physical exercises measured by accelerometer (attached to subject's thigh) and depth camera (above the subject facing downwards recording an aerial view). All the exercises were performed subject lying down on the mat. Original dataset have also another acceleration sensor and pressure-sensitive mat, but those two modalities are ommited in this project. There are totally 30 subjects in the original dataset, and in this work subset of 10 person is utilized. Detailed description of the dataset and original data can be access in [MEx dataset @ UCI machine learning repository](https://archive.ics.uci.edu/ml/datasets/MEx#). We are providing the subset of dataset in Moodle.\n",
    "\n",
    "The project work is divided on following phases:\n",
    "\n",
    "1. Data preparation, exploration, and visualization\n",
    "2. Feature extraction and unimodal fusion for classification\n",
    "3. Feature extraction and feature-level fusion for multimodal classification\n",
    "4. Decision-level fusion for multimodal classification\n",
    "5. Bonus task: Multimodal biometric identification of persons\n",
    "\n",
    "where 1-4 are compulsory (max. 10 points each), and 5 is optional to get bonus points (max. 5+5 points). In each phase, you should visualize and analyse the results and document the work and findings properly by text blocks and figures between the code. <b> Nice looking </b> and <b> informative </b> notebook representing your results and analysis will be part of the grading in addition to actual implementation.\n",
    "\n",
    "The results are validated using confusion matrices and F1 scores. F1 macro score is given as \n",
    "<br>\n",
    "<br>\n",
    "$\n",
    "\\begin{equation}\n",
    "F1_{macro} = \\frac{1}{N} \\sum_i^N F1_i,\n",
    "\\end{equation}\n",
    "$\n",
    "<br>\n",
    "<br>\n",
    "where $F1_i = 2  \\frac{precision_i * recall_i}{precision_i + recall_i}$, and $N$ is the number of classes.\n",
    "<br>\n",
    "\n",
    "## Learning goals \n",
    "\n",
    "After the project work, you should  \n",
    "\n",
    "- be able to study real world multi-modal data\n",
    "- be able to apply different data fusion techniques to real-world problem\n",
    "- be able to evaluate the results\n",
    "- be able to analyse the outcome\n",
    "- be able to document your work properly\n",
    "\n",
    "## Relevant lectures\n",
    "\n",
    "Lectures 1-8\n",
    "\n",
    "## Relevant exercises\n",
    "\n",
    "Exercises 0-6\n",
    "\n",
    "## Relevant chapters in course book\n",
    "\n",
    "Chapter 1-14\n",
    "\n",
    "## Additional Material \n",
    "\n",
    "* Original dataset [MEx dataset @ UCI machine learning repository](https://archive.ics.uci.edu/ml/datasets/MEx#)\n",
    "* Related scientific article [MEx: Multi-modal Exercises Dataset for Human Activity Recognition](https://arxiv.org/pdf/1908.08992.pdf)"
   ]
  },
  {
   "cell_type": "markdown",
   "metadata": {
    "nbgrader": {
     "grade": false,
     "grade_id": "cell-7e096db2d9e8c24e",
     "locked": true,
     "schema_version": 3,
     "solution": false
    }
   },
   "source": [
    "# 1. Data preparation, exploration, and visualization"
   ]
  },
  {
   "cell_type": "markdown",
   "metadata": {
    "nbgrader": {
     "grade": false,
     "grade_id": "cell-bacbb8f5ae7a2e4d",
     "locked": true,
     "schema_version": 3,
     "solution": false,
     "task": false
    }
   },
   "source": [
    "<a id='task1'></a>\n",
    "<div class=\" alert alert-warning\">\n",
    "    <b>Assigment.</b> <b>Task 1.</b>\n",
    "\n",
    "Download data from the Moodle's Project section. Get yourself familiar with the folder structure and data. You can read the data files using the function given below. Each file consists one exercise type performed by single user. Data are divided on multiple folders. Note that, in each folder there is one long sequence of single exercise, except exercise 4 which is performed two times in different ways. Those two sequences belongs to same class. Do the following subtasks to pre-analyse data examples and to prepare the training and testing data for next tasks:\n",
    "<br>\n",
    "<br> \n",
    "<p> Read raw data from the files. Prepare and divide each data file to shorter sequences using windowing method. Similar to related article \"MEx: Multi-modal Exercises Dataset for Human Activity Recognition\", use 5 second window and 3 second overlapping between windows, producing several example sequences from one exercise file for classification purposes. Windowing is working so that starting from the beginning of each long exercise sequence, take 5 seconds of data points (from synchronized acceleration data and depth images) based on the time stamps. Next, move the window 2 seconds forward and take another 5 seconds of data. Then continue this until your are at the end of sequence. Each window will consists 500x3 matrix of acceleration data and 5x192 matrix of depth image data.</p>\n",
    "<br>  \n",
    "<p> <b>1.1</b> Plot few examples of prepared data for each modalities (accelometer and depth camera). Plot acceleration sensor as multi-dimensional time-series and depth camera data as 2D image. Plot 5 second acceleration sensor and depth image sequences of person 1 and 5 performing exercises 2, 5, and 6. Take the first windowed example from the long exercise sequence. </p>\n",
    "<br>\n",
    "<p> <b>1.2</b> Split the prepared dataset to training and testing datasets so that data of persons 1-7 are used for training and data of persons 8-10 are used for testing. In next tasks, training dataset could be further divided on (multiple) validation data folds to tune the models parameters, when needed.<br>\n",
    "    \n",
    "<p> Note: Training set should have 1486 windows and testing set should have 598 windows. In training set, acceleration data will have a window without a pair with depth camera data, that window should be dropped as it doesn't have a pair.<p>\n",
    "    \n",
    "    \n",
    "    \n",
    "    \n",
    "Document your work, calculate the indicator statistics of training and testing datasets (number of examples, dimensions of each example) and visualize prepared examples.\n",
    "\n",
    "</div>"
   ]
  },
  {
   "cell_type": "code",
   "execution_count": 43,
   "metadata": {},
   "outputs": [],
   "source": [
    "# Import relevant libraries here\n",
    "from pathlib import Path\n",
    "from copy import deepcopy\n",
    "import numpy as np\n",
    "import pandas as pd\n",
    "\n",
    "# Enter data folder location\n",
    "loc = \"./MEx\""
   ]
  },
  {
   "cell_type": "code",
   "execution_count": 44,
   "metadata": {
    "nbgrader": {
     "grade": false,
     "grade_id": "cell-5b805f4284f1480c",
     "locked": true,
     "schema_version": 3,
     "solution": false,
     "task": false
    }
   },
   "outputs": [
    {
     "name": "stdout",
     "output_type": "stream",
     "text": [
      "Total records found: 160\n",
      "Dataframe with all records:\n"
     ]
    },
    {
     "data": {
      "text/html": [
       "<div>\n",
       "<style scoped>\n",
       "    .dataframe tbody tr th:only-of-type {\n",
       "        vertical-align: middle;\n",
       "    }\n",
       "\n",
       "    .dataframe tbody tr th {\n",
       "        vertical-align: top;\n",
       "    }\n",
       "\n",
       "    .dataframe thead th {\n",
       "        text-align: right;\n",
       "    }\n",
       "</style>\n",
       "<table border=\"1\" class=\"dataframe\">\n",
       "  <thead>\n",
       "    <tr style=\"text-align: right;\">\n",
       "      <th></th>\n",
       "      <th>subject_id</th>\n",
       "      <th>exercise_id</th>\n",
       "      <th>trial</th>\n",
       "      <th>sensor_code</th>\n",
       "      <th>sensor</th>\n",
       "      <th>df</th>\n",
       "    </tr>\n",
       "  </thead>\n",
       "  <tbody>\n",
       "    <tr>\n",
       "      <th>0</th>\n",
       "      <td>01</td>\n",
       "      <td>01</td>\n",
       "      <td>1</td>\n",
       "      <td>act</td>\n",
       "      <td>acc</td>\n",
       "      <td>time     acc_0     acc_1     acc_2\n",
       "0 ...</td>\n",
       "    </tr>\n",
       "    <tr>\n",
       "      <th>1</th>\n",
       "      <td>01</td>\n",
       "      <td>02</td>\n",
       "      <td>1</td>\n",
       "      <td>act</td>\n",
       "      <td>acc</td>\n",
       "      <td>time     acc_0     acc_1     acc_2\n",
       "0 ...</td>\n",
       "    </tr>\n",
       "    <tr>\n",
       "      <th>2</th>\n",
       "      <td>01</td>\n",
       "      <td>03</td>\n",
       "      <td>1</td>\n",
       "      <td>act</td>\n",
       "      <td>acc</td>\n",
       "      <td>time     acc_0     acc_1    acc_2\n",
       "0  ...</td>\n",
       "    </tr>\n",
       "    <tr>\n",
       "      <th>3</th>\n",
       "      <td>01</td>\n",
       "      <td>04</td>\n",
       "      <td>1</td>\n",
       "      <td>act</td>\n",
       "      <td>acc</td>\n",
       "      <td>time     acc_0    acc_1     acc_2\n",
       "0  ...</td>\n",
       "    </tr>\n",
       "    <tr>\n",
       "      <th>4</th>\n",
       "      <td>01</td>\n",
       "      <td>04</td>\n",
       "      <td>2</td>\n",
       "      <td>act</td>\n",
       "      <td>acc</td>\n",
       "      <td>time     acc_0     acc_1     acc_2\n",
       "0 ...</td>\n",
       "    </tr>\n",
       "  </tbody>\n",
       "</table>\n",
       "</div>"
      ],
      "text/plain": [
       "  subject_id exercise_id  trial sensor_code sensor  \\\n",
       "0         01          01      1         act    acc   \n",
       "1         01          02      1         act    acc   \n",
       "2         01          03      1         act    acc   \n",
       "3         01          04      1         act    acc   \n",
       "4         01          04      2         act    acc   \n",
       "\n",
       "                                                  df  \n",
       "0           time     acc_0     acc_1     acc_2\n",
       "0 ...  \n",
       "1           time     acc_0     acc_1     acc_2\n",
       "0 ...  \n",
       "2           time     acc_0     acc_1    acc_2\n",
       "0  ...  \n",
       "3           time     acc_0    acc_1     acc_2\n",
       "0  ...  \n",
       "4           time     acc_0     acc_1     acc_2\n",
       "0 ...  "
      ]
     },
     "metadata": {},
     "output_type": "display_data"
    },
    {
     "name": "stdout",
     "output_type": "stream",
     "text": [
      "Dataframe with one measurement series:\n"
     ]
    },
    {
     "data": {
      "text/html": [
       "<div>\n",
       "<style scoped>\n",
       "    .dataframe tbody tr th:only-of-type {\n",
       "        vertical-align: middle;\n",
       "    }\n",
       "\n",
       "    .dataframe tbody tr th {\n",
       "        vertical-align: top;\n",
       "    }\n",
       "\n",
       "    .dataframe thead th {\n",
       "        text-align: right;\n",
       "    }\n",
       "</style>\n",
       "<table border=\"1\" class=\"dataframe\">\n",
       "  <thead>\n",
       "    <tr style=\"text-align: right;\">\n",
       "      <th></th>\n",
       "      <th>time</th>\n",
       "      <th>acc_0</th>\n",
       "      <th>acc_1</th>\n",
       "      <th>acc_2</th>\n",
       "    </tr>\n",
       "  </thead>\n",
       "  <tbody>\n",
       "    <tr>\n",
       "      <th>0</th>\n",
       "      <td>0.0</td>\n",
       "      <td>-0.515625</td>\n",
       "      <td>-0.843750</td>\n",
       "      <td>-0.131944</td>\n",
       "    </tr>\n",
       "    <tr>\n",
       "      <th>1</th>\n",
       "      <td>10.0</td>\n",
       "      <td>-0.515625</td>\n",
       "      <td>-0.853125</td>\n",
       "      <td>-0.134375</td>\n",
       "    </tr>\n",
       "    <tr>\n",
       "      <th>2</th>\n",
       "      <td>20.0</td>\n",
       "      <td>-0.515625</td>\n",
       "      <td>-0.850000</td>\n",
       "      <td>-0.140625</td>\n",
       "    </tr>\n",
       "    <tr>\n",
       "      <th>3</th>\n",
       "      <td>30.0</td>\n",
       "      <td>-0.515625</td>\n",
       "      <td>-0.862500</td>\n",
       "      <td>-0.150000</td>\n",
       "    </tr>\n",
       "    <tr>\n",
       "      <th>4</th>\n",
       "      <td>40.0</td>\n",
       "      <td>-0.525000</td>\n",
       "      <td>-0.856250</td>\n",
       "      <td>-0.156250</td>\n",
       "    </tr>\n",
       "  </tbody>\n",
       "</table>\n",
       "</div>"
      ],
      "text/plain": [
       "   time     acc_0     acc_1     acc_2\n",
       "0   0.0 -0.515625 -0.843750 -0.131944\n",
       "1  10.0 -0.515625 -0.853125 -0.134375\n",
       "2  20.0 -0.515625 -0.850000 -0.140625\n",
       "3  30.0 -0.515625 -0.862500 -0.150000\n",
       "4  40.0 -0.525000 -0.856250 -0.156250"
      ]
     },
     "metadata": {},
     "output_type": "display_data"
    }
   ],
   "source": [
    "def path_to_meta(p):\n",
    "    meta = dict()\n",
    "    meta[\"subject_id\"] = p.parent.stem\n",
    "    meta[\"exercise_id\"] = p.stem.split(\"_\")[-2]\n",
    "    meta[\"trial\"] = int(p.stem.split(\"_\")[-1])\n",
    "    meta[\"sensor_code\"] = p.stem.split(\"_\")[0]\n",
    "    meta[\"sensor\"] = {\"act\": \"acc\", \"dc\": \"dc\"}[meta[\"sensor_code\"]]\n",
    "    return meta\n",
    "\n",
    "# Find, read, and compose the measurements\n",
    "paths_record = Path(loc).glob(\"*/*/*.csv\")\n",
    "\n",
    "records = []\n",
    "\n",
    "for path_record in paths_record:\n",
    "    df = pd.read_csv(path_record, delimiter=\",\", header=None)\n",
    "    meta = path_to_meta(path_record)\n",
    "    \n",
    "    if meta[\"sensor\"] == \"acc\":\n",
    "        # \"time\", \"x\", \"y\", \"z\"\n",
    "        col_names = [\"time\", \"acc_0\", \"acc_1\", \"acc_2\"]\n",
    "        df.columns = col_names\n",
    "    else:\n",
    "        num_cols = df.shape[1]\n",
    "        col_names = [\"time\", ] + [f\"dc_{i}\" for i in range(num_cols-1)]\n",
    "        df.columns = col_names\n",
    "\n",
    "    meta[\"df\"] = df\n",
    "    \n",
    "    records.append(meta)\n",
    "    \n",
    "df_records = pd.DataFrame.from_records(records)\n",
    "\n",
    "print(f\"Total records found: {len(df_records)}\")\n",
    "print(\"Dataframe with all records:\")\n",
    "display(df_records.head())\n",
    "print(\"Dataframe with one measurement series:\")\n",
    "display(df_records[\"df\"].iloc[0].head())"
   ]
  },
  {
   "cell_type": "code",
   "execution_count": 45,
   "metadata": {
    "nbgrader": {
     "grade": false,
     "grade_id": "cell-e8aebacdeb29d491",
     "locked": true,
     "schema_version": 3,
     "solution": false,
     "task": false
    }
   },
   "outputs": [
    {
     "name": "stdout",
     "output_type": "stream",
     "text": [
      "Total windows extracted: 4169\n",
      "Dataframe with all windowed records:\n"
     ]
    },
    {
     "data": {
      "text/html": [
       "<div>\n",
       "<style scoped>\n",
       "    .dataframe tbody tr th:only-of-type {\n",
       "        vertical-align: middle;\n",
       "    }\n",
       "\n",
       "    .dataframe tbody tr th {\n",
       "        vertical-align: top;\n",
       "    }\n",
       "\n",
       "    .dataframe thead th {\n",
       "        text-align: right;\n",
       "    }\n",
       "</style>\n",
       "<table border=\"1\" class=\"dataframe\">\n",
       "  <thead>\n",
       "    <tr style=\"text-align: right;\">\n",
       "      <th></th>\n",
       "      <th>subject_id</th>\n",
       "      <th>exercise_id</th>\n",
       "      <th>trial</th>\n",
       "      <th>sensor_code</th>\n",
       "      <th>sensor</th>\n",
       "      <th>df</th>\n",
       "      <th>window_idx</th>\n",
       "    </tr>\n",
       "  </thead>\n",
       "  <tbody>\n",
       "    <tr>\n",
       "      <th>0</th>\n",
       "      <td>01</td>\n",
       "      <td>01</td>\n",
       "      <td>1</td>\n",
       "      <td>act</td>\n",
       "      <td>acc</td>\n",
       "      <td>time     acc_0     acc_1     acc_2\n",
       "0   ...</td>\n",
       "      <td>0</td>\n",
       "    </tr>\n",
       "    <tr>\n",
       "      <th>1</th>\n",
       "      <td>01</td>\n",
       "      <td>01</td>\n",
       "      <td>1</td>\n",
       "      <td>act</td>\n",
       "      <td>acc</td>\n",
       "      <td>time     acc_0     acc_1     acc_2\n",
       "200 ...</td>\n",
       "      <td>1</td>\n",
       "    </tr>\n",
       "    <tr>\n",
       "      <th>2</th>\n",
       "      <td>01</td>\n",
       "      <td>01</td>\n",
       "      <td>1</td>\n",
       "      <td>act</td>\n",
       "      <td>acc</td>\n",
       "      <td>time     acc_0     acc_1     acc_2\n",
       "400 ...</td>\n",
       "      <td>2</td>\n",
       "    </tr>\n",
       "    <tr>\n",
       "      <th>3</th>\n",
       "      <td>01</td>\n",
       "      <td>01</td>\n",
       "      <td>1</td>\n",
       "      <td>act</td>\n",
       "      <td>acc</td>\n",
       "      <td>time     acc_0     acc_1     acc_2\n",
       "60...</td>\n",
       "      <td>3</td>\n",
       "    </tr>\n",
       "    <tr>\n",
       "      <th>4</th>\n",
       "      <td>01</td>\n",
       "      <td>01</td>\n",
       "      <td>1</td>\n",
       "      <td>act</td>\n",
       "      <td>acc</td>\n",
       "      <td>time     acc_0     acc_1     acc_2\n",
       "80...</td>\n",
       "      <td>4</td>\n",
       "    </tr>\n",
       "  </tbody>\n",
       "</table>\n",
       "</div>"
      ],
      "text/plain": [
       "  subject_id exercise_id  trial sensor_code sensor  \\\n",
       "0         01          01      1         act    acc   \n",
       "1         01          01      1         act    acc   \n",
       "2         01          01      1         act    acc   \n",
       "3         01          01      1         act    acc   \n",
       "4         01          01      1         act    acc   \n",
       "\n",
       "                                                  df  window_idx  \n",
       "0         time     acc_0     acc_1     acc_2\n",
       "0   ...           0  \n",
       "1         time     acc_0     acc_1     acc_2\n",
       "200 ...           1  \n",
       "2         time     acc_0     acc_1     acc_2\n",
       "400 ...           2  \n",
       "3           time     acc_0     acc_1     acc_2\n",
       "60...           3  \n",
       "4           time     acc_0     acc_1     acc_2\n",
       "80...           4  "
      ]
     },
     "metadata": {},
     "output_type": "display_data"
    },
    {
     "name": "stdout",
     "output_type": "stream",
     "text": [
      "Dataframe with one windowed measurement series:\n"
     ]
    },
    {
     "data": {
      "text/html": [
       "<div>\n",
       "<style scoped>\n",
       "    .dataframe tbody tr th:only-of-type {\n",
       "        vertical-align: middle;\n",
       "    }\n",
       "\n",
       "    .dataframe tbody tr th {\n",
       "        vertical-align: top;\n",
       "    }\n",
       "\n",
       "    .dataframe thead th {\n",
       "        text-align: right;\n",
       "    }\n",
       "</style>\n",
       "<table border=\"1\" class=\"dataframe\">\n",
       "  <thead>\n",
       "    <tr style=\"text-align: right;\">\n",
       "      <th></th>\n",
       "      <th>time</th>\n",
       "      <th>acc_0</th>\n",
       "      <th>acc_1</th>\n",
       "      <th>acc_2</th>\n",
       "    </tr>\n",
       "  </thead>\n",
       "  <tbody>\n",
       "    <tr>\n",
       "      <th>0</th>\n",
       "      <td>0.0</td>\n",
       "      <td>-0.515625</td>\n",
       "      <td>-0.843750</td>\n",
       "      <td>-0.131944</td>\n",
       "    </tr>\n",
       "    <tr>\n",
       "      <th>1</th>\n",
       "      <td>10.0</td>\n",
       "      <td>-0.515625</td>\n",
       "      <td>-0.853125</td>\n",
       "      <td>-0.134375</td>\n",
       "    </tr>\n",
       "    <tr>\n",
       "      <th>2</th>\n",
       "      <td>20.0</td>\n",
       "      <td>-0.515625</td>\n",
       "      <td>-0.850000</td>\n",
       "      <td>-0.140625</td>\n",
       "    </tr>\n",
       "    <tr>\n",
       "      <th>3</th>\n",
       "      <td>30.0</td>\n",
       "      <td>-0.515625</td>\n",
       "      <td>-0.862500</td>\n",
       "      <td>-0.150000</td>\n",
       "    </tr>\n",
       "    <tr>\n",
       "      <th>4</th>\n",
       "      <td>40.0</td>\n",
       "      <td>-0.525000</td>\n",
       "      <td>-0.856250</td>\n",
       "      <td>-0.156250</td>\n",
       "    </tr>\n",
       "  </tbody>\n",
       "</table>\n",
       "</div>"
      ],
      "text/plain": [
       "   time     acc_0     acc_1     acc_2\n",
       "0   0.0 -0.515625 -0.843750 -0.131944\n",
       "1  10.0 -0.515625 -0.853125 -0.134375\n",
       "2  20.0 -0.515625 -0.850000 -0.140625\n",
       "3  30.0 -0.515625 -0.862500 -0.150000\n",
       "4  40.0 -0.525000 -0.856250 -0.156250"
      ]
     },
     "metadata": {},
     "output_type": "display_data"
    }
   ],
   "source": [
    "# Extract 5-second long windows with 2-second shift (3-second overlap)\n",
    "\n",
    "records_windowed = []\n",
    "\n",
    "time_window = 5000.\n",
    "time_offset = 2000.\n",
    "    \n",
    "for row_idx, row_data in df_records.iterrows():\n",
    "    df_tmp = row_data[\"df\"]\n",
    "    time_start = np.min(df_tmp[\"time\"].to_numpy())\n",
    "    time_end = np.max(df_tmp[\"time\"].to_numpy())\n",
    "    \n",
    "    for window_idx, t0 in enumerate(np.arange(time_start, time_end, time_offset)):\n",
    "        t1 = t0 + time_window\n",
    "        # Handle boundary conditions - skip the measurements from the end shorter than window size\n",
    "        if t1 > time_end:\n",
    "            continue\n",
    "        \n",
    "        tmp_data = deepcopy(row_data)\n",
    "        tmp_data[\"window_idx\"] = window_idx\n",
    "        tmp_data[\"df\"] = df_tmp[(df_tmp[\"time\"] >= t0) &\n",
    "                                (df_tmp[\"time\"] < t1)].copy()\n",
    "        \n",
    "        records_windowed.append(tmp_data)\n",
    "        \n",
    "df_records_windowed = pd.DataFrame.from_records(records_windowed)\n",
    "\n",
    "print(f\"Total windows extracted: {len(df_records_windowed)}\")\n",
    "print(\"Dataframe with all windowed records:\")\n",
    "display(df_records_windowed.head())\n",
    "print(\"Dataframe with one windowed measurement series:\")\n",
    "display(df_records_windowed[\"df\"].iloc[0].head())"
   ]
  },
  {
   "cell_type": "code",
   "execution_count": 46,
   "metadata": {},
   "outputs": [
    {
     "data": {
      "image/png": "[encoded data removed]",
      "text/plain": [
       "<Figure size 1080x288 with 2 Axes>"
      ]
     },
     "metadata": {
      "needs_background": "light"
     },
     "output_type": "display_data"
    },
    {
     "data": {
      "image/png": "[encoded data removed]",
      "text/plain": [
       "<Figure size 432x288 with 1 Axes>"
      ]
     },
     "metadata": {
      "needs_background": "light"
     },
     "output_type": "display_data"
    },
    {
     "name": "stderr",
     "output_type": "stream",
     "text": [
      "/tmp/ipykernel_2449/2321087981.py:82: UserWarning: Boolean Series key will be reindexed to match DataFrame index.\n",
      "  df_dc1 = df_dc1[(df_records_windowed['subject_id'] == sub_id) & (df_records_windowed['exercise_id'] == excercise_id)]\n"
     ]
    },
    {
     "data": {
      "image/png": "[encoded data removed]",
      "text/plain": [
       "<Figure size 432x288 with 1 Axes>"
      ]
     },
     "metadata": {
      "needs_background": "light"
     },
     "output_type": "display_data"
    },
    {
     "data": {
      "image/png": "[encoded data removed]",
      "text/plain": [
       "<Figure size 432x288 with 1 Axes>"
      ]
     },
     "metadata": {
      "needs_background": "light"
     },
     "output_type": "display_data"
    },
    {
     "data": {
      "image/png": "[encoded data removed]",
      "text/plain": [
       "<Figure size 432x288 with 1 Axes>"
      ]
     },
     "metadata": {
      "needs_background": "light"
     },
     "output_type": "display_data"
    },
    {
     "data": {
      "image/png": "[encoded data removed]",
      "text/plain": [
       "<Figure size 432x288 with 1 Axes>"
      ]
     },
     "metadata": {
      "needs_background": "light"
     },
     "output_type": "display_data"
    },
    {
     "data": {
      "image/png": "[encoded data removed]",
      "text/plain": [
       "<Figure size 432x288 with 1 Axes>"
      ]
     },
     "metadata": {
      "needs_background": "light"
     },
     "output_type": "display_data"
    },
    {
     "data": {
      "image/png": "[encoded data removed]",
      "text/plain": [
       "<Figure size 432x288 with 1 Axes>"
      ]
     },
     "metadata": {
      "needs_background": "light"
     },
     "output_type": "display_data"
    }
   ],
   "source": [
    "# 1.1. Visualize selected samples for both modalities\n",
    "\n",
    "# Plot few examples of prepared data for each modalities (accelometer and depth camera). \n",
    "# Plot acceleration sensor as multi-dimensional time-series and depth camera data as 2D image.\n",
    "# Plot 5 second acceleration sensor and depth image sequences of person 1 and 5 performing exercises 2, 5, and 6.\n",
    "# Take the first windowed example from the long exercise sequence. - means index 0\n",
    "\n",
    "### Your code begins here ###\n",
    "\n",
    "from matplotlib import pyplot as plt\n",
    "\n",
    "\n",
    "data_types = df_records_windowed.dtypes\n",
    "\n",
    "def get_few_samples(df, label):\n",
    "    return df[df['sensor_code'] == label]\n",
    "\n",
    "df_new = get_few_samples(df_records_windowed, 'act')\n",
    "df_new = df_new.df.iloc[0]\n",
    "\n",
    "\n",
    "# #uncomment if want x,y,z in seperate graphs\n",
    "# time  = df_new.time\n",
    "# x  = df_new.acc_0\n",
    "# y = df_new.acc_1\n",
    "# z  = df_new.acc_2\n",
    "\n",
    "# fig, axs = plt.subplots(df_new.shape[1]-1, sharex=True, gridspec_kw={'hspace': 0})\n",
    "# # for i in range(df.shape[1]):\n",
    "# axs[0].set_ylabel('x')\n",
    "# axs[0].set_xlabel('Time')\n",
    "# axs[0].plot(x)\n",
    "\n",
    "# axs[1].set_ylabel('y')\n",
    "# axs[1].set_xlabel('Time')\n",
    "# axs[1].plot(y)\n",
    "\n",
    "# axs[2].set_ylabel('z')\n",
    "# axs[2].set_xlabel('Time')\n",
    "# axs[2].plot(z)\n",
    "# plt.show()\n",
    "\n",
    "\n",
    "plt.figure(figsize=(15,4))\n",
    "\n",
    "ax1 = df_new.acc_0.plot(color='blue', grid=True, label='acc_0')\n",
    "ax2 = df_new.acc_1.plot(color='red', grid=True, secondary_y=True, label='acc_1')\n",
    "ax3 = df_new.acc_2.plot(color='green', grid=True, secondary_y=True, label='acc_2')\n",
    "\n",
    "h1, l1 = ax1.get_legend_handles_labels()\n",
    "h2, l2 = ax2.get_legend_handles_labels()\n",
    "\n",
    "plt.legend(h1+h2, l1+l2, loc=2)\n",
    "plt.show()\n",
    "\n",
    "\n",
    "################ \n",
    "\n",
    "from numpy import genfromtxt\n",
    "from mpl_toolkits.mplot3d import Axes3D\n",
    "import matplotlib.pyplot as plt\n",
    "import numpy as np\n",
    "\n",
    "\n",
    "fig = plt.figure()\n",
    "ax = fig.add_subplot(111, projection='3d')\n",
    "\n",
    "ax.scatter(df_new.acc_0, df_new.acc_1, df_new.acc_2, c=df_new.time, cmap=plt.hot())\n",
    "plt.show()\n",
    "    \n",
    "\n",
    "    \n",
    "################ Image DC\n",
    "\n",
    "# get image data\n",
    "# df_dc_01_02 = df_records_windowed[(df_records_windowed['sensor_code'] == 'dc') & (df_records_windowed['subject_id'] == 1) & (df_records_windowed['exercise_id'] == 2)].head(2)\n",
    "\n",
    "df_dc1 = get_few_samples(df_records_windowed, 'dc')\n",
    "\n",
    "def plot_dc_data(df_dc1, sub_id, excercise_id):\n",
    "    \n",
    "    df_dc1 = df_dc1[(df_records_windowed['subject_id'] == sub_id) & (df_records_windowed['exercise_id'] == excercise_id)]\n",
    "    df_dc = df_dc1.df.iloc[0]\n",
    "    df_dc = df_dc.drop('time', axis=1)\n",
    "    img_arr = df_dc.iloc[0].to_numpy().reshape(12,16)\n",
    "#     img_arr = df_dc.to_numpy().reshape(5,192)\n",
    "\n",
    "    plt.imshow(img_arr, interpolation='nearest')\n",
    "    plt.show()\n",
    "\n",
    "    \n",
    "plot_dc_data(df_dc1, '01', '02')\n",
    "plot_dc_data(df_dc1, '01', '05')\n",
    "plot_dc_data(df_dc1, '01', '06')\n",
    "\n",
    "plot_dc_data(df_dc1, '05', '02')\n",
    "plot_dc_data(df_dc1, '05', '05')\n",
    "plot_dc_data(df_dc1, '05', '06')\n",
    "\n",
    "\n",
    "### Your code ends here ###\n",
    "\n",
    "\n",
    "# https://towardsdatascience.com/feature-engineering-on-time-series-data-transforming-signal-data-of-a-smartphone-accelerometer-for-72cbe34b8a60\n"
   ]
  },
  {
   "cell_type": "code",
   "execution_count": 157,
   "metadata": {},
   "outputs": [
    {
     "name": "stdout",
     "output_type": "stream",
     "text": [
      "==========  Training dataset  =============\n",
      "Number of rows in training set -  1486\n",
      "Number of Columns/dimentions in training set -  6\n",
      "Shape of the training set -  (1486, 6)\n",
      "Column names of training set -  ['subject_id', 'exercise_id', 'trial', 'df_acc', 'window_idx', 'df_dc']\n",
      "==========  Testing dataset  =============\n",
      "Number of rows in test set -  598\n",
      "Number of Columns/dimentions in test set -  6\n",
      "Shape of the test set -  (598, 6)\n",
      "Column names of test set -  ['subject_id', 'exercise_id', 'trial', 'df_acc', 'window_idx', 'df_dc']\n"
     ]
    }
   ],
   "source": [
    "# 1.2. Split samples based on subject ID into training and testing datasets for futher experiments\n",
    "\n",
    "### Your code begins here ###\n",
    "\n",
    "# make a copy of df_records_windowed dataframe\n",
    "df = df_records_windowed.copy()\n",
    "\n",
    "# convert object types to int to make futher processing easier\n",
    "df['subject_id'] = df_records_windowed['subject_id'].astype(str).astype(int)\n",
    "df['exercise_id'] = df_records_windowed['exercise_id'].astype(str).astype(int)\n",
    "\n",
    "\n",
    "df_train = df[df['subject_id'] <= 7] # train data -> users upto id = 7 \n",
    "df_test = df[df['subject_id'] >= 8] # test data -> users from = 8 to 10\n",
    "\n",
    "# merge 2 dataframes so that we can remove the unpaired windows.\n",
    "def pair(df):\n",
    "\n",
    "    df_acc = df[df['sensor_code'] == 'act']\n",
    "    df_dc = df[df['sensor_code'] == 'dc']\n",
    "    \n",
    "    new_df = pd.merge(df_acc, df_dc,  how='right', left_on=['subject_id','trial', 'window_idx', 'exercise_id'],\n",
    "                      right_on = ['subject_id','trial', 'window_idx', 'exercise_id'])\n",
    "\n",
    "    return new_df\n",
    "    \n",
    "df_train_pair = pair(df_train)\n",
    "df_test_pair = pair(df_test)\n",
    "\n",
    "# remove un necessary columns since we pair up the data we dont need this\n",
    "df_train_pair = df_train_pair.drop(['sensor_code_x','sensor_x', 'sensor_code_y', 'sensor_y'], axis=1)\n",
    "df_test_pair = df_test_pair.drop(['sensor_code_x','sensor_x', 'sensor_code_y', 'sensor_y'], axis=1)\n",
    "\n",
    "df_train_pair = df_train_pair.rename(columns={'df_x': 'df_acc', 'df_y': 'df_dc'})\n",
    "df_test_pair = df_test_pair.rename(columns={'df_x': 'df_acc', 'df_y': 'df_dc'})\n",
    "\n",
    "df_test_pair.dtypes\n",
    "### Your code ends here ###\n",
    "\n",
    "\n",
    "\n",
    "# calculate the indicator statistics of training and testing datasets\n",
    "# (number of examples, dimensions of each example) and visualize prepared examples\n",
    "\n",
    "# df train data \n",
    "print(\"==========  Training dataset  =============\")\n",
    "\n",
    "# df_train_pair.info()\n",
    "print('Number of rows in training set - ', len(df_train_pair))\n",
    "print('Number of Columns/dimentions in training set - ', len(df_train_pair.columns))\n",
    "print('Shape of the training set - ', df_train_pair.shape)\n",
    "print('Column names of training set - ', list(df_train_pair.columns))\n",
    "\n",
    "print(\"==========  Testing dataset  =============\")\n",
    "print('Number of rows in test set - ', len(df_test_pair))\n",
    "print('Number of Columns/dimentions in test set - ', len(df_test_pair.columns))\n",
    "print('Shape of the test set - ', df_test_pair.shape)\n",
    "print('Column names of test set - ', list(df_test_pair.columns))\n",
    "\n",
    "\n",
    "\n",
    "# TODO visualize - ANUSHA"
   ]
  },
  {
   "cell_type": "markdown",
   "metadata": {
    "nbgrader": {
     "grade": false,
     "grade_id": "cell-8dd9cccbd7bb483c",
     "locked": true,
     "schema_version": 3,
     "solution": false,
     "task": false
    }
   },
   "source": [
    "# 2. Feature extraction and fusion for unimodal classification"
   ]
  },
  {
   "cell_type": "markdown",
   "metadata": {
    "nbgrader": {
     "grade": false,
     "grade_id": "cell-583b0e4a5d64720f",
     "locked": true,
     "schema_version": 3,
     "solution": false,
     "task": false
    }
   },
   "source": [
    "<a id='task2'></a>\n",
    "<div class=\" alert alert-warning\">\n",
    "    <b>Assigment.</b> <b>Task 2.</b>\n",
    "\n",
    "Use the training dataset prepared in task 1. to build models based on the combination of principal component analysis (PCA), linear discriminant analysis (LDA), and nearest neighbour (NN) classifier for each modality separately and evaluate the model on test dataset. Do the subtasks given as\n",
    "<br>\n",
    "<br>\n",
    "<p> <b>2.1</b> Calculate PCA and LDA transformations to reduce the dimensionality of accelerometer data (e.g., using scikit-learn implementations). Before transformations downsample data from 100 Hz to 25 Hz (using scipy.signal.resample) to get 125x3 matrix of data for each 5 sec window. You should also standardize the values to zero mean and unit variance before the transformations. Using training dataset, fit PCA with 5-dimensional subspace (i.e., choosing the 5 largest principal components) and fit LDA with 5-dimensional subspace. Transform both train and test examples to this low-dimensional feature representation. Concatenate each sequence to single vector size of 3x(5+5). Perform the fusion of PCA and LDA similar manner as presented in Lecture 3 (pages 23-24) using NN method. Evaluate the performance on testset. Show confusion matrix and F1 scores of the results. </p>\n",
    "<br>\n",
    "<p> <b>2.2</b> Use PCA and LDA transformations to reduce the dimensionality of depth images. You should also standardize the values to zero mean and unit variance before the transformations. Fit PCA and LDA for all training images (12x16, 192-dimensional in vectorized form) by choosing 5-dimensional subspace for both PCA and LDA. Transform both train and test examples to this low-dimensional feature representation. Concatenate each sequence to single vector size of 5x1x(5+5). Similar to task 2.1, do the PCA and LDA fusion using NN and evaluate the performance on testset. Show confusion matrix and F1 scores of the results. </p>\n",
    "<br> \n",
    "Document your work, evaluate the results, and analyse the outcomes in each subtasks 2.1-2.2.\n",
    "    \n",
    "</div>"
   ]
  },
  {
   "cell_type": "markdown",
   "metadata": {},
   "source": [
    "### Task 2.1"
   ]
  },
  {
   "cell_type": "markdown",
   "metadata": {},
   "source": [
    "Downsample and standardization for training and test sets"
   ]
  },
  {
   "cell_type": "code",
   "execution_count": 158,
   "metadata": {},
   "outputs": [],
   "source": [
    "# 2.1\n",
    "\n",
    "### Your code begins here ###\n",
    "from scipy import signal\n",
    "\n",
    "# downsample data from 100 Hz to 25 Hz (using scipy.signal.resample) to get 125x3 matrix \n",
    "# of data for each 5 sec window. \n",
    "\n",
    "# get accelerometer  data from training set\n",
    "train_set = df_train_pair.copy()\n",
    "test_set = df_test_pair.copy()\n",
    "    \n",
    "def downsample(acc):\n",
    "    acc = acc.drop(['time'], axis = 1)\n",
    "    a = pd.DataFrame(signal.resample(acc, 125), columns=acc.columns)\n",
    "    return a\n",
    "    \n",
    "train_set['df_acc'] = [downsample(x) for x in train_set['df_acc']]\n",
    "test_set['df_acc'] = [downsample(x) for x in test_set['df_acc']]\n",
    "\n"
   ]
  },
  {
   "cell_type": "code",
   "execution_count": 159,
   "metadata": {},
   "outputs": [
    {
     "data": {
      "text/html": [
       "<div>\n",
       "<style scoped>\n",
       "    .dataframe tbody tr th:only-of-type {\n",
       "        vertical-align: middle;\n",
       "    }\n",
       "\n",
       "    .dataframe tbody tr th {\n",
       "        vertical-align: top;\n",
       "    }\n",
       "\n",
       "    .dataframe thead th {\n",
       "        text-align: right;\n",
       "    }\n",
       "</style>\n",
       "<table border=\"1\" class=\"dataframe\">\n",
       "  <thead>\n",
       "    <tr style=\"text-align: right;\">\n",
       "      <th></th>\n",
       "      <th>acc_0</th>\n",
       "      <th>acc_1</th>\n",
       "      <th>acc_2</th>\n",
       "    </tr>\n",
       "  </thead>\n",
       "  <tbody>\n",
       "    <tr>\n",
       "      <th>0</th>\n",
       "      <td>0.919466</td>\n",
       "      <td>-1.290882</td>\n",
       "      <td>-1.932230</td>\n",
       "    </tr>\n",
       "    <tr>\n",
       "      <th>1</th>\n",
       "      <td>1.702581</td>\n",
       "      <td>-1.605541</td>\n",
       "      <td>-2.744564</td>\n",
       "    </tr>\n",
       "    <tr>\n",
       "      <th>2</th>\n",
       "      <td>1.335151</td>\n",
       "      <td>-1.448641</td>\n",
       "      <td>-2.401820</td>\n",
       "    </tr>\n",
       "    <tr>\n",
       "      <th>3</th>\n",
       "      <td>1.216229</td>\n",
       "      <td>-1.485792</td>\n",
       "      <td>-2.448621</td>\n",
       "    </tr>\n",
       "    <tr>\n",
       "      <th>4</th>\n",
       "      <td>1.035814</td>\n",
       "      <td>-1.458218</td>\n",
       "      <td>-2.350608</td>\n",
       "    </tr>\n",
       "    <tr>\n",
       "      <th>...</th>\n",
       "      <td>...</td>\n",
       "      <td>...</td>\n",
       "      <td>...</td>\n",
       "    </tr>\n",
       "    <tr>\n",
       "      <th>120</th>\n",
       "      <td>-1.332810</td>\n",
       "      <td>-0.868724</td>\n",
       "      <td>-0.642858</td>\n",
       "    </tr>\n",
       "    <tr>\n",
       "      <th>121</th>\n",
       "      <td>-0.596560</td>\n",
       "      <td>-1.276802</td>\n",
       "      <td>-0.693752</td>\n",
       "    </tr>\n",
       "    <tr>\n",
       "      <th>122</th>\n",
       "      <td>-1.043195</td>\n",
       "      <td>-1.168393</td>\n",
       "      <td>-0.616762</td>\n",
       "    </tr>\n",
       "    <tr>\n",
       "      <th>123</th>\n",
       "      <td>-0.864666</td>\n",
       "      <td>-0.924257</td>\n",
       "      <td>-0.802831</td>\n",
       "    </tr>\n",
       "    <tr>\n",
       "      <th>124</th>\n",
       "      <td>-0.513799</td>\n",
       "      <td>-0.815001</td>\n",
       "      <td>-0.568115</td>\n",
       "    </tr>\n",
       "  </tbody>\n",
       "</table>\n",
       "<p>125 rows × 3 columns</p>\n",
       "</div>"
      ],
      "text/plain": [
       "        acc_0     acc_1     acc_2\n",
       "0    0.919466 -1.290882 -1.932230\n",
       "1    1.702581 -1.605541 -2.744564\n",
       "2    1.335151 -1.448641 -2.401820\n",
       "3    1.216229 -1.485792 -2.448621\n",
       "4    1.035814 -1.458218 -2.350608\n",
       "..        ...       ...       ...\n",
       "120 -1.332810 -0.868724 -0.642858\n",
       "121 -0.596560 -1.276802 -0.693752\n",
       "122 -1.043195 -1.168393 -0.616762\n",
       "123 -0.864666 -0.924257 -0.802831\n",
       "124 -0.513799 -0.815001 -0.568115\n",
       "\n",
       "[125 rows x 3 columns]"
      ]
     },
     "execution_count": 159,
     "metadata": {},
     "output_type": "execute_result"
    }
   ],
   "source": [
    "\n",
    "# standardize the values to zero mean and unit variance before the transformations\n",
    "from sklearn.preprocessing import StandardScaler\n",
    "\n",
    "scaler = StandardScaler()\n",
    "\n",
    "def standardize(acc):\n",
    "    scaled_features  = scaler.fit_transform(acc)\n",
    "    scaled_features_df = pd.DataFrame(scaled_features, index=acc.index, columns=acc.columns)\n",
    "    return scaled_features_df\n",
    "\n",
    "train_set['df_acc'] = [standardize(x) for x in train_set['df_acc']]\n",
    "test_set['df_acc'] = [standardize(x) for x in test_set['df_acc']]\n",
    "\n",
    "\n",
    "train_set['df_acc'][10]\n"
   ]
  },
  {
   "cell_type": "markdown",
   "metadata": {},
   "source": [
    "PCA for ACC"
   ]
  },
  {
   "cell_type": "code",
   "execution_count": 160,
   "metadata": {},
   "outputs": [],
   "source": [
    "#  Using training dataset, fit PCA with 5-dimensional subspace \n",
    "# (i.e., choosing the 5 largest principal components)\n",
    "# and fit LDA with 5-dimensional subspace. \n",
    "\n",
    "from sklearn.decomposition import PCA\n",
    "\n",
    "pca_train_df = train_set.copy() \n",
    "pca_test_df = test_set.copy()\n",
    "\n",
    "pca = PCA(n_components=5)\n",
    "\n",
    "def combine_rows_vertically_as_df(row):\n",
    "    df_line = row[0]\n",
    "    for i in range(1, len(row)):\n",
    "        df_line = np.vstack((df_line,row[i])) # Combine transformed acc axes into one matrix\n",
    "    df_acc = pd.DataFrame(data=df_line) # Transform numpy array into pandas dataframe\n",
    "    return df_acc\n",
    "\n",
    "acc_pca_set = [x.to_numpy() for i,x in enumerate(pca_train_df['df_acc'])] # Transform dataframe rows into numpy list for easier later use\n",
    "acc_pca_set = np.array(acc_pca_set) # Transform list into array for later use\n",
    "\n",
    "acc_pca_testset = [x.to_numpy() for i,x in enumerate(pca_test_df['df_acc'])]\n",
    "acc_pca_testset = np.array(acc_pca_testset)\n",
    "\n",
    "acc_pca_set0 = pca.fit_transform(acc_pca_set[:,:,0]) # Transforms acc_0 axis from all samples against true classes\n",
    "acc_pca_testset0 = pca.transform(acc_pca_testset[:,:,0])\n",
    "\n",
    "acc_pca_set1 = pca.fit_transform(acc_pca_set[:,:,1])\n",
    "acc_pca_testset1 = pca.transform(acc_pca_testset[:,:,1])\n",
    "\n",
    "acc_pca_set2 = pca.fit_transform(acc_pca_set[:,:,2])\n",
    "acc_pca_testset2 = pca.transform(acc_pca_testset[:,:,2])\n",
    "\n",
    "pca_train_df['df_acc'] = [combine_rows_vertically_as_df(x) for i,x in enumerate(zip(acc_pca_set0,acc_pca_set1,acc_pca_set2))]\n",
    "pca_test_df['df_acc'] = [combine_rows_vertically_as_df(x) for i,x in enumerate(zip(acc_pca_testset0,acc_pca_testset1,acc_pca_testset2))]\n",
    "\n"
   ]
  },
  {
   "cell_type": "code",
   "execution_count": 161,
   "metadata": {},
   "outputs": [
    {
     "data": {
      "text/html": [
       "<div>\n",
       "<style scoped>\n",
       "    .dataframe tbody tr th:only-of-type {\n",
       "        vertical-align: middle;\n",
       "    }\n",
       "\n",
       "    .dataframe tbody tr th {\n",
       "        vertical-align: top;\n",
       "    }\n",
       "\n",
       "    .dataframe thead th {\n",
       "        text-align: right;\n",
       "    }\n",
       "</style>\n",
       "<table border=\"1\" class=\"dataframe\">\n",
       "  <thead>\n",
       "    <tr style=\"text-align: right;\">\n",
       "      <th></th>\n",
       "      <th>0</th>\n",
       "      <th>1</th>\n",
       "      <th>2</th>\n",
       "      <th>3</th>\n",
       "      <th>4</th>\n",
       "    </tr>\n",
       "  </thead>\n",
       "  <tbody>\n",
       "    <tr>\n",
       "      <th>0</th>\n",
       "      <td>-2.863750</td>\n",
       "      <td>-0.571738</td>\n",
       "      <td>-1.781783</td>\n",
       "      <td>9.632074</td>\n",
       "      <td>-0.772936</td>\n",
       "    </tr>\n",
       "    <tr>\n",
       "      <th>1</th>\n",
       "      <td>1.834415</td>\n",
       "      <td>-10.414014</td>\n",
       "      <td>1.850986</td>\n",
       "      <td>-0.562633</td>\n",
       "      <td>0.232570</td>\n",
       "    </tr>\n",
       "    <tr>\n",
       "      <th>2</th>\n",
       "      <td>0.580830</td>\n",
       "      <td>10.936482</td>\n",
       "      <td>1.088693</td>\n",
       "      <td>1.528194</td>\n",
       "      <td>0.204703</td>\n",
       "    </tr>\n",
       "  </tbody>\n",
       "</table>\n",
       "</div>"
      ],
      "text/plain": [
       "          0          1         2         3         4\n",
       "0 -2.863750  -0.571738 -1.781783  9.632074 -0.772936\n",
       "1  1.834415 -10.414014  1.850986 -0.562633  0.232570\n",
       "2  0.580830  10.936482  1.088693  1.528194  0.204703"
      ]
     },
     "execution_count": 161,
     "metadata": {},
     "output_type": "execute_result"
    }
   ],
   "source": [
    "pca_test_df['df_acc'][0]  # check data"
   ]
  },
  {
   "cell_type": "markdown",
   "metadata": {},
   "source": [
    "LDA for ACC"
   ]
  },
  {
   "cell_type": "code",
   "execution_count": 162,
   "metadata": {
    "tags": []
   },
   "outputs": [],
   "source": [
    "from sklearn.discriminant_analysis import LinearDiscriminantAnalysis\n",
    "\n",
    "lda_train_df = train_set.copy() # Copy original dataset so it is not affected\n",
    "lda_test_df = test_set.copy()\n",
    "\n",
    "lda = LinearDiscriminantAnalysis(n_components=5) # LDA with 5 dimensions\n",
    "\n",
    "acc_set = [x.to_numpy() for i,x in enumerate(lda_train_df['df_acc'])] # Transform dataframe rows into numpy list for easier later use\n",
    "acc_set = np.array(acc_set) # Transform list into array for later use\n",
    "\n",
    "acc_testset = [x.to_numpy() for i,x in enumerate(lda_test_df['df_acc'])]\n",
    "acc_testset = np.array(acc_testset)\n",
    "\n",
    "acc_set0 = lda.fit_transform(acc_set[:,:,0], lda_train_df['exercise_id']) # Transforms acc_0 axis from all samples against true classes\n",
    "acc_testset0 = lda.transform(acc_testset[:,:,0])\n",
    "\n",
    "acc_set1 = lda.fit_transform(acc_set[:,:,1], lda_train_df['exercise_id'])\n",
    "acc_testset1 = lda.transform(acc_testset[:,:,1])\n",
    "\n",
    "acc_set2 = lda.fit_transform(acc_set[:,:,2], lda_train_df['exercise_id'])\n",
    "acc_testset2 = lda.transform(acc_testset[:,:,2])\n",
    "\n",
    "lda_train_df['df_acc'] = [combine_rows_vertically_as_df(x) for i,x in enumerate(zip(acc_set0,acc_set1,acc_set2))] # Calls combine_lda_rows to make full dataframe from transformed datasets\n",
    "lda_test_df['df_acc'] = [combine_rows_vertically_as_df(x) for i,x in enumerate(zip(acc_testset0,acc_testset1,acc_testset2))]\n"
   ]
  },
  {
   "cell_type": "code",
   "execution_count": 163,
   "metadata": {},
   "outputs": [
    {
     "data": {
      "text/html": [
       "<div>\n",
       "<style scoped>\n",
       "    .dataframe tbody tr th:only-of-type {\n",
       "        vertical-align: middle;\n",
       "    }\n",
       "\n",
       "    .dataframe tbody tr th {\n",
       "        vertical-align: top;\n",
       "    }\n",
       "\n",
       "    .dataframe thead th {\n",
       "        text-align: right;\n",
       "    }\n",
       "</style>\n",
       "<table border=\"1\" class=\"dataframe\">\n",
       "  <thead>\n",
       "    <tr style=\"text-align: right;\">\n",
       "      <th></th>\n",
       "      <th>0</th>\n",
       "      <th>1</th>\n",
       "      <th>2</th>\n",
       "      <th>3</th>\n",
       "      <th>4</th>\n",
       "    </tr>\n",
       "  </thead>\n",
       "  <tbody>\n",
       "    <tr>\n",
       "      <th>0</th>\n",
       "      <td>-0.424551</td>\n",
       "      <td>0.126984</td>\n",
       "      <td>0.276845</td>\n",
       "      <td>0.094892</td>\n",
       "      <td>0.396895</td>\n",
       "    </tr>\n",
       "    <tr>\n",
       "      <th>1</th>\n",
       "      <td>0.112047</td>\n",
       "      <td>-0.035286</td>\n",
       "      <td>-0.040568</td>\n",
       "      <td>-0.192135</td>\n",
       "      <td>0.099573</td>\n",
       "    </tr>\n",
       "    <tr>\n",
       "      <th>2</th>\n",
       "      <td>-0.029796</td>\n",
       "      <td>-0.019269</td>\n",
       "      <td>-0.130438</td>\n",
       "      <td>0.148026</td>\n",
       "      <td>-0.126424</td>\n",
       "    </tr>\n",
       "  </tbody>\n",
       "</table>\n",
       "</div>"
      ],
      "text/plain": [
       "          0         1         2         3         4\n",
       "0 -0.424551  0.126984  0.276845  0.094892  0.396895\n",
       "1  0.112047 -0.035286 -0.040568 -0.192135  0.099573\n",
       "2 -0.029796 -0.019269 -0.130438  0.148026 -0.126424"
      ]
     },
     "execution_count": 163,
     "metadata": {},
     "output_type": "execute_result"
    }
   ],
   "source": [
    "lda_train_df['df_acc'][0] # check data "
   ]
  },
  {
   "cell_type": "markdown",
   "metadata": {},
   "source": [
    "PCA and LDA fusion for ACC"
   ]
  },
  {
   "cell_type": "code",
   "execution_count": 164,
   "metadata": {},
   "outputs": [],
   "source": [
    "def pair(x):\n",
    "    new_df = pd.concat([x[0], x[1]], axis=1, ignore_index=True)\n",
    "    return new_df.to_numpy()\n",
    "    \n",
    "train_pca_lda_acc = [pair(x) for i,x in enumerate(zip(pca_train_df['df_acc'],lda_train_df['df_acc']))] # Combine PCA and LDA data to 3x10 (3x5+5) shape.\n",
    "train_pca_lda_acc = np.array(train_pca_lda_acc)\n",
    "test_pca_lda_acc = [pair(x) for i,x in enumerate(zip(pca_test_df['df_acc'],lda_test_df['df_acc']))]\n",
    "test_pca_lda_acc = np.array(test_pca_lda_acc)\n",
    "\n",
    "def compute_distance_acc(testsample):\n",
    "    pca_distance = np.sum(np.sum(np.square(testsample[:,0:5] - train_pca_lda_acc[:,:,0:5]),axis=2),axis=1)\n",
    "    lda_distance = np.sum(np.sum(np.square(testsample[:,5:10] - train_pca_lda_acc[:,:,5:10]),axis=2),axis=1)\n",
    "    pca_distance = scale_distance(pca_distance)    \n",
    "    lda_distance = scale_distance(lda_distance)\n",
    "    return [pca_distance, lda_distance]\n",
    "\n",
    "def scale_distance(distance):\n",
    "    scaled_distance = (distance - np.min(distance)) / (np.max(distance) - np.min(distance))\n",
    "    return scaled_distance\n",
    "\n",
    "def fuse_average(dists):\n",
    "    fused_avg = (dists[0]+dists[1]) / 2\n",
    "    return fused_avg\n",
    "    \n",
    "def classify(fused_avg):\n",
    "    class_prediction = lda_train_df['exercise_id'][np.argmin(fused_avg)]\n",
    "    return class_prediction\n",
    "\n",
    "test_predictions = [classify(fuse_average(compute_distance_acc(x))) for i,x in enumerate(test_pca_lda_acc)]"
   ]
  },
  {
   "cell_type": "markdown",
   "metadata": {},
   "source": [
    "Performance evaluation"
   ]
  },
  {
   "cell_type": "code",
   "execution_count": 165,
   "metadata": {},
   "outputs": [
    {
     "name": "stdout",
     "output_type": "stream",
     "text": [
      "Classification report: \n",
      "               precision    recall  f1-score   support\n",
      "\n",
      "        ex 1       0.55      0.55      0.55        86\n",
      "        ex 2       0.25      0.29      0.27        73\n",
      "        ex 3       0.29      0.25      0.27        99\n",
      "        ex 4       0.34      0.27      0.30       100\n",
      "        ex 5       0.38      0.45      0.41        75\n",
      "        ex 6       0.30      0.35      0.32        74\n",
      "        ex 7       0.45      0.42      0.43        91\n",
      "\n",
      "    accuracy                           0.36       598\n",
      "   macro avg       0.36      0.37      0.36       598\n",
      "weighted avg       0.37      0.36      0.36       598\n",
      "\n",
      "Precision score: \n",
      " [0.55294118 0.25       0.29069767 0.3375     0.37777778 0.29545455\n",
      " 0.44705882]\n",
      "Recall score: \n",
      " [0.54651163 0.28767123 0.25252525 0.27       0.45333333 0.35135135\n",
      " 0.41758242]\n",
      "Accuracy score: \n",
      " 0.36454849498327757\n",
      "F1 score: \n",
      " 0.36463154920524454\n"
     ]
    },
    {
     "data": {
      "image/png": "[encoded data removed]",
      "text/plain": [
       "<Figure size 432x288 with 2 Axes>"
      ]
     },
     "metadata": {
      "needs_background": "light"
     },
     "output_type": "display_data"
    }
   ],
   "source": [
    "from sklearn import metrics\n",
    "\n",
    "def stats_and_cf(test_predictions, test_true_labels):\n",
    "    class_labels = ['ex 1','ex 2','ex 3','ex 4','ex 5','ex 6', 'ex 7']\n",
    "\n",
    "    pre = metrics.precision_score(test_predictions, test_true_labels,average=None)\n",
    "    recall = metrics.recall_score(test_predictions, test_true_labels,average=None)\n",
    "    f1 = (1/len(class_labels))*np.sum(2*(pre*recall)/(pre+recall))\n",
    "\n",
    "    print(\"Classification report: \\n\", metrics.classification_report(test_predictions, test_true_labels, target_names=class_labels))\n",
    "    print(\"Precision score: \\n\", pre)\n",
    "    print(\"Recall score: \\n\", recall)\n",
    "    print(\"Accuracy score: \\n\", metrics.accuracy_score(test_predictions, test_true_labels))\n",
    "    print(\"F1 score: \\n\", f1)\n",
    "\n",
    "    # Confusion matrix for testing set\n",
    "    cm = metrics.confusion_matrix(test_predictions,test_true_labels)\n",
    "    metrics.ConfusionMatrixDisplay(cm,display_labels=class_labels).plot()\n",
    "\n",
    "\n",
    "stats_and_cf(test_predictions, test_set['exercise_id'].to_numpy())\n",
    "### End of task 2.1\n",
    "### Your code ends here ###"
   ]
  },
  {
   "cell_type": "markdown",
   "metadata": {},
   "source": [
    "### Task 2.2 \n",
    "\n",
    "Use PCA and LDA transformations to reduce the dimensionality of depth images. You should also standardize the values to zero mean and unit variance before the transformations. Fit PCA and LDA for all training images (12x16, 192-dimensional in vectorized form) by choosing 5-dimensional subspace for both PCA and LDA. Transform both train and test examples to this low-dimensional feature representation. Concatenate each sequence to single vector size of 5x1x(5+5). Similar to task 2.1, do the PCA and LDA fusion using NN and evaluate the performance on testset. Show confusion matrix and F1 scores of the results."
   ]
  },
  {
   "cell_type": "code",
   "execution_count": 180,
   "metadata": {},
   "outputs": [
    {
     "data": {
      "text/html": [
       "<div>\n",
       "<style scoped>\n",
       "    .dataframe tbody tr th:only-of-type {\n",
       "        vertical-align: middle;\n",
       "    }\n",
       "\n",
       "    .dataframe tbody tr th {\n",
       "        vertical-align: top;\n",
       "    }\n",
       "\n",
       "    .dataframe thead th {\n",
       "        text-align: right;\n",
       "    }\n",
       "</style>\n",
       "<table border=\"1\" class=\"dataframe\">\n",
       "  <thead>\n",
       "    <tr style=\"text-align: right;\">\n",
       "      <th></th>\n",
       "      <th>dc_0</th>\n",
       "      <th>dc_1</th>\n",
       "      <th>dc_2</th>\n",
       "      <th>dc_3</th>\n",
       "      <th>dc_4</th>\n",
       "      <th>dc_5</th>\n",
       "      <th>dc_6</th>\n",
       "      <th>dc_7</th>\n",
       "      <th>dc_8</th>\n",
       "      <th>dc_9</th>\n",
       "      <th>...</th>\n",
       "      <th>dc_182</th>\n",
       "      <th>dc_183</th>\n",
       "      <th>dc_184</th>\n",
       "      <th>dc_185</th>\n",
       "      <th>dc_186</th>\n",
       "      <th>dc_187</th>\n",
       "      <th>dc_188</th>\n",
       "      <th>dc_189</th>\n",
       "      <th>dc_190</th>\n",
       "      <th>dc_191</th>\n",
       "    </tr>\n",
       "  </thead>\n",
       "  <tbody>\n",
       "    <tr>\n",
       "      <th>0</th>\n",
       "      <td>-1.224745</td>\n",
       "      <td>0.0</td>\n",
       "      <td>1.528942</td>\n",
       "      <td>0.0</td>\n",
       "      <td>-0.5</td>\n",
       "      <td>0.5</td>\n",
       "      <td>-0.816497</td>\n",
       "      <td>0.0</td>\n",
       "      <td>-0.50</td>\n",
       "      <td>0.502042</td>\n",
       "      <td>...</td>\n",
       "      <td>0.485509</td>\n",
       "      <td>1.224745</td>\n",
       "      <td>-1.0</td>\n",
       "      <td>-0.886964</td>\n",
       "      <td>-0.5</td>\n",
       "      <td>0.5</td>\n",
       "      <td>0.504884</td>\n",
       "      <td>0.5</td>\n",
       "      <td>-1.105959</td>\n",
       "      <td>0.514748</td>\n",
       "    </tr>\n",
       "    <tr>\n",
       "      <th>1</th>\n",
       "      <td>0.816497</td>\n",
       "      <td>0.0</td>\n",
       "      <td>-1.401530</td>\n",
       "      <td>0.0</td>\n",
       "      <td>-0.5</td>\n",
       "      <td>0.5</td>\n",
       "      <td>1.224745</td>\n",
       "      <td>0.0</td>\n",
       "      <td>0.75</td>\n",
       "      <td>0.502042</td>\n",
       "      <td>...</td>\n",
       "      <td>1.352488</td>\n",
       "      <td>1.224745</td>\n",
       "      <td>-1.0</td>\n",
       "      <td>1.222008</td>\n",
       "      <td>-0.5</td>\n",
       "      <td>0.5</td>\n",
       "      <td>0.498370</td>\n",
       "      <td>0.5</td>\n",
       "      <td>-0.047062</td>\n",
       "      <td>0.514748</td>\n",
       "    </tr>\n",
       "    <tr>\n",
       "      <th>2</th>\n",
       "      <td>-1.224745</td>\n",
       "      <td>0.0</td>\n",
       "      <td>-0.382235</td>\n",
       "      <td>0.0</td>\n",
       "      <td>-0.5</td>\n",
       "      <td>0.5</td>\n",
       "      <td>-0.816497</td>\n",
       "      <td>0.0</td>\n",
       "      <td>-1.75</td>\n",
       "      <td>-1.999990</td>\n",
       "      <td>...</td>\n",
       "      <td>-1.161753</td>\n",
       "      <td>-0.816497</td>\n",
       "      <td>-1.0</td>\n",
       "      <td>-0.673657</td>\n",
       "      <td>-0.5</td>\n",
       "      <td>0.5</td>\n",
       "      <td>0.498370</td>\n",
       "      <td>0.5</td>\n",
       "      <td>-1.105959</td>\n",
       "      <td>-1.171495</td>\n",
       "    </tr>\n",
       "    <tr>\n",
       "      <th>3</th>\n",
       "      <td>0.816497</td>\n",
       "      <td>0.0</td>\n",
       "      <td>-0.382235</td>\n",
       "      <td>0.0</td>\n",
       "      <td>-0.5</td>\n",
       "      <td>0.5</td>\n",
       "      <td>-0.816497</td>\n",
       "      <td>0.0</td>\n",
       "      <td>0.75</td>\n",
       "      <td>0.502042</td>\n",
       "      <td>...</td>\n",
       "      <td>0.485509</td>\n",
       "      <td>-0.816497</td>\n",
       "      <td>-1.0</td>\n",
       "      <td>-0.881609</td>\n",
       "      <td>-0.5</td>\n",
       "      <td>0.5</td>\n",
       "      <td>0.498370</td>\n",
       "      <td>0.5</td>\n",
       "      <td>1.129490</td>\n",
       "      <td>1.313494</td>\n",
       "    </tr>\n",
       "    <tr>\n",
       "      <th>4</th>\n",
       "      <td>0.816497</td>\n",
       "      <td>0.0</td>\n",
       "      <td>0.637059</td>\n",
       "      <td>0.0</td>\n",
       "      <td>2.0</td>\n",
       "      <td>-2.0</td>\n",
       "      <td>1.224745</td>\n",
       "      <td>0.0</td>\n",
       "      <td>0.75</td>\n",
       "      <td>0.493865</td>\n",
       "      <td>...</td>\n",
       "      <td>-1.161753</td>\n",
       "      <td>-0.816497</td>\n",
       "      <td>-1.0</td>\n",
       "      <td>1.220223</td>\n",
       "      <td>2.0</td>\n",
       "      <td>-2.0</td>\n",
       "      <td>-1.999994</td>\n",
       "      <td>-2.0</td>\n",
       "      <td>1.129490</td>\n",
       "      <td>-1.171495</td>\n",
       "    </tr>\n",
       "  </tbody>\n",
       "</table>\n",
       "<p>5 rows × 192 columns</p>\n",
       "</div>"
      ],
      "text/plain": [
       "       dc_0  dc_1      dc_2  dc_3  dc_4  dc_5      dc_6  dc_7  dc_8      dc_9  \\\n",
       "0 -1.224745   0.0  1.528942   0.0  -0.5   0.5 -0.816497   0.0 -0.50  0.502042   \n",
       "1  0.816497   0.0 -1.401530   0.0  -0.5   0.5  1.224745   0.0  0.75  0.502042   \n",
       "2 -1.224745   0.0 -0.382235   0.0  -0.5   0.5 -0.816497   0.0 -1.75 -1.999990   \n",
       "3  0.816497   0.0 -0.382235   0.0  -0.5   0.5 -0.816497   0.0  0.75  0.502042   \n",
       "4  0.816497   0.0  0.637059   0.0   2.0  -2.0  1.224745   0.0  0.75  0.493865   \n",
       "\n",
       "   ...    dc_182    dc_183  dc_184    dc_185  dc_186  dc_187    dc_188  \\\n",
       "0  ...  0.485509  1.224745    -1.0 -0.886964    -0.5     0.5  0.504884   \n",
       "1  ...  1.352488  1.224745    -1.0  1.222008    -0.5     0.5  0.498370   \n",
       "2  ... -1.161753 -0.816497    -1.0 -0.673657    -0.5     0.5  0.498370   \n",
       "3  ...  0.485509 -0.816497    -1.0 -0.881609    -0.5     0.5  0.498370   \n",
       "4  ... -1.161753 -0.816497    -1.0  1.220223     2.0    -2.0 -1.999994   \n",
       "\n",
       "   dc_189    dc_190    dc_191  \n",
       "0     0.5 -1.105959  0.514748  \n",
       "1     0.5 -0.047062  0.514748  \n",
       "2     0.5 -1.105959 -1.171495  \n",
       "3     0.5  1.129490  1.313494  \n",
       "4    -2.0  1.129490 -1.171495  \n",
       "\n",
       "[5 rows x 192 columns]"
      ]
     },
     "execution_count": 180,
     "metadata": {},
     "output_type": "execute_result"
    }
   ],
   "source": [
    "# 2.2\n",
    "\n",
    "### Your code begins here ###\n",
    "\n",
    "# standardize the values to zero mean and unit variance before the transformations\n",
    "from sklearn.preprocessing import StandardScaler\n",
    "\n",
    "scaler = StandardScaler()\n",
    "\n",
    "train_set = df_train_pair.copy()\n",
    "test_set = df_test_pair.copy()\n",
    "\n",
    "def drop_time(row):\n",
    "    row = row.drop(['time'], axis = 1)\n",
    "    return row\n",
    "\n",
    "train_set['df_dc'] = [standardize(drop_time(x)) for x in train_set['df_dc']] \n",
    "test_set['df_dc'] = [standardize(drop_time(x)) for x in test_set['df_dc']] \n",
    "\n",
    "train_set['df_dc'][0]\n",
    "\n",
    "### Your code ends here ###"
   ]
  },
  {
   "cell_type": "code",
   "execution_count": 181,
   "metadata": {},
   "outputs": [],
   "source": [
    "from sklearn.decomposition import PCA\n",
    "\n",
    "pca = PCA(n_components=5)\n",
    "\n",
    "pca_train_df = train_set.copy() # Copy original dataset so it is not affected\n",
    "pca_test_df = test_set.copy()\n",
    "\n",
    "def combine_rows_vertically(row):\n",
    "    df_line = row[0]\n",
    "    for i in range(1, len(row)):\n",
    "        df_line = np.vstack((df_line,row[i]))\n",
    "        \n",
    "    \n",
    "    df_line = df_line.reshape((5,1,5))\n",
    "    return df_line\n",
    "\n",
    "dc_pca_set = [x.to_numpy() for i,x in enumerate(pca_train_df['df_dc'])] # Transform dataframe rows into numpy list for easier later use\n",
    "dc_pca_set = np.array(dc_pca_set) # Transform list into array for later use\n",
    "\n",
    "dc_pca_testset = [x.to_numpy() for i,x in enumerate(pca_test_df['df_dc'])]\n",
    "dc_pca_testset = np.array(dc_pca_testset)\n",
    "\n",
    "dc_pca_set0 = pca.fit_transform(dc_pca_set[:,0,:]) # Transforms acc_0 axis from all samples against true classes\n",
    "dc_pca_testset0 = pca.transform(dc_pca_testset[:,0,:])\n",
    "\n",
    "dc_pca_set1 = pca.fit_transform(dc_pca_set[:,1,:])\n",
    "dc_pca_testset1 = pca.transform(dc_pca_testset[:,1,:])\n",
    "\n",
    "dc_pca_set2 = pca.fit_transform(dc_pca_set[:,2,:])\n",
    "dc_pca_testset2 = pca.transform(dc_pca_testset[:,2,:])\n",
    "\n",
    "dc_pca_set3 = pca.fit_transform(dc_pca_set[:,3,:]) # Transforms acc_0 axis from all samples against true classes\n",
    "dc_pca_testset3 = pca.transform(dc_pca_testset[:,3,:])\n",
    "\n",
    "dc_pca_set4 = pca.fit_transform(dc_pca_set[:,4,:])\n",
    "dc_pca_testset4 = pca.transform(dc_pca_testset[:,4,:])\n",
    "\n",
    "pca_train_df['df_dc'] = [combine_rows_vertically(x) for i,x in enumerate(zip(dc_pca_set0,dc_pca_set1,dc_pca_set2,dc_pca_set3,dc_pca_set4))]\n",
    "pca_test_df['df_dc'] = [combine_rows_vertically(x) for i,x in enumerate(zip(dc_pca_testset0,dc_pca_testset1,dc_pca_testset2,dc_pca_testset3,dc_pca_testset4))]\n"
   ]
  },
  {
   "cell_type": "code",
   "execution_count": 182,
   "metadata": {
    "scrolled": true
   },
   "outputs": [
    {
     "data": {
      "text/plain": [
       "(5, 1, 5)"
      ]
     },
     "metadata": {},
     "output_type": "display_data"
    },
    {
     "data": {
      "text/plain": [
       "array([[[ 4.32226657, -1.44157988, -3.60790865,  2.12622303,\n",
       "         -0.04079354]],\n",
       "\n",
       "       [[ 0.17828358,  3.94892045, -2.542295  ,  1.74365051,\n",
       "         -1.56074952]],\n",
       "\n",
       "       [[ 3.86781209,  8.28412613,  2.84189458, -1.32646714,\n",
       "          0.13692363]],\n",
       "\n",
       "       [[ 0.53359477, -1.40962206, -1.44397926, -1.38933243,\n",
       "         -0.45449485]],\n",
       "\n",
       "       [[ 0.71353285, -8.76055686,  1.87071439, -0.99127506,\n",
       "         -1.86681591]]])"
      ]
     },
     "execution_count": 182,
     "metadata": {},
     "output_type": "execute_result"
    }
   ],
   "source": [
    "display(pca_train_df['df_dc'][0].shape)\n",
    "pca_train_df['df_dc'][0]"
   ]
  },
  {
   "cell_type": "code",
   "execution_count": 183,
   "metadata": {},
   "outputs": [],
   "source": [
    "from sklearn.discriminant_analysis import LinearDiscriminantAnalysis\n",
    "\n",
    "lda_train_df = train_set.copy() # Copy original dataset so it is not affected\n",
    "lda_test_df = test_set.copy()\n",
    "\n",
    "lda = LinearDiscriminantAnalysis(n_components=5) # LDA with 5 dimensions\n",
    "\n",
    "dc_set = [x.to_numpy() for i,x in enumerate(lda_train_df['df_dc'])] # Transform dataframe rows into numpy list for easier later use\n",
    "dc_set = np.array(dc_set) # Transform list into array for later use\n",
    "\n",
    "dc_testset = [x.to_numpy() for i,x in enumerate(lda_test_df['df_dc'])]\n",
    "dc_testset = np.array(dc_testset)\n",
    "\n",
    "dc_set0 = lda.fit_transform(dc_set[:,0,:], lda_train_df['exercise_id']) # Transforms acc_0 axis from all samples against true classes\n",
    "dc_testset0 = lda.transform(dc_testset[:,0,:])\n",
    "dc_set1 = lda.fit_transform(dc_set[:,1,:], lda_train_df['exercise_id'])\n",
    "dc_testset1 = lda.transform(dc_testset[:,1,:])\n",
    "dc_set2 = lda.fit_transform(dc_set[:,2,:], lda_train_df['exercise_id'])\n",
    "dc_testset2 = lda.transform(dc_testset[:,2,:])\n",
    "dc_set3 = lda.fit_transform(dc_set[:,3,:], lda_train_df['exercise_id'])\n",
    "dc_testset3 = lda.transform(dc_testset[:,3,:])\n",
    "dc_set4 = lda.fit_transform(dc_set[:,4,:], lda_train_df['exercise_id'])\n",
    "dc_testset4 = lda.transform(dc_testset[:,4,:])\n",
    "\n",
    "lda_train_df['df_dc'] = [combine_rows_vertically(x) for i,x in enumerate(zip(dc_set0,dc_set1,dc_set2,dc_set3,dc_set4))] # Calls combine_dc_lda_rows to make full dataframe from transformed datasets\n",
    "lda_test_df['df_dc'] = [combine_rows_vertically(x) for i,x in enumerate(zip(dc_testset0,dc_testset1,dc_testset2,dc_testset3,dc_testset4))]\n",
    "\n"
   ]
  },
  {
   "cell_type": "code",
   "execution_count": 184,
   "metadata": {},
   "outputs": [
    {
     "data": {
      "text/plain": [
       "(5, 1, 5)"
      ]
     },
     "metadata": {},
     "output_type": "display_data"
    },
    {
     "data": {
      "text/plain": [
       "array([[[ 0.38307363, -0.37134683,  0.54429978,  0.49596489,\n",
       "          1.83397226]],\n",
       "\n",
       "       [[-1.0306928 ,  0.72737298, -0.35564135,  1.71364884,\n",
       "         -0.6269335 ]],\n",
       "\n",
       "       [[-0.1778564 ,  1.75453147,  0.21564123,  0.95905771,\n",
       "         -1.94200607]],\n",
       "\n",
       "       [[-0.5126615 , -1.08209531,  1.02945687,  0.45571692,\n",
       "         -0.88611111]],\n",
       "\n",
       "       [[ 0.40167086,  3.56359192, -0.10149324,  1.40398076,\n",
       "         -1.80700378]]])"
      ]
     },
     "execution_count": 184,
     "metadata": {},
     "output_type": "execute_result"
    }
   ],
   "source": [
    "display(lda_train_df['df_dc'][0].shape)\n",
    "lda_train_df['df_dc'][0]"
   ]
  },
  {
   "cell_type": "code",
   "execution_count": 185,
   "metadata": {},
   "outputs": [],
   "source": [
    "def pair(x):\n",
    "    new_df = np.dstack([x[0], x[1]]) \n",
    "    return new_df\n",
    "    \n",
    "train_pca_lda_df = [pair(x) for i,x in enumerate(zip(pca_train_df['df_dc'],lda_train_df['df_dc']))] # Combine PCA and LDA data to 3x10 (3x5+5) shape.\n",
    "train_pca_lda_df = np.array(train_pca_lda_df)\n",
    "test_pca_lda_df = [pair(x) for i,x in enumerate(zip(pca_test_df['df_dc'],lda_test_df['df_dc']))]\n",
    "test_pca_lda_df = np.array(test_pca_lda_df)\n",
    "\n",
    "def compute_distance_dc(testsample):\n",
    "    pca_distance = np.sum(np.sum(np.sum(np.square(testsample[:,:,0:5] - train_pca_lda_df[:,:,:,0:5]),axis=2),axis=1), axis = 1)\n",
    "    lda_distance = np.sum(np.sum(np.sum(np.square(testsample[:,:,5:10] - train_pca_lda_df[:,:,:,5:10]),axis=2),axis=1), axis=1)\n",
    "    pca_distance = scale_distance(pca_distance)    \n",
    "    lda_distance = scale_distance(lda_distance)\n",
    "    return [pca_distance, lda_distance]\n",
    "    \n",
    "def classify(fused_avg):\n",
    "    class_prediction = lda_train_df['exercise_id'][np.argmin(fused_avg)]\n",
    "    return class_prediction\n",
    "\n",
    "test_predictions = [classify(fuse_average(compute_distance_dc(x))) for i,x in enumerate(test_pca_lda_df)]\n"
   ]
  },
  {
   "cell_type": "code",
   "execution_count": 186,
   "metadata": {},
   "outputs": [
    {
     "name": "stdout",
     "output_type": "stream",
     "text": [
      "Classification report: \n",
      "               precision    recall  f1-score   support\n",
      "\n",
      "        ex 1       0.64      0.61      0.62        89\n",
      "        ex 2       0.44      0.30      0.36       122\n",
      "        ex 3       0.27      0.26      0.26        90\n",
      "        ex 4       0.42      0.39      0.40        88\n",
      "        ex 5       0.63      0.55      0.59       103\n",
      "        ex 6       0.14      0.26      0.18        47\n",
      "        ex 7       0.22      0.32      0.26        59\n",
      "\n",
      "    accuracy                           0.39       598\n",
      "   macro avg       0.39      0.38      0.38       598\n",
      "weighted avg       0.43      0.39      0.41       598\n",
      "\n",
      "Precision score: \n",
      " [0.63529412 0.44047619 0.26744186 0.425      0.63333333 0.13636364\n",
      " 0.22352941]\n",
      "Recall score: \n",
      " [0.60674157 0.30327869 0.25555556 0.38636364 0.55339806 0.25531915\n",
      " 0.3220339 ]\n",
      "Accuracy score: \n",
      " 0.39464882943143814\n",
      "F1 score: \n",
      " 0.38262553415214695\n"
     ]
    },
    {
     "data": {
      "image/png": "[encoded data removed]",
      "text/plain": [
       "<Figure size 432x288 with 2 Axes>"
      ]
     },
     "metadata": {
      "needs_background": "light"
     },
     "output_type": "display_data"
    }
   ],
   "source": [
    "from sklearn import metrics\n",
    "\n",
    "stats_and_cf(test_predictions, test_set['exercise_id'].to_numpy())\n",
    "\n",
    "### End of task 2.2\n",
    "### Your code ends here ###"
   ]
  },
  {
   "cell_type": "markdown",
   "metadata": {
    "nbgrader": {
     "grade": false,
     "grade_id": "cell-6c349269722f7b4d",
     "locked": true,
     "schema_version": 3,
     "solution": false,
     "task": false
    },
    "tags": []
   },
   "source": [
    "# 3. Feature extraction and feature-level fusion for multimodal classification"
   ]
  },
  {
   "cell_type": "code",
   "execution_count": null,
   "metadata": {},
   "outputs": [],
   "source": []
  },
  {
   "cell_type": "markdown",
   "metadata": {
    "nbgrader": {
     "grade": false,
     "grade_id": "cell-61ec26decd69ed9d",
     "locked": true,
     "schema_version": 3,
     "solution": false,
     "task": false
    }
   },
   "source": [
    "<a id='task3'></a>\n",
    "<div class=\" alert alert-warning\">\n",
    "    <b>Assigment.</b> <b>Task 3.</b>\n",
    "\n",
    "Prepare new feature sets for each modality and combine them to single feature representation. Compare two classifiers from scikit-learn. Train classifiers using joint feature presentation. Evaluate and compare the result using testing dataset. Do the subtasks given as\n",
    "<br>   \n",
    "<br> \n",
    "<p> <b>3.1</b> Similar to task 2.1, calculate PCA for accelerometer, but choose now the 10 largest principal components as 10-dim feature vector for each window. In addition, for each window calculate mean and standard deviation of each three acc channels as statistical features, resulting 6-dimensional vector. Combine these to 36-dimensional final feature vector.</p>\n",
    "<br>  \n",
    "<p> <b>3.2</b> Similar to task 2.2, calculate the PCA for depth images using same setup, but now choose the 10 largest principal components as feature vector. Concatenate the image sequence forming 50-dimensional feature vector from each windowed example.</p>\n",
    "<br> \n",
    "<p> <b>3.3</b> Form a joint feature presentation of features extracted in 3.1 and 3.2, resulting 86-dimensional feature vector for each example. Normalize data between 0-1 using the training dataset. Use support vector machine (SVM) with RBF-kernel and Gaussian naiveBayes classifier (use default parameter values for both classifiers). Train the classifiers and evaluate and compare classifiers on testset using confusion matrices and F1 scores.</p>\n",
    "<br> \n",
    "Document your work, evaluate the results, and analyse the outcomes in each subtasks 3.1-3.3.\n",
    "    \n",
    "</div>"
   ]
  },
  {
   "cell_type": "markdown",
   "metadata": {},
   "source": [
    "PCA with 10 dimensions for ACC data"
   ]
  },
  {
   "cell_type": "code",
   "execution_count": 187,
   "metadata": {},
   "outputs": [
    {
     "data": {
      "text/plain": [
       "(1486, 6)"
      ]
     },
     "execution_count": 115,
     "metadata": {},
     "output_type": "execute_result"
    }
   ],
   "source": [
    "# 3.1\n",
    "\n",
    "### Your code begins here ###\n",
    "\n",
    "pca_train_df = df_train_pair.copy()\n",
    "pca_test_df = df_test_pair.copy()\n",
    "\n",
    "pca_train_df['df_acc'] = [standardize(drop_time(x)) for x in pca_train_df['df_acc']] \n",
    "pca_test_df['df_acc'] = [standardize(drop_time(x)) for x in pca_test_df['df_acc']] \n",
    "\n",
    "pca = PCA(n_components=10)\n",
    "\n",
    "def combine_rows_horizontally(row): # Calling this function, order of rows matter.\n",
    "    df_line = row[0]\n",
    "    for i in range(1, len(row)):\n",
    "        df_line = np.hstack((df_line,row[i]))\n",
    "    return df_line\n",
    "\n",
    "acc_pca_set = [x.to_numpy() for i,x in enumerate(pca_train_df['df_acc'])] # Transform dataframe rows into numpy list for easier later use\n",
    "acc_pca_set = np.array(acc_pca_set) # Transform list into array for later use\n",
    "\n",
    "acc_pca_testset = [x.to_numpy() for i,x in enumerate(pca_test_df['df_acc'])]\n",
    "acc_pca_testset = np.array(acc_pca_testset)\n",
    "\n",
    "acc_pca_set0 = pca.fit_transform(acc_pca_set[:,:,0]) # Transforms acc_0 axis from all samples against true classes\n",
    "set0_train_mean = np.mean(acc_pca_set0,axis=1) # 1486 means (for every sample)\n",
    "set0_train_std = np.std(acc_pca_set0,axis=1) # 1486 stds (for every sample)\n",
    "\n",
    "acc_pca_testset0 = pca.transform(acc_pca_testset[:,:,0])\n",
    "set0_test_mean = np.mean(acc_pca_testset0,axis=1)\n",
    "set0_test_std = np.std(acc_pca_testset0,axis=1)\n",
    "\n",
    "acc_pca_set1 = pca.fit_transform(acc_pca_set[:,:,1])\n",
    "set1_train_mean = np.mean(acc_pca_set1,axis=1)\n",
    "set1_train_std = np.std(acc_pca_set1,axis=1)\n",
    "\n",
    "acc_pca_testset1 = pca.transform(acc_pca_testset[:,:,1])\n",
    "set1_test_mean = np.mean(acc_pca_testset1,axis=1)\n",
    "set1_test_std = np.std(acc_pca_testset1,axis=1)\n",
    "\n",
    "acc_pca_set2 = pca.fit_transform(acc_pca_set[:,:,2])\n",
    "set2_train_mean = np.mean(acc_pca_set2,axis=1)\n",
    "set2_train_std = np.std(acc_pca_set2,axis=1)\n",
    "\n",
    "acc_pca_testset2 = pca.transform(acc_pca_testset[:,:,2])\n",
    "set2_test_mean = np.mean(acc_pca_testset2,axis=1)\n",
    "set2_test_std = np.std(acc_pca_testset2,axis=1)\n",
    "\n",
    "train_mean_std_vector = np.array([set0_train_mean, set0_train_std, set1_train_mean, set1_train_std, set2_train_mean, set2_train_std]).T # 1486 vectors of size 1x6\n",
    "test_mean_std_vector = np.array([set0_test_mean, set0_test_std, set1_test_mean, set1_test_std, set2_test_mean, set2_test_std]).T\n",
    "\n",
    "pca_train_df['df_acc'] = [combine_rows_horizontally(x) for i,x in enumerate(zip(acc_pca_set0,acc_pca_set1,acc_pca_set2,train_mean_std_vector))] # Combine function is called and train_mean_std_vector is placed at the end.\n",
    "pca_test_df['df_acc'] = [combine_rows_horizontally(x) for i,x in enumerate(zip(acc_pca_testset0,acc_pca_testset1,acc_pca_testset2,test_mean_std_vector))]\n",
    "\n",
    "### Your code ends here ###"
   ]
  },
  {
   "cell_type": "code",
   "execution_count": 188,
   "metadata": {},
   "outputs": [
    {
     "data": {
      "text/plain": [
       "(36,)"
      ]
     },
     "metadata": {},
     "output_type": "display_data"
    },
    {
     "data": {
      "text/plain": [
       "array([  0.52232781,  13.77816607,  -3.53512201, -15.11442857,\n",
       "        -1.55863761,   5.32722868,   0.47389815,   1.11865192,\n",
       "         2.22593531,  -0.54039019, -21.41979347,  -2.29621006,\n",
       "         1.06056575,   4.43094843,  -1.33077423,   1.628354  ,\n",
       "        -0.73641409,   0.55293303,  -0.41207859,  -0.16303199,\n",
       "       -21.92939312,  -2.32095696,   0.94057337,  -1.07738284,\n",
       "        -2.06251798,   1.24882739,   0.43926875,   0.08444297,\n",
       "         0.84305878,   0.28193645,   0.26976296,   6.84001091,\n",
       "        -1.86855012,   6.74826175,  -2.35521432,   6.63071704])"
      ]
     },
     "execution_count": 188,
     "metadata": {},
     "output_type": "execute_result"
    }
   ],
   "source": [
    "display(pca_train_df['df_acc'][0].shape)\n",
    "pca_train_df['df_acc'][0]"
   ]
  },
  {
   "cell_type": "markdown",
   "metadata": {},
   "source": [
    "PCA with 10 dimensions for DC data"
   ]
  },
  {
   "cell_type": "code",
   "execution_count": 189,
   "metadata": {},
   "outputs": [],
   "source": [
    "# 3.2\n",
    "\n",
    "### Your code begins here ###\n",
    "\n",
    "pca = PCA(n_components=10)\n",
    "\n",
    "pca_train_df['df_dc'] = [standardize(drop_time(x)) for x in pca_train_df['df_dc']] \n",
    "pca_test_df['df_dc'] = [standardize(drop_time(x)) for x in pca_test_df['df_dc']] \n",
    "\n",
    "dc_pca_set = [x.to_numpy() for i,x in enumerate(pca_train_df['df_dc'])] # Transform dataframe rows into numpy list for easier later use\n",
    "dc_pca_set = np.array(dc_pca_set) # Transform list into array for later use\n",
    "\n",
    "dc_pca_testset = [x.to_numpy() for i,x in enumerate(pca_test_df['df_dc'])]\n",
    "dc_pca_testset = np.array(dc_pca_testset)\n",
    "\n",
    "dc_pca_set0 = pca.fit_transform(dc_pca_set[:,0,:]) # Transforms acc_0 axis from all samples against true classes\n",
    "dc_pca_testset0 = pca.transform(dc_pca_testset[:,0,:])\n",
    "\n",
    "dc_pca_set1 = pca.fit_transform(dc_pca_set[:,1,:])\n",
    "dc_pca_testset1 = pca.transform(dc_pca_testset[:,1,:])\n",
    "\n",
    "dc_pca_set2 = pca.fit_transform(dc_pca_set[:,2,:])\n",
    "dc_pca_testset2 = pca.transform(dc_pca_testset[:,2,:])\n",
    "\n",
    "dc_pca_set3 = pca.fit_transform(dc_pca_set[:,3,:]) # Transforms acc_0 axis from all samples against true classes\n",
    "dc_pca_testset3 = pca.transform(dc_pca_testset[:,3,:])\n",
    "\n",
    "dc_pca_set4 = pca.fit_transform(dc_pca_set[:,4,:])\n",
    "dc_pca_testset4 = pca.transform(dc_pca_testset[:,4,:])\n",
    "\n",
    "pca_train_df['df_dc'] = [combine_rows_horizontally(x) for i,x in enumerate(zip(dc_pca_set0,dc_pca_set1,dc_pca_set2,dc_pca_set3,dc_pca_set4))]\n",
    "pca_test_df['df_dc'] = [combine_rows_horizontally(x) for i,x in enumerate(zip(dc_pca_testset0,dc_pca_testset1,dc_pca_testset2,dc_pca_testset3,dc_pca_testset4))]\n",
    "\n",
    "### Your code ends here ###"
   ]
  },
  {
   "cell_type": "code",
   "execution_count": 190,
   "metadata": {},
   "outputs": [
    {
     "data": {
      "text/plain": [
       "(50,)"
      ]
     },
     "metadata": {},
     "output_type": "display_data"
    },
    {
     "data": {
      "text/plain": [
       "array([[[ 4.32226654, -1.44157047, -3.60799385,  2.13003824,\n",
       "         -0.04296523]],\n",
       "\n",
       "       [[ 0.17828357,  3.94887762, -2.54232917,  1.7487197 ,\n",
       "         -1.55955865]],\n",
       "\n",
       "       [[ 3.86781186,  8.28401283,  2.84149578, -1.3277045 ,\n",
       "          0.15581383]],\n",
       "\n",
       "       [[ 0.53359441, -1.40977329, -1.4440802 , -1.37184453,\n",
       "         -0.42502034]],\n",
       "\n",
       "       [[ 0.71353285, -8.76055231,  1.87077007, -0.99056537,\n",
       "         -1.87150985]]])"
      ]
     },
     "execution_count": 190,
     "metadata": {},
     "output_type": "execute_result"
    }
   ],
   "source": [
    "display(pca_train_df['df_dc'][0].shape)\n",
    "pca_train_dc['df_dc'][0]"
   ]
  },
  {
   "cell_type": "markdown",
   "metadata": {},
   "source": [
    "3.3 Form a joint feature presentation of features extracted in 3.1 and 3.2, resulting 86-dimensional feature vector for each example. Normalize data between 0-1 using the training dataset. Use support vector machine (SVM) with RBF-kernel and Gaussian naiveBayes classifier (use default parameter values for both classifiers). Train the classifiers and evaluate and compare classifiers on testset using confusion matrices and F1 scores."
   ]
  },
  {
   "cell_type": "code",
   "execution_count": 191,
   "metadata": {},
   "outputs": [],
   "source": [
    "# 3.3\n",
    "\n",
    "### Your code begins here ###\n",
    "from sklearn import svm\n",
    "from sklearn.naive_bayes import GaussianNB\n",
    "from sklearn.preprocessing import MinMaxScaler\n",
    "\n",
    "scaler = MinMaxScaler()\n",
    "\n",
    "# def minmax_normalization(set):\n",
    "#     normalized_set = (set - np.min(set)) / (np.max(set) - np.min(set))\n",
    "#     return normalized_set\n",
    "\n",
    "\n",
    "trainset = [combine_rows_horizontally(x) for i,x in enumerate(zip(pca_train_df['df_acc'],pca_train_df['df_dc']))]\n",
    "trainset = np.array(trainset)\n",
    "trainset = scaler.fit_transform(trainset)\n",
    "# trainset = minmax_normalization(trainset)\n",
    "\n",
    "testset = [combine_rows_horizontally(x) for i,x in enumerate(zip(pca_test_df['df_acc'], pca_test_df['df_dc']))]\n",
    "testset = np.array(testset)\n",
    "testset = scaler.transform(testset)\n",
    "# testset = minmax_normalization(testset)\n",
    "\n",
    "svm_clf = svm.SVC(kernel='rbf')\n",
    "svm_clf.fit(trainset, train_set['exercise_id'])\n",
    "svm_predictions = svm_clf.predict(testset)\n",
    "\n",
    "gnb_clf = GaussianNB()\n",
    "gnb_clf.fit(trainset, train_set['exercise_id'])\n",
    "gnb_predictions = gnb_clf.predict(testset)\n"
   ]
  },
  {
   "cell_type": "code",
   "execution_count": 192,
   "metadata": {},
   "outputs": [
    {
     "name": "stdout",
     "output_type": "stream",
     "text": [
      "Support vector machines classification\n",
      "Classification report: \n",
      "               precision    recall  f1-score   support\n",
      "\n",
      "        ex 1       0.56      0.75      0.64        64\n",
      "        ex 2       0.44      0.49      0.47        75\n",
      "        ex 3       0.88      0.38      0.53       201\n",
      "        ex 4       0.47      0.47      0.48        80\n",
      "        ex 5       0.50      0.53      0.51        85\n",
      "        ex 6       0.18      0.73      0.29        22\n",
      "        ex 7       0.53      0.63      0.58        71\n",
      "\n",
      "    accuracy                           0.51       598\n",
      "   macro avg       0.51      0.57      0.50       598\n",
      "weighted avg       0.62      0.51      0.52       598\n",
      "\n",
      "Precision score: \n",
      " [0.56470588 0.44047619 0.88372093 0.475      0.5        0.18181818\n",
      " 0.52941176]\n",
      "Recall score: \n",
      " [0.75       0.49333333 0.37810945 0.475      0.52941176 0.72727273\n",
      " 0.63380282]\n",
      "Accuracy score: \n",
      " 0.5100334448160535\n",
      "F1 score: \n",
      " 0.49949124484306107\n"
     ]
    },
    {
     "data": {
      "image/png": "[encoded data removed]",
      "text/plain": [
       "<Figure size 432x288 with 2 Axes>"
      ]
     },
     "metadata": {
      "needs_background": "light"
     },
     "output_type": "display_data"
    }
   ],
   "source": [
    "print('Support vector machines classification')\n",
    "stats_and_cf(svm_predictions, test_set['exercise_id'].to_numpy())"
   ]
  },
  {
   "cell_type": "code",
   "execution_count": 193,
   "metadata": {},
   "outputs": [
    {
     "name": "stdout",
     "output_type": "stream",
     "text": [
      "Gaussian Naive Bayes classification\n",
      "Classification report: \n",
      "               precision    recall  f1-score   support\n",
      "\n",
      "        ex 1       0.89      0.76      0.82       100\n",
      "        ex 2       0.31      0.54      0.39        48\n",
      "        ex 3       0.74      0.74      0.74        86\n",
      "        ex 4       0.59      0.90      0.71        52\n",
      "        ex 5       0.84      0.51      0.64       149\n",
      "        ex 6       0.80      0.88      0.83        80\n",
      "        ex 7       0.80      0.82      0.81        83\n",
      "\n",
      "    accuracy                           0.71       598\n",
      "   macro avg       0.71      0.74      0.71       598\n",
      "weighted avg       0.76      0.71      0.72       598\n",
      "\n",
      "Precision score: \n",
      " [0.89411765 0.30952381 0.74418605 0.5875     0.84444444 0.79545455\n",
      " 0.8       ]\n",
      "Recall score: \n",
      " [0.76       0.54166667 0.74418605 0.90384615 0.51006711 0.875\n",
      " 0.81927711]\n",
      "Accuracy score: \n",
      " 0.7140468227424749\n",
      "F1 score: \n",
      " 0.7072440972356177\n"
     ]
    },
    {
     "data": {
      "image/png": "[encoded data removed]",
      "text/plain": [
       "<Figure size 432x288 with 2 Axes>"
      ]
     },
     "metadata": {
      "needs_background": "light"
     },
     "output_type": "display_data"
    }
   ],
   "source": [
    "print(\"Gaussian Naive Bayes classification\")\n",
    "stats_and_cf(gnb_predictions, test_set['exercise_id'].to_numpy())"
   ]
  },
  {
   "cell_type": "markdown",
   "metadata": {
    "nbgrader": {
     "grade": false,
     "grade_id": "cell-cedfc7478c461525",
     "locked": true,
     "schema_version": 3,
     "solution": false,
     "task": false
    }
   },
   "source": [
    "# 4. Decision-level fusion for multimodal classification"
   ]
  },
  {
   "cell_type": "markdown",
   "metadata": {
    "nbgrader": {
     "grade": false,
     "grade_id": "cell-21056ef018219662",
     "locked": true,
     "schema_version": 3,
     "solution": false,
     "task": false
    }
   },
   "source": [
    "<a id='task4'></a>\n",
    "<div class=\" alert alert-warning\">\n",
    "    <b>Assigment.</b> <b>Task 4.</b>\n",
    "\n",
    "Use features calculated for each modality in task 3. Choose base classifier for each modality from scikit-learn. Train classifiers for each modality feature presentations separately and combine the outputs in decision level. Evaluate and compare the result on testing dataset. Do the subtasks given as\n",
    "<br>\n",
    "<br> \n",
    "<p> <b>4.1</b> Use base classifiers of support vector machine (SVM) with RBF-kernel and AdaBoost classifier (with random_state=0). \n",
    "Normalize data between 0-1 using the training dataset. Train the base classifiers by tuning the model parameters (<i>C</i> parameter and RBF-kernel <i>gamma</i> in SVM as well as <i>n_estimators</i> and <i>learning_rate</i> in Adaboost) using 10-fold cross-validation on training dataset to find optimal set of parameters (hint: use GridSearchCV from scikit-learn). For grid search use the following values $C = [0.1, 1.0, 10.0, 100.0]$, $gamma=[0.1, 0.25, 0.5, 0.75, 1.0, 2.0]$, $n\\_estimators = [50, 100, 500, 1000]$, and $learning\\_rate = [0.1, 0.25, 0.5, 0.75,1.0]$. Choose the best parameters and train the classifiers for each modality on whole training dataset. Is there a possibility that classifiers will overfit to training data using this parameter selection strategy? If so, why? </p>\n",
    "<br>\n",
    "<p> <b>4.2</b> Predict probabilistic outputs of each trained classifier for both modalities using the test set. </p>\n",
    "<br>\n",
    "<p> <b>4.3</b> Combine the probabilistic outputs of different modalities by fixed classification rules: max, min, prod, and sum. Evaluate, compare, and analyse the final combined results using confusion matrices and F1 scores. Show results for each base classifier combinations (i.e., $SVM_{acc}+SVM_{depth}$, $AdaBoost_{acc}+AdaBoost_{depth}$, $SVM_{acc}+AdaBoost_{depth}$, $AdaBoost_{acc}+SVM_{depth}$)</p>\n",
    "<br>\n",
    "Document your work, evaluate the results, and analyse the outcomes in each subtasks 4.1-4.3.\n",
    "    \n",
    "</div>"
   ]
  },
  {
   "cell_type": "code",
   "execution_count": 116,
   "metadata": {},
   "outputs": [],
   "source": [
    "# 4.1\n",
    "\n",
    "### Your code begins here ###\n",
    "\n",
    "\n",
    "### Your code ends here ###"
   ]
  },
  {
   "cell_type": "code",
   "execution_count": null,
   "metadata": {},
   "outputs": [],
   "source": [
    "# 4.2\n",
    "\n",
    "### Your code begins here ###\n",
    "\n",
    "### Your code ends here ###"
   ]
  },
  {
   "cell_type": "code",
   "execution_count": null,
   "metadata": {},
   "outputs": [],
   "source": [
    "# 4.3\n",
    "\n",
    "### Your code begins here ###\n",
    "\n",
    "### Your code ends here ###"
   ]
  },
  {
   "cell_type": "markdown",
   "metadata": {
    "nbgrader": {
     "grade": false,
     "grade_id": "cell-d4f13fd6c3cbb70d",
     "locked": true,
     "schema_version": 3,
     "solution": false,
     "task": false
    }
   },
   "source": [
    "# 5. Bonus task: Multimodal biometric identification of persons (optional)"
   ]
  },
  {
   "cell_type": "markdown",
   "metadata": {
    "nbgrader": {
     "grade": false,
     "grade_id": "cell-e082ae9d74f6755a",
     "locked": true,
     "schema_version": 3,
     "solution": false,
     "task": false
    }
   },
   "source": [
    "<a id='task5'></a>\n",
    "<div class=\" alert alert-warning\">\n",
    "    <b>Assigment.</b> <b>Task 5.</b>\n",
    "\n",
    "Can you build a classifier that recognizes the person who is performing the exercise? Use same 10 person dataset and split it so that first 25% of each long exercise sequence is used for training and rest 75% of each sequence is used for testing the classifier. Use same 5 second windowing with 3 seconds overlap to prepare the examples. Note that, now the person identity is the class label instead of exercise type. Max. 10 points are given but you can earn points from partial solution, as well.\n",
    "<br> \n",
    "<br> \n",
    "<p> <b>5.1</b> Build a classifier to identify persons based on the features and one of the models given in task 4 (max. 5 points).</p>\n",
    "<br> \n",
    "<p> <b>5.2</b> Can you build your own solution (using new features, new classification model or different fusion approaches) to beat the approach in Task 5.1 ? (max. 5 points) </p>\n",
    "<br>  \n",
    "Document your work. Evaluate and compare the results using confusion matrix and F1 score.\n",
    "\n",
    "</div>"
   ]
  },
  {
   "cell_type": "code",
   "execution_count": null,
   "metadata": {},
   "outputs": [],
   "source": [
    "# 5.1\n",
    "\n",
    "### Your code begins here ###\n",
    "\n",
    "### Your code ends here ###"
   ]
  },
  {
   "cell_type": "code",
   "execution_count": null,
   "metadata": {},
   "outputs": [],
   "source": [
    "# 5.2\n",
    "\n",
    "### Your code begins here ###\n",
    "\n",
    "### Your code ends here ###"
   ]
  }
 ],
 "metadata": {
  "celltoolbar": "Create Assignment",
  "kernelspec": {
   "display_name": "Python 3 (ipykernel)",
   "language": "python",
   "name": "python3"
  },
  "language_info": {
   "codemirror_mode": {
    "name": "ipython",
    "version": 3
   },
   "file_extension": ".py",
   "mimetype": "text/x-python",
   "name": "python",
   "nbconvert_exporter": "python",
   "pygments_lexer": "ipython3",
   "version": "3.9.2"
  },
  "varInspector": {
   "cols": {
    "lenName": 16,
    "lenType": 16,
    "lenVar": 40
   },
   "kernels_config": {
    "python": {
     "delete_cmd_postfix": "",
     "delete_cmd_prefix": "del ",
     "library": "var_list.py",
     "varRefreshCmd": "print(var_dic_list())"
    },
    "r": {
     "delete_cmd_postfix": ") ",
     "delete_cmd_prefix": "rm(",
     "library": "var_list.r",
     "varRefreshCmd": "cat(var_dic_list()) "
    }
   },
   "types_to_exclude": [
    "module",
    "function",
    "builtin_function_or_method",
    "instance",
    "_Feature"
   ],
   "window_display": false
  }
 },
 "nbformat": 4,
 "nbformat_minor": 4
}
